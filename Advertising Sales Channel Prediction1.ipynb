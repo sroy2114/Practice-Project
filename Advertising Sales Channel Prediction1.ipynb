{
 "cells": [
  {
   "cell_type": "markdown",
   "id": "5a106cfb",
   "metadata": {},
   "source": [
    "# Advertising Sales Channel Prediction Case Study"
   ]
  },
  {
   "cell_type": "markdown",
   "id": "965ca5fa",
   "metadata": {},
   "source": [
    "###### When a company enters a market, the distribution strategy and channel it uses are keys to its success in the market, as well as market know-how and customer knowledge and understanding. Because an effective distribution strategy under efficient supply-chain management opens doors for attaining competitive advantage and strong brand equity in the market, it is a component of the marketing mix that cannot be ignored . The distribution strategy and the channel design have to be right the first time. The case study of Sales channel includes the detailed study of TV, radio and newspaper channel. The predict the total sales generated from all the sales channel.  "
   ]
  },
  {
   "cell_type": "markdown",
   "id": "f707bd2c",
   "metadata": {},
   "source": [
    "## Importing Libraries"
   ]
  },
  {
   "cell_type": "code",
   "execution_count": 2,
   "id": "bb8552c8",
   "metadata": {},
   "outputs": [],
   "source": [
    "import pandas as pd\n",
    "import pandas as pd\n",
    "import matplotlib.pyplot as plt\n",
    "import seaborn as sns\n",
    "import warnings\n",
    "warnings.filterwarnings('ignore')"
   ]
  },
  {
   "cell_type": "markdown",
   "id": "24d0e61b",
   "metadata": {},
   "source": [
    "## Importing Dataset"
   ]
  },
  {
   "cell_type": "code",
   "execution_count": 3,
   "id": "6a1daebc",
   "metadata": {},
   "outputs": [],
   "source": [
    "df=pd.read_csv('https://raw.githubusercontent.com/dsrscientist/DSData/master/Advertising.csv')"
   ]
  },
  {
   "cell_type": "code",
   "execution_count": 4,
   "id": "9c640d70",
   "metadata": {},
   "outputs": [
    {
     "data": {
      "text/html": [
       "<div>\n",
       "<style scoped>\n",
       "    .dataframe tbody tr th:only-of-type {\n",
       "        vertical-align: middle;\n",
       "    }\n",
       "\n",
       "    .dataframe tbody tr th {\n",
       "        vertical-align: top;\n",
       "    }\n",
       "\n",
       "    .dataframe thead th {\n",
       "        text-align: right;\n",
       "    }\n",
       "</style>\n",
       "<table border=\"1\" class=\"dataframe\">\n",
       "  <thead>\n",
       "    <tr style=\"text-align: right;\">\n",
       "      <th></th>\n",
       "      <th>Unnamed: 0</th>\n",
       "      <th>TV</th>\n",
       "      <th>radio</th>\n",
       "      <th>newspaper</th>\n",
       "      <th>sales</th>\n",
       "    </tr>\n",
       "  </thead>\n",
       "  <tbody>\n",
       "    <tr>\n",
       "      <th>0</th>\n",
       "      <td>1</td>\n",
       "      <td>230.1</td>\n",
       "      <td>37.8</td>\n",
       "      <td>69.2</td>\n",
       "      <td>22.1</td>\n",
       "    </tr>\n",
       "    <tr>\n",
       "      <th>1</th>\n",
       "      <td>2</td>\n",
       "      <td>44.5</td>\n",
       "      <td>39.3</td>\n",
       "      <td>45.1</td>\n",
       "      <td>10.4</td>\n",
       "    </tr>\n",
       "    <tr>\n",
       "      <th>2</th>\n",
       "      <td>3</td>\n",
       "      <td>17.2</td>\n",
       "      <td>45.9</td>\n",
       "      <td>69.3</td>\n",
       "      <td>9.3</td>\n",
       "    </tr>\n",
       "    <tr>\n",
       "      <th>3</th>\n",
       "      <td>4</td>\n",
       "      <td>151.5</td>\n",
       "      <td>41.3</td>\n",
       "      <td>58.5</td>\n",
       "      <td>18.5</td>\n",
       "    </tr>\n",
       "    <tr>\n",
       "      <th>4</th>\n",
       "      <td>5</td>\n",
       "      <td>180.8</td>\n",
       "      <td>10.8</td>\n",
       "      <td>58.4</td>\n",
       "      <td>12.9</td>\n",
       "    </tr>\n",
       "    <tr>\n",
       "      <th>...</th>\n",
       "      <td>...</td>\n",
       "      <td>...</td>\n",
       "      <td>...</td>\n",
       "      <td>...</td>\n",
       "      <td>...</td>\n",
       "    </tr>\n",
       "    <tr>\n",
       "      <th>195</th>\n",
       "      <td>196</td>\n",
       "      <td>38.2</td>\n",
       "      <td>3.7</td>\n",
       "      <td>13.8</td>\n",
       "      <td>7.6</td>\n",
       "    </tr>\n",
       "    <tr>\n",
       "      <th>196</th>\n",
       "      <td>197</td>\n",
       "      <td>94.2</td>\n",
       "      <td>4.9</td>\n",
       "      <td>8.1</td>\n",
       "      <td>9.7</td>\n",
       "    </tr>\n",
       "    <tr>\n",
       "      <th>197</th>\n",
       "      <td>198</td>\n",
       "      <td>177.0</td>\n",
       "      <td>9.3</td>\n",
       "      <td>6.4</td>\n",
       "      <td>12.8</td>\n",
       "    </tr>\n",
       "    <tr>\n",
       "      <th>198</th>\n",
       "      <td>199</td>\n",
       "      <td>283.6</td>\n",
       "      <td>42.0</td>\n",
       "      <td>66.2</td>\n",
       "      <td>25.5</td>\n",
       "    </tr>\n",
       "    <tr>\n",
       "      <th>199</th>\n",
       "      <td>200</td>\n",
       "      <td>232.1</td>\n",
       "      <td>8.6</td>\n",
       "      <td>8.7</td>\n",
       "      <td>13.4</td>\n",
       "    </tr>\n",
       "  </tbody>\n",
       "</table>\n",
       "<p>200 rows × 5 columns</p>\n",
       "</div>"
      ],
      "text/plain": [
       "     Unnamed: 0     TV  radio  newspaper  sales\n",
       "0             1  230.1   37.8       69.2   22.1\n",
       "1             2   44.5   39.3       45.1   10.4\n",
       "2             3   17.2   45.9       69.3    9.3\n",
       "3             4  151.5   41.3       58.5   18.5\n",
       "4             5  180.8   10.8       58.4   12.9\n",
       "..          ...    ...    ...        ...    ...\n",
       "195         196   38.2    3.7       13.8    7.6\n",
       "196         197   94.2    4.9        8.1    9.7\n",
       "197         198  177.0    9.3        6.4   12.8\n",
       "198         199  283.6   42.0       66.2   25.5\n",
       "199         200  232.1    8.6        8.7   13.4\n",
       "\n",
       "[200 rows x 5 columns]"
      ]
     },
     "execution_count": 4,
     "metadata": {},
     "output_type": "execute_result"
    }
   ],
   "source": [
    "df"
   ]
  },
  {
   "cell_type": "code",
   "execution_count": 5,
   "id": "742a42f0",
   "metadata": {},
   "outputs": [
    {
     "data": {
      "text/html": [
       "<div>\n",
       "<style scoped>\n",
       "    .dataframe tbody tr th:only-of-type {\n",
       "        vertical-align: middle;\n",
       "    }\n",
       "\n",
       "    .dataframe tbody tr th {\n",
       "        vertical-align: top;\n",
       "    }\n",
       "\n",
       "    .dataframe thead th {\n",
       "        text-align: right;\n",
       "    }\n",
       "</style>\n",
       "<table border=\"1\" class=\"dataframe\">\n",
       "  <thead>\n",
       "    <tr style=\"text-align: right;\">\n",
       "      <th></th>\n",
       "      <th>Unnamed: 0</th>\n",
       "      <th>TV</th>\n",
       "      <th>radio</th>\n",
       "      <th>newspaper</th>\n",
       "      <th>sales</th>\n",
       "    </tr>\n",
       "  </thead>\n",
       "  <tbody>\n",
       "    <tr>\n",
       "      <th>0</th>\n",
       "      <td>1</td>\n",
       "      <td>230.1</td>\n",
       "      <td>37.8</td>\n",
       "      <td>69.2</td>\n",
       "      <td>22.1</td>\n",
       "    </tr>\n",
       "    <tr>\n",
       "      <th>1</th>\n",
       "      <td>2</td>\n",
       "      <td>44.5</td>\n",
       "      <td>39.3</td>\n",
       "      <td>45.1</td>\n",
       "      <td>10.4</td>\n",
       "    </tr>\n",
       "    <tr>\n",
       "      <th>2</th>\n",
       "      <td>3</td>\n",
       "      <td>17.2</td>\n",
       "      <td>45.9</td>\n",
       "      <td>69.3</td>\n",
       "      <td>9.3</td>\n",
       "    </tr>\n",
       "    <tr>\n",
       "      <th>3</th>\n",
       "      <td>4</td>\n",
       "      <td>151.5</td>\n",
       "      <td>41.3</td>\n",
       "      <td>58.5</td>\n",
       "      <td>18.5</td>\n",
       "    </tr>\n",
       "    <tr>\n",
       "      <th>4</th>\n",
       "      <td>5</td>\n",
       "      <td>180.8</td>\n",
       "      <td>10.8</td>\n",
       "      <td>58.4</td>\n",
       "      <td>12.9</td>\n",
       "    </tr>\n",
       "  </tbody>\n",
       "</table>\n",
       "</div>"
      ],
      "text/plain": [
       "   Unnamed: 0     TV  radio  newspaper  sales\n",
       "0           1  230.1   37.8       69.2   22.1\n",
       "1           2   44.5   39.3       45.1   10.4\n",
       "2           3   17.2   45.9       69.3    9.3\n",
       "3           4  151.5   41.3       58.5   18.5\n",
       "4           5  180.8   10.8       58.4   12.9"
      ]
     },
     "execution_count": 5,
     "metadata": {},
     "output_type": "execute_result"
    }
   ],
   "source": [
    "df.head()"
   ]
  },
  {
   "cell_type": "code",
   "execution_count": 6,
   "id": "39b3cf19",
   "metadata": {},
   "outputs": [
    {
     "data": {
      "text/html": [
       "<div>\n",
       "<style scoped>\n",
       "    .dataframe tbody tr th:only-of-type {\n",
       "        vertical-align: middle;\n",
       "    }\n",
       "\n",
       "    .dataframe tbody tr th {\n",
       "        vertical-align: top;\n",
       "    }\n",
       "\n",
       "    .dataframe thead th {\n",
       "        text-align: right;\n",
       "    }\n",
       "</style>\n",
       "<table border=\"1\" class=\"dataframe\">\n",
       "  <thead>\n",
       "    <tr style=\"text-align: right;\">\n",
       "      <th></th>\n",
       "      <th>Unnamed: 0</th>\n",
       "      <th>TV</th>\n",
       "      <th>radio</th>\n",
       "      <th>newspaper</th>\n",
       "      <th>sales</th>\n",
       "    </tr>\n",
       "  </thead>\n",
       "  <tbody>\n",
       "    <tr>\n",
       "      <th>195</th>\n",
       "      <td>196</td>\n",
       "      <td>38.2</td>\n",
       "      <td>3.7</td>\n",
       "      <td>13.8</td>\n",
       "      <td>7.6</td>\n",
       "    </tr>\n",
       "    <tr>\n",
       "      <th>196</th>\n",
       "      <td>197</td>\n",
       "      <td>94.2</td>\n",
       "      <td>4.9</td>\n",
       "      <td>8.1</td>\n",
       "      <td>9.7</td>\n",
       "    </tr>\n",
       "    <tr>\n",
       "      <th>197</th>\n",
       "      <td>198</td>\n",
       "      <td>177.0</td>\n",
       "      <td>9.3</td>\n",
       "      <td>6.4</td>\n",
       "      <td>12.8</td>\n",
       "    </tr>\n",
       "    <tr>\n",
       "      <th>198</th>\n",
       "      <td>199</td>\n",
       "      <td>283.6</td>\n",
       "      <td>42.0</td>\n",
       "      <td>66.2</td>\n",
       "      <td>25.5</td>\n",
       "    </tr>\n",
       "    <tr>\n",
       "      <th>199</th>\n",
       "      <td>200</td>\n",
       "      <td>232.1</td>\n",
       "      <td>8.6</td>\n",
       "      <td>8.7</td>\n",
       "      <td>13.4</td>\n",
       "    </tr>\n",
       "  </tbody>\n",
       "</table>\n",
       "</div>"
      ],
      "text/plain": [
       "     Unnamed: 0     TV  radio  newspaper  sales\n",
       "195         196   38.2    3.7       13.8    7.6\n",
       "196         197   94.2    4.9        8.1    9.7\n",
       "197         198  177.0    9.3        6.4   12.8\n",
       "198         199  283.6   42.0       66.2   25.5\n",
       "199         200  232.1    8.6        8.7   13.4"
      ]
     },
     "execution_count": 6,
     "metadata": {},
     "output_type": "execute_result"
    }
   ],
   "source": [
    "df.tail()"
   ]
  },
  {
   "cell_type": "code",
   "execution_count": 7,
   "id": "ffef5138",
   "metadata": {},
   "outputs": [
    {
     "data": {
      "text/plain": [
       "(200, 5)"
      ]
     },
     "execution_count": 7,
     "metadata": {},
     "output_type": "execute_result"
    }
   ],
   "source": [
    "df.shape"
   ]
  },
  {
   "cell_type": "code",
   "execution_count": 8,
   "id": "24f57ae7",
   "metadata": {},
   "outputs": [
    {
     "data": {
      "text/plain": [
       "Index(['Unnamed: 0', 'TV', 'radio', 'newspaper', 'sales'], dtype='object')"
      ]
     },
     "execution_count": 8,
     "metadata": {},
     "output_type": "execute_result"
    }
   ],
   "source": [
    "# checking columns\n",
    "df.columns"
   ]
  },
  {
   "cell_type": "code",
   "execution_count": 9,
   "id": "7ff1799a",
   "metadata": {},
   "outputs": [
    {
     "data": {
      "text/plain": [
       "Unnamed: 0    0\n",
       "TV            0\n",
       "radio         0\n",
       "newspaper     0\n",
       "sales         0\n",
       "dtype: int64"
      ]
     },
     "execution_count": 9,
     "metadata": {},
     "output_type": "execute_result"
    }
   ],
   "source": [
    "# checking null values\n",
    "df.isnull().sum()"
   ]
  },
  {
   "cell_type": "markdown",
   "id": "c212a89d",
   "metadata": {},
   "source": [
    "#checking null values through HeatMap"
   ]
  },
  {
   "cell_type": "code",
   "execution_count": 10,
   "id": "63a85115",
   "metadata": {},
   "outputs": [
    {
     "data": {
      "image/png": "[encoded data removed]",
      "text/plain": [
       "<Figure size 432x288 with 2 Axes>"
      ]
     },
     "metadata": {
      "needs_background": "light"
     },
     "output_type": "display_data"
    }
   ],
   "source": [
    "import seaborn as sns\n",
    "import matplotlib.pyplot as plt\n",
    "\n",
    "sns.heatmap(df.isnull())\n",
    "plt.title(\"Null Values\")\n",
    "plt.show()"
   ]
  },
  {
   "cell_type": "markdown",
   "id": "9bd61fa0",
   "metadata": {},
   "source": [
    "#No null vlues present in the Dataset"
   ]
  },
  {
   "cell_type": "code",
   "execution_count": 11,
   "id": "d374d94c",
   "metadata": {},
   "outputs": [
    {
     "name": "stdout",
     "output_type": "stream",
     "text": [
      "<class 'pandas.core.frame.DataFrame'>\n",
      "RangeIndex: 200 entries, 0 to 199\n",
      "Data columns (total 5 columns):\n",
      " #   Column      Non-Null Count  Dtype  \n",
      "---  ------      --------------  -----  \n",
      " 0   Unnamed: 0  200 non-null    int64  \n",
      " 1   TV          200 non-null    float64\n",
      " 2   radio       200 non-null    float64\n",
      " 3   newspaper   200 non-null    float64\n",
      " 4   sales       200 non-null    float64\n",
      "dtypes: float64(4), int64(1)\n",
      "memory usage: 7.9 KB\n"
     ]
    }
   ],
   "source": [
    "df.info()"
   ]
  },
  {
   "cell_type": "markdown",
   "id": "16a7ceaf",
   "metadata": {},
   "source": [
    "All the datas are in float"
   ]
  },
  {
   "cell_type": "markdown",
   "id": "70f3616c",
   "metadata": {},
   "source": [
    "# EDA"
   ]
  },
  {
   "cell_type": "code",
   "execution_count": 12,
   "id": "b62fe267",
   "metadata": {},
   "outputs": [
    {
     "data": {
      "text/plain": [
       "<seaborn.axisgrid.FacetGrid at 0x20e3d559580>"
      ]
     },
     "execution_count": 12,
     "metadata": {},
     "output_type": "execute_result"
    },
    {
     "data": {
      "image/png": "[encoded data removed]",
      "text/plain": [
       "<Figure size 360x360 with 1 Axes>"
      ]
     },
     "metadata": {
      "needs_background": "light"
     },
     "output_type": "display_data"
    }
   ],
   "source": [
    "sns.displot(df['TV'])"
   ]
  },
  {
   "cell_type": "code",
   "execution_count": 13,
   "id": "17f8b38f",
   "metadata": {},
   "outputs": [
    {
     "data": {
      "text/plain": [
       "<seaborn.axisgrid.FacetGrid at 0x20e3a56dd00>"
      ]
     },
     "execution_count": 13,
     "metadata": {},
     "output_type": "execute_result"
    },
    {
     "data": {
      "image/png": "[encoded data removed]",
      "text/plain": [
       "<Figure size 360x360 with 1 Axes>"
      ]
     },
     "metadata": {
      "needs_background": "light"
     },
     "output_type": "display_data"
    }
   ],
   "source": [
    "sns.displot(df['radio'],kind='hist')"
   ]
  },
  {
   "cell_type": "code",
   "execution_count": 15,
   "id": "ffe14280",
   "metadata": {},
   "outputs": [
    {
     "data": {
      "text/plain": [
       "<seaborn.axisgrid.FacetGrid at 0x20e3d50b340>"
      ]
     },
     "execution_count": 15,
     "metadata": {},
     "output_type": "execute_result"
    },
    {
     "data": {
      "image/png": "[encoded data removed]",
      "text/plain": [
       "<Figure size 360x360 with 1 Axes>"
      ]
     },
     "metadata": {
      "needs_background": "light"
     },
     "output_type": "display_data"
    }
   ],
   "source": [
    "sns.displot(df['newspaper'],kind='hist')"
   ]
  },
  {
   "cell_type": "code",
   "execution_count": 16,
   "id": "91864dd6",
   "metadata": {},
   "outputs": [
    {
     "data": {
      "text/plain": [
       "<seaborn.axisgrid.FacetGrid at 0x20e3d76c910>"
      ]
     },
     "execution_count": 16,
     "metadata": {},
     "output_type": "execute_result"
    },
    {
     "data": {
      "image/png": "[encoded data removed]",
      "text/plain": [
       "<Figure size 360x360 with 1 Axes>"
      ]
     },
     "metadata": {
      "needs_background": "light"
     },
     "output_type": "display_data"
    }
   ],
   "source": [
    "sns.displot(df['sales'],kind='hist')"
   ]
  },
  {
   "cell_type": "markdown",
   "id": "ee01431d",
   "metadata": {},
   "source": [
    "the sales is normally distributed "
   ]
  },
  {
   "cell_type": "code",
   "execution_count": 17,
   "id": "ac49b3be",
   "metadata": {},
   "outputs": [
    {
     "data": {
      "text/plain": [
       "array([[<AxesSubplot:title={'center':'Unnamed: 0'}>,\n",
       "        <AxesSubplot:title={'center':'TV'}>],\n",
       "       [<AxesSubplot:title={'center':'radio'}>,\n",
       "        <AxesSubplot:title={'center':'newspaper'}>],\n",
       "       [<AxesSubplot:title={'center':'sales'}>, <AxesSubplot:>]],\n",
       "      dtype=object)"
      ]
     },
     "execution_count": 17,
     "metadata": {},
     "output_type": "execute_result"
    },
    {
     "data": {
      "image/png": "[encoded data removed]",
      "text/plain": [
       "<Figure size 1440x720 with 6 Axes>"
      ]
     },
     "metadata": {
      "needs_background": "light"
     },
     "output_type": "display_data"
    }
   ],
   "source": [
    "df.hist(figsize=(20,10), grid=False, layout=(3,2), bins = 30)"
   ]
  },
  {
   "cell_type": "code",
   "execution_count": 18,
   "id": "de263809",
   "metadata": {},
   "outputs": [
    {
     "data": {
      "text/plain": [
       "<seaborn.axisgrid.PairGrid at 0x20e3db1a6d0>"
      ]
     },
     "execution_count": 18,
     "metadata": {},
     "output_type": "execute_result"
    },
    {
     "data": {
      "image/png": "[encoded data removed]",
      "text/plain": [
       "<Figure size 900x900 with 30 Axes>"
      ]
     },
     "metadata": {
      "needs_background": "light"
     },
     "output_type": "display_data"
    }
   ],
   "source": [
    "sns.pairplot(df)"
   ]
  },
  {
   "cell_type": "markdown",
   "id": "aeafe507",
   "metadata": {},
   "source": [
    "### Coorelation"
   ]
  },
  {
   "cell_type": "code",
   "execution_count": 19,
   "id": "84be8d03",
   "metadata": {},
   "outputs": [
    {
     "data": {
      "text/html": [
       "<div>\n",
       "<style scoped>\n",
       "    .dataframe tbody tr th:only-of-type {\n",
       "        vertical-align: middle;\n",
       "    }\n",
       "\n",
       "    .dataframe tbody tr th {\n",
       "        vertical-align: top;\n",
       "    }\n",
       "\n",
       "    .dataframe thead th {\n",
       "        text-align: right;\n",
       "    }\n",
       "</style>\n",
       "<table border=\"1\" class=\"dataframe\">\n",
       "  <thead>\n",
       "    <tr style=\"text-align: right;\">\n",
       "      <th></th>\n",
       "      <th>Unnamed: 0</th>\n",
       "      <th>TV</th>\n",
       "      <th>radio</th>\n",
       "      <th>newspaper</th>\n",
       "      <th>sales</th>\n",
       "    </tr>\n",
       "  </thead>\n",
       "  <tbody>\n",
       "    <tr>\n",
       "      <th>Unnamed: 0</th>\n",
       "      <td>1.000000</td>\n",
       "      <td>0.017715</td>\n",
       "      <td>-0.110680</td>\n",
       "      <td>-0.154944</td>\n",
       "      <td>-0.051616</td>\n",
       "    </tr>\n",
       "    <tr>\n",
       "      <th>TV</th>\n",
       "      <td>0.017715</td>\n",
       "      <td>1.000000</td>\n",
       "      <td>0.054809</td>\n",
       "      <td>0.056648</td>\n",
       "      <td>0.782224</td>\n",
       "    </tr>\n",
       "    <tr>\n",
       "      <th>radio</th>\n",
       "      <td>-0.110680</td>\n",
       "      <td>0.054809</td>\n",
       "      <td>1.000000</td>\n",
       "      <td>0.354104</td>\n",
       "      <td>0.576223</td>\n",
       "    </tr>\n",
       "    <tr>\n",
       "      <th>newspaper</th>\n",
       "      <td>-0.154944</td>\n",
       "      <td>0.056648</td>\n",
       "      <td>0.354104</td>\n",
       "      <td>1.000000</td>\n",
       "      <td>0.228299</td>\n",
       "    </tr>\n",
       "    <tr>\n",
       "      <th>sales</th>\n",
       "      <td>-0.051616</td>\n",
       "      <td>0.782224</td>\n",
       "      <td>0.576223</td>\n",
       "      <td>0.228299</td>\n",
       "      <td>1.000000</td>\n",
       "    </tr>\n",
       "  </tbody>\n",
       "</table>\n",
       "</div>"
      ],
      "text/plain": [
       "            Unnamed: 0        TV     radio  newspaper     sales\n",
       "Unnamed: 0    1.000000  0.017715 -0.110680  -0.154944 -0.051616\n",
       "TV            0.017715  1.000000  0.054809   0.056648  0.782224\n",
       "radio        -0.110680  0.054809  1.000000   0.354104  0.576223\n",
       "newspaper    -0.154944  0.056648  0.354104   1.000000  0.228299\n",
       "sales        -0.051616  0.782224  0.576223   0.228299  1.000000"
      ]
     },
     "execution_count": 19,
     "metadata": {},
     "output_type": "execute_result"
    }
   ],
   "source": [
    "df.corr()"
   ]
  },
  {
   "cell_type": "code",
   "execution_count": 20,
   "id": "d5c408fc",
   "metadata": {},
   "outputs": [
    {
     "data": {
      "text/plain": [
       "Unnamed: 0   -0.051616\n",
       "newspaper     0.228299\n",
       "radio         0.576223\n",
       "TV            0.782224\n",
       "sales         1.000000\n",
       "Name: sales, dtype: float64"
      ]
     },
     "execution_count": 20,
     "metadata": {},
     "output_type": "execute_result"
    }
   ],
   "source": [
    "df.corr()['sales'].sort_values()"
   ]
  },
  {
   "cell_type": "code",
   "execution_count": 24,
   "id": "3be6ec8e",
   "metadata": {},
   "outputs": [
    {
     "data": {
      "text/plain": [
       "<AxesSubplot:>"
      ]
     },
     "execution_count": 24,
     "metadata": {},
     "output_type": "execute_result"
    },
    {
     "data": {
      "image/png": "[encoded data removed]",
      "text/plain": [
       "<Figure size 1296x720 with 2 Axes>"
      ]
     },
     "metadata": {
      "needs_background": "light"
     },
     "output_type": "display_data"
    }
   ],
   "source": [
    "import matplotlib.pyplot as plt\n",
    "import seaborn as sns\n",
    "plt.figure(figsize=(18,10))\n",
    "sns.heatmap(df.corr(), annot=True, linewidths=0.5,linecolor=\"black\", fmt='.2f')"
   ]
  },
  {
   "cell_type": "markdown",
   "id": "941502b4",
   "metadata": {},
   "source": [
    "Outcome of Coorelation\n",
    "1. Tv has a coorelation of 78% with the sales \n",
    "2. Radio has a coorelation of 58% with the sales\n",
    "3. Newspaper has a coorelation of 23% with the sales "
   ]
  },
  {
   "cell_type": "markdown",
   "id": "afc0abac",
   "metadata": {},
   "source": [
    "Removing columns which are not required"
   ]
  },
  {
   "cell_type": "code",
   "execution_count": 22,
   "id": "4ca7ed76",
   "metadata": {},
   "outputs": [],
   "source": [
    "df.drop(['Unnamed: 0'],axis=1,inplace=True)"
   ]
  },
  {
   "cell_type": "markdown",
   "id": "fec68d47",
   "metadata": {},
   "source": [
    "### Descriptive Statistics"
   ]
  },
  {
   "cell_type": "code",
   "execution_count": 23,
   "id": "4e38bfbf",
   "metadata": {},
   "outputs": [
    {
     "data": {
      "text/html": [
       "<div>\n",
       "<style scoped>\n",
       "    .dataframe tbody tr th:only-of-type {\n",
       "        vertical-align: middle;\n",
       "    }\n",
       "\n",
       "    .dataframe tbody tr th {\n",
       "        vertical-align: top;\n",
       "    }\n",
       "\n",
       "    .dataframe thead th {\n",
       "        text-align: right;\n",
       "    }\n",
       "</style>\n",
       "<table border=\"1\" class=\"dataframe\">\n",
       "  <thead>\n",
       "    <tr style=\"text-align: right;\">\n",
       "      <th></th>\n",
       "      <th>TV</th>\n",
       "      <th>radio</th>\n",
       "      <th>newspaper</th>\n",
       "      <th>sales</th>\n",
       "    </tr>\n",
       "  </thead>\n",
       "  <tbody>\n",
       "    <tr>\n",
       "      <th>count</th>\n",
       "      <td>200.000000</td>\n",
       "      <td>200.000000</td>\n",
       "      <td>200.000000</td>\n",
       "      <td>200.000000</td>\n",
       "    </tr>\n",
       "    <tr>\n",
       "      <th>mean</th>\n",
       "      <td>147.042500</td>\n",
       "      <td>23.264000</td>\n",
       "      <td>30.554000</td>\n",
       "      <td>14.022500</td>\n",
       "    </tr>\n",
       "    <tr>\n",
       "      <th>std</th>\n",
       "      <td>85.854236</td>\n",
       "      <td>14.846809</td>\n",
       "      <td>21.778621</td>\n",
       "      <td>5.217457</td>\n",
       "    </tr>\n",
       "    <tr>\n",
       "      <th>min</th>\n",
       "      <td>0.700000</td>\n",
       "      <td>0.000000</td>\n",
       "      <td>0.300000</td>\n",
       "      <td>1.600000</td>\n",
       "    </tr>\n",
       "    <tr>\n",
       "      <th>25%</th>\n",
       "      <td>74.375000</td>\n",
       "      <td>9.975000</td>\n",
       "      <td>12.750000</td>\n",
       "      <td>10.375000</td>\n",
       "    </tr>\n",
       "    <tr>\n",
       "      <th>50%</th>\n",
       "      <td>149.750000</td>\n",
       "      <td>22.900000</td>\n",
       "      <td>25.750000</td>\n",
       "      <td>12.900000</td>\n",
       "    </tr>\n",
       "    <tr>\n",
       "      <th>75%</th>\n",
       "      <td>218.825000</td>\n",
       "      <td>36.525000</td>\n",
       "      <td>45.100000</td>\n",
       "      <td>17.400000</td>\n",
       "    </tr>\n",
       "    <tr>\n",
       "      <th>max</th>\n",
       "      <td>296.400000</td>\n",
       "      <td>49.600000</td>\n",
       "      <td>114.000000</td>\n",
       "      <td>27.000000</td>\n",
       "    </tr>\n",
       "  </tbody>\n",
       "</table>\n",
       "</div>"
      ],
      "text/plain": [
       "               TV       radio   newspaper       sales\n",
       "count  200.000000  200.000000  200.000000  200.000000\n",
       "mean   147.042500   23.264000   30.554000   14.022500\n",
       "std     85.854236   14.846809   21.778621    5.217457\n",
       "min      0.700000    0.000000    0.300000    1.600000\n",
       "25%     74.375000    9.975000   12.750000   10.375000\n",
       "50%    149.750000   22.900000   25.750000   12.900000\n",
       "75%    218.825000   36.525000   45.100000   17.400000\n",
       "max    296.400000   49.600000  114.000000   27.000000"
      ]
     },
     "execution_count": 23,
     "metadata": {},
     "output_type": "execute_result"
    }
   ],
   "source": [
    "df.describe()"
   ]
  },
  {
   "cell_type": "code",
   "execution_count": 25,
   "id": "1956715c",
   "metadata": {},
   "outputs": [
    {
     "data": {
      "text/plain": [
       "<AxesSubplot:>"
      ]
     },
     "execution_count": 25,
     "metadata": {},
     "output_type": "execute_result"
    },
    {
     "data": {
      "image/png": "[encoded data removed]",
      "text/plain": [
       "<Figure size 1296x720 with 2 Axes>"
      ]
     },
     "metadata": {
      "needs_background": "light"
     },
     "output_type": "display_data"
    }
   ],
   "source": [
    "plt.figure(figsize=(18,10))\n",
    "sns.heatmap(round(df.describe()[1:].transpose(),2), annot=True, linewidths=0.5,linecolor=\"black\", fmt='f')"
   ]
  },
  {
   "cell_type": "markdown",
   "id": "889edae1",
   "metadata": {},
   "source": [
    "### Checking skewness"
   ]
  },
  {
   "cell_type": "code",
   "execution_count": 26,
   "id": "dd0d1786",
   "metadata": {},
   "outputs": [
    {
     "data": {
      "text/plain": [
       "TV          -0.069853\n",
       "radio        0.094175\n",
       "newspaper    0.894720\n",
       "dtype: float64"
      ]
     },
     "execution_count": 26,
     "metadata": {},
     "output_type": "execute_result"
    }
   ],
   "source": [
    "df.iloc[:,:-1].skew()"
   ]
  },
  {
   "cell_type": "markdown",
   "id": "6e4d91aa",
   "metadata": {},
   "source": [
    "Removing Skewness"
   ]
  },
  {
   "cell_type": "code",
   "execution_count": 27,
   "id": "07137420",
   "metadata": {},
   "outputs": [],
   "source": [
    "from sklearn.preprocessing import power_transform\n",
    "x_new=power_transform(df.iloc[:,:-1],method='yeo-johnson')\n",
    "\n",
    "df.iloc[:,:-1]=pd.DataFrame(x_new,columns=df.iloc[:,:-1].columns)"
   ]
  },
  {
   "cell_type": "code",
   "execution_count": 28,
   "id": "6c1fb22e",
   "metadata": {},
   "outputs": [
    {
     "data": {
      "text/plain": [
       "TV          -0.315199\n",
       "radio       -0.242968\n",
       "newspaper   -0.077942\n",
       "dtype: float64"
      ]
     },
     "execution_count": 28,
     "metadata": {},
     "output_type": "execute_result"
    }
   ],
   "source": [
    "df.iloc[:,:-1].skew()"
   ]
  },
  {
   "cell_type": "markdown",
   "id": "51eaacb0",
   "metadata": {},
   "source": [
    "### Checking Outliers"
   ]
  },
  {
   "cell_type": "code",
   "execution_count": 30,
   "id": "e29bbb06",
   "metadata": {},
   "outputs": [
    {
     "data": {
      "text/plain": [
       "TV              AxesSubplot(0.125,0.657941;0.352273x0.222059)\n",
       "radio        AxesSubplot(0.547727,0.657941;0.352273x0.222059)\n",
       "newspaper       AxesSubplot(0.125,0.391471;0.352273x0.222059)\n",
       "sales        AxesSubplot(0.547727,0.391471;0.352273x0.222059)\n",
       "dtype: object"
      ]
     },
     "execution_count": 30,
     "metadata": {},
     "output_type": "execute_result"
    },
    {
     "data": {
      "image/png": "[encoded data removed]",
      "text/plain": [
       "<Figure size 1296x720 with 6 Axes>"
      ]
     },
     "metadata": {
      "needs_background": "light"
     },
     "output_type": "display_data"
    }
   ],
   "source": [
    "import warnings\n",
    "warnings.filterwarnings('ignore')\n",
    "df.plot(kind='box',subplots=True, layout=(3,2), figsize=[18,10])"
   ]
  },
  {
   "cell_type": "markdown",
   "id": "b1d5d595",
   "metadata": {},
   "source": [
    "No outliers present in the dataset"
   ]
  },
  {
   "cell_type": "code",
   "execution_count": 32,
   "id": "0c54f873",
   "metadata": {},
   "outputs": [
    {
     "data": {
      "text/plain": [
       "<AxesSubplot:>"
      ]
     },
     "execution_count": 32,
     "metadata": {},
     "output_type": "execute_result"
    },
    {
     "data": {
      "image/png": "[encoded data removed]",
      "text/plain": [
       "<Figure size 1296x720 with 2 Axes>"
      ]
     },
     "metadata": {
      "needs_background": "light"
     },
     "output_type": "display_data"
    }
   ],
   "source": [
    "import seaborn as sns\n",
    "plt.figure(figsize=(18,10))\n",
    "sns.heatmap(df.corr(),cmap=\"Greens\",annot=True)"
   ]
  },
  {
   "cell_type": "code",
   "execution_count": 43,
   "id": "f53fbcf3",
   "metadata": {},
   "outputs": [],
   "source": [
    "#independent Column\n",
    "x=df.iloc[:,:-1]\n",
    "#target\n",
    "y=df.iloc[:,-1]"
   ]
  },
  {
   "cell_type": "code",
   "execution_count": 44,
   "id": "0b54f0e9",
   "metadata": {},
   "outputs": [
    {
     "data": {
      "text/html": [
       "<div>\n",
       "<style scoped>\n",
       "    .dataframe tbody tr th:only-of-type {\n",
       "        vertical-align: middle;\n",
       "    }\n",
       "\n",
       "    .dataframe tbody tr th {\n",
       "        vertical-align: top;\n",
       "    }\n",
       "\n",
       "    .dataframe thead th {\n",
       "        text-align: right;\n",
       "    }\n",
       "</style>\n",
       "<table border=\"1\" class=\"dataframe\">\n",
       "  <thead>\n",
       "    <tr style=\"text-align: right;\">\n",
       "      <th></th>\n",
       "      <th>TV</th>\n",
       "      <th>radio</th>\n",
       "      <th>newspaper</th>\n",
       "    </tr>\n",
       "  </thead>\n",
       "  <tbody>\n",
       "    <tr>\n",
       "      <th>0</th>\n",
       "      <td>0.948674</td>\n",
       "      <td>0.962247</td>\n",
       "      <td>1.514335</td>\n",
       "    </tr>\n",
       "    <tr>\n",
       "      <th>1</th>\n",
       "      <td>-1.191314</td>\n",
       "      <td>1.040179</td>\n",
       "      <td>0.787683</td>\n",
       "    </tr>\n",
       "    <tr>\n",
       "      <th>2</th>\n",
       "      <td>-1.647757</td>\n",
       "      <td>1.370710</td>\n",
       "      <td>1.516998</td>\n",
       "    </tr>\n",
       "    <tr>\n",
       "      <th>3</th>\n",
       "      <td>0.141020</td>\n",
       "      <td>1.142387</td>\n",
       "      <td>1.214656</td>\n",
       "    </tr>\n",
       "    <tr>\n",
       "      <th>4</th>\n",
       "      <td>0.452715</td>\n",
       "      <td>-0.748651</td>\n",
       "      <td>1.211704</td>\n",
       "    </tr>\n",
       "    <tr>\n",
       "      <th>...</th>\n",
       "      <td>...</td>\n",
       "      <td>...</td>\n",
       "      <td>...</td>\n",
       "    </tr>\n",
       "    <tr>\n",
       "      <th>195</th>\n",
       "      <td>-1.287908</td>\n",
       "      <td>-1.431436</td>\n",
       "      <td>-0.682576</td>\n",
       "    </tr>\n",
       "    <tr>\n",
       "      <th>196</th>\n",
       "      <td>-0.520949</td>\n",
       "      <td>-1.297017</td>\n",
       "      <td>-1.142011</td>\n",
       "    </tr>\n",
       "    <tr>\n",
       "      <th>197</th>\n",
       "      <td>0.413091</td>\n",
       "      <td>-0.875492</td>\n",
       "      <td>-1.313050</td>\n",
       "    </tr>\n",
       "    <tr>\n",
       "      <th>198</th>\n",
       "      <td>1.455843</td>\n",
       "      <td>1.177722</td>\n",
       "      <td>1.433350</td>\n",
       "    </tr>\n",
       "    <tr>\n",
       "      <th>199</th>\n",
       "      <td>0.968161</td>\n",
       "      <td>-0.937083</td>\n",
       "      <td>-1.086425</td>\n",
       "    </tr>\n",
       "  </tbody>\n",
       "</table>\n",
       "<p>200 rows × 3 columns</p>\n",
       "</div>"
      ],
      "text/plain": [
       "           TV     radio  newspaper\n",
       "0    0.948674  0.962247   1.514335\n",
       "1   -1.191314  1.040179   0.787683\n",
       "2   -1.647757  1.370710   1.516998\n",
       "3    0.141020  1.142387   1.214656\n",
       "4    0.452715 -0.748651   1.211704\n",
       "..        ...       ...        ...\n",
       "195 -1.287908 -1.431436  -0.682576\n",
       "196 -0.520949 -1.297017  -1.142011\n",
       "197  0.413091 -0.875492  -1.313050\n",
       "198  1.455843  1.177722   1.433350\n",
       "199  0.968161 -0.937083  -1.086425\n",
       "\n",
       "[200 rows x 3 columns]"
      ]
     },
     "execution_count": 44,
     "metadata": {},
     "output_type": "execute_result"
    }
   ],
   "source": [
    "x"
   ]
  },
  {
   "cell_type": "code",
   "execution_count": 45,
   "id": "4b8a9160",
   "metadata": {},
   "outputs": [
    {
     "data": {
      "text/plain": [
       "0      22.1\n",
       "1      10.4\n",
       "2       9.3\n",
       "3      18.5\n",
       "4      12.9\n",
       "       ... \n",
       "195     7.6\n",
       "196     9.7\n",
       "197    12.8\n",
       "198    25.5\n",
       "199    13.4\n",
       "Name: sales, Length: 200, dtype: float64"
      ]
     },
     "execution_count": 45,
     "metadata": {},
     "output_type": "execute_result"
    }
   ],
   "source": [
    "y"
   ]
  },
  {
   "cell_type": "code",
   "execution_count": 48,
   "id": "13aa791b",
   "metadata": {},
   "outputs": [],
   "source": [
    "from statsmodels.stats.outliers_influence import variance_inflation_factor"
   ]
  },
  {
   "cell_type": "code",
   "execution_count": 49,
   "id": "8baec706",
   "metadata": {},
   "outputs": [],
   "source": [
    "def vif_calc():\n",
    "  vif=pd.DataFrame()\n",
    "  vif[\"VIF Factor\"]=[variance_inflation_factor(x.values,i) for i in range(x.shape[1])]\n",
    "  vif[\"features\"]=x.columns\n",
    "  print(vif)"
   ]
  },
  {
   "cell_type": "code",
   "execution_count": 50,
   "id": "1e1348d7",
   "metadata": {},
   "outputs": [
    {
     "name": "stdout",
     "output_type": "stream",
     "text": [
      "   VIF Factor   features\n",
      "0    1.003112         TV\n",
      "1    1.094332      radio\n",
      "2    1.093766  newspaper\n"
     ]
    }
   ],
   "source": [
    "vif_calc()"
   ]
  },
  {
   "cell_type": "markdown",
   "id": "893f2204",
   "metadata": {},
   "source": [
    "No variance inflation in the Dataset"
   ]
  },
  {
   "cell_type": "markdown",
   "id": "dba9f145",
   "metadata": {},
   "source": [
    "### Data Scaling"
   ]
  },
  {
   "cell_type": "code",
   "execution_count": 51,
   "id": "9c9724aa",
   "metadata": {},
   "outputs": [
    {
     "data": {
      "text/plain": [
       "array([[ 0.94867429,  0.96224689,  1.51433531],\n",
       "       [-1.19131426,  1.0401788 ,  0.78768252],\n",
       "       [-1.6477566 ,  1.37070964,  1.51699753],\n",
       "       [ 0.14102023,  1.14238689,  1.21465643],\n",
       "       [ 0.45271493, -0.74865064,  1.21170398],\n",
       "       [-1.82382233,  1.51501853,  1.66502354],\n",
       "       [-1.00249116,  0.69372704, -0.1077535 ],\n",
       "       [-0.210275  , -0.10158544, -0.84409341],\n",
       "       [-1.82609501, -1.63345378, -2.13259669],\n",
       "       [ 0.64764492, -1.56676988, -0.22900395],\n",
       "       [-0.88377378, -1.20298758, -0.07226156],\n",
       "       [ 0.79708355,  0.18072579, -1.60261898],\n",
       "       [-1.52641627,  0.81900563,  1.42512925],\n",
       "       [-0.48036844, -1.02813642, -1.22982506],\n",
       "       [ 0.69106577,  0.6992403 ,  0.81860579],\n",
       "       [ 0.60295713,  1.45770359,  1.04432344],\n",
       "       [-0.86079972,  0.89906999,  2.52943514],\n",
       "       [ 1.4355201 ,  1.05563142,  1.13383286],\n",
       "       [-0.84199328, -0.04209908, -0.39356015],\n",
       "       [ 0.09508551,  0.17453165, -0.34671544],\n",
       "       [ 0.8337607 ,  0.40367061,  1.05996548],\n",
       "       [ 1.01958629, -1.27567304, -0.1077535 ],\n",
       "       [-1.72701642, -0.35739289,  0.93875739],\n",
       "       [ 0.93109798, -0.28631129,  0.02589311],\n",
       "       [-0.93569772, -0.60431061, -0.39356015],\n",
       "       [ 1.26290943, -1.4550585 , -0.3237259 ],\n",
       "       [ 0.04659013,  0.49664406, -0.76867281],\n",
       "       [ 1.0456669 , -0.30040383, -0.1386789 ],\n",
       "       [ 1.12918152,  0.3682981 , -0.1386789 ],\n",
       "       [-0.82328646, -0.35021379,  0.63452018],\n",
       "       [ 1.54129731,  0.43876195,  0.72114861],\n",
       "       [-0.29553337, -0.25134036,  0.55235877],\n",
       "       [-0.48404243, -1.71918898,  0.20071936],\n",
       "       [ 1.28829734, -0.07502706, -2.32472495],\n",
       "       [-0.50245749, -1.7342107 , -1.20981332],\n",
       "       [ 1.52114819, -1.3853128 , -1.10471076],\n",
       "       [ 1.3004967 ,  1.2675887 , -1.47330873],\n",
       "       [-0.76905257,  1.53874417,  0.80833914],\n",
       "       [-1.21245403,  0.34455612,  0.4155984 ],\n",
       "       [ 0.92816503,  0.95701091,  0.28742321],\n",
       "       [ 0.67493776,  0.07409584,  0.27034854],\n",
       "       [ 0.41309098,  0.72671408,  0.55615392],\n",
       "       [ 1.54769995,  0.40367061, -1.95904851],\n",
       "       [ 0.71920943, -0.95499286,  0.03545918],\n",
       "       [-1.50359538,  0.28462118,  0.72469411],\n",
       "       [ 0.39319467,  0.08679116,  0.26605961],\n",
       "       [-0.57689562, -0.82396106,  0.43960934],\n",
       "       [ 1.04373768,  1.15250515, -0.3817378 ],\n",
       "       [ 0.92033882, -0.36458821,  0.94852755],\n",
       "       [-0.87294338, -0.67550361,  0.48300508],\n",
       "       [ 0.64764492, -1.50354208,  0.3953996 ],\n",
       "       [-0.44500506, -0.84958728, -1.65883577],\n",
       "       [ 0.81395585,  1.16260524,  0.59004665],\n",
       "       [ 0.47140703,  1.38529598,  1.22055211],\n",
       "       [ 1.2610261 ,  0.46779569, -0.54176985],\n",
       "       [ 0.63852563,  1.53874417,  1.25857888],\n",
       "       [-1.85624738,  0.42709558,  0.65646046],\n",
       "       [-0.02802214, -0.12834141, -0.49726342],\n",
       "       [ 0.75824197,  1.54820925,  0.51793191],\n",
       "       [ 0.75724354,  0.50813245, -1.03293213],\n",
       "       [-1.05927427, -1.64727037, -0.21815975],\n",
       "       [ 1.24783212,  1.21283741,  1.10022212],\n",
       "       [ 1.03794746, -0.38627294,  0.07797929],\n",
       "       [-0.41714955,  0.51386586, -1.11394312],\n",
       "       [-0.08546826,  1.21783637,  0.15154706],\n",
       "       [-0.84467375, -0.87549189, -2.1571572 ],\n",
       "       [-1.39531449,  0.21769395, -1.88378271],\n",
       "       [ 0.0066178 , -0.45966823, -0.95619942],\n",
       "       [ 1.01958629,  0.39191142, -0.8911416 ],\n",
       "       [ 0.81792069,  1.2725405 ,  0.07329661],\n",
       "       [ 0.64055308,  0.5708121 ,  0.55615392],\n",
       "       [-0.3321763 , -0.4745618 ,  0.27462933],\n",
       "       [-1.47420382,  0.70474737, -0.33518557],\n",
       "       [-0.10474749, -1.21318999,  0.25745713],\n",
       "       [ 0.7841573 ,  0.21769395, -0.73224866],\n",
       "       [-1.65352738,  1.26263268,  2.01064695],\n",
       "       [-1.46224158, -1.70439494, -0.25638211],\n",
       "       [-0.20680098,  0.45039797, -0.65484297],\n",
       "       [-1.90271957,  0.53102334, -1.02420602],\n",
       "       [-0.25915513, -1.01885558, -0.1283175 ],\n",
       "       [-0.74679627,  0.34455612, -0.17008941],\n",
       "       [ 1.04277291, -1.3853128 ,  0.48691113],\n",
       "       [-0.76118235, -0.05523482,  0.30858709],\n",
       "       [-0.85272745,  1.30216339,  0.43562451],\n",
       "       [ 0.78515237,  1.22782124,  0.36271243],\n",
       "       [ 0.58051341, -0.1824681 ,  1.41963599],\n",
       "       [-0.74810183,  0.39191142, -0.53534269],\n",
       "       [-0.32151022,  1.10682827,  1.35009138],\n",
       "       [-0.59445094,  0.27253204,  1.62418784],\n",
       "       [-0.3321763 ,  1.46250027,  0.99685054],\n",
       "       [-0.04935604, -1.29701657, -1.03293213],\n",
       "       [-1.44360046, -1.71918898,  0.32955606],\n",
       "       [ 0.8268345 ,  0.7321905 ,  1.22937273],\n",
       "       [ 1.14922339,  0.89377076,  1.59579653],\n",
       "       [-0.36073275, -0.49704225, -0.89912378],\n",
       "       [ 0.26831445,  0.62707446,  1.04432344],\n",
       "       [ 0.62533398, -1.4550585 , -1.3679351 ],\n",
       "       [ 0.49522053, -0.00946213, -0.18598289],\n",
       "       [ 1.51197614,  1.19279775,  0.99045745],\n",
       "       [-0.03924063,  1.16260524,  0.8151881 ],\n",
       "       [ 0.87322688, -1.36277082,  0.94527481],\n",
       "       [ 1.57327016,  0.88315609,  2.2628248 ],\n",
       "       [ 1.42441703, -0.80702634, -0.21815975],\n",
       "       [ 0.52616407, -0.26528466, -0.41743473],\n",
       "       [ 1.02732204,  0.77578583, -1.4371576 ],\n",
       "       [-0.00900053,  1.39500055,  1.22937273],\n",
       "       [-1.50533991, -0.73221674,  0.18741746],\n",
       "       [-0.56814506, -1.91962741, -0.12315678],\n",
       "       [-1.72906885, -1.90076688, -0.00306944],\n",
       "       [ 1.19202117,  0.35644335, -1.41364623],\n",
       "       [ 0.90662534, -0.97304835,  1.15501188],\n",
       "       [ 1.06108536,  0.97270342, -0.12315678],\n",
       "       [ 0.39948386, -0.39353456, -1.84832983],\n",
       "       [ 0.74625251, -0.0355487 , -0.91521378],\n",
       "       [-0.72337219,  1.41436293,  0.39133878],\n",
       "       [-0.76380392,  0.81362329,  1.03804144],\n",
       "       [ 0.00550359, -0.4745618 , -0.00306944],\n",
       "       [-0.74679627, -1.82997283, -0.6140794 ],\n",
       "       [-0.1469415 ,  0.91493549,  1.76974284],\n",
       "       [-1.60617806, -0.35021379, -0.17008941],\n",
       "       [ 0.02885793,  0.35050382,  0.82542768],\n",
       "       [-1.61739376,  0.0357579 ,  0.96473213],\n",
       "       [ 0.88896054, -1.59299019, -0.56119394],\n",
       "       [-0.17678774,  0.79203663, -0.78347482],\n",
       "       [ 0.94281959,  0.66606674,  1.64467302],\n",
       "       [-0.60829585, -0.66750027,  0.01146189],\n",
       "       [-1.84451116,  1.01950683,  0.9711866 ],\n",
       "       [-0.69751107, -1.9798635 , -1.04171092],\n",
       "       [ 0.85253082,  1.51977089, -1.71817136],\n",
       "       [-0.9730961 , -0.65156482,  0.71759813],\n",
       "       [-2.04026249,  1.05563142, -1.08642518],\n",
       "       [ 1.2845405 , -1.52845902,  0.71404265],\n",
       "       [-1.83065941,  0.37421339, -1.90202575],\n",
       "       [ 0.84759549,  0.7321905 ,  0.78768252],\n",
       "       [-1.30833884,  1.0039509 ,  1.41688552],\n",
       "       [-1.1347862 ,  1.42402092, -1.10471076],\n",
       "       [-1.49489926,  1.02468221, -1.03293213],\n",
       "       [ 1.36405418,  0.47358005,  1.2498484 ],\n",
       "       [-1.2139708 ,  0.2966758 , -0.26744284],\n",
       "       [ 0.49522053,  1.2725405 , -1.97889407],\n",
       "       [-0.78616198, -0.27928757, -0.74672069],\n",
       "       [ 0.58562018,  0.83511859,  1.68019945],\n",
       "       [ 0.85450412,  0.71574298,  0.52562487],\n",
       "       [-0.39426242, -1.21318999,  0.38727085],\n",
       "       [-0.49631074, -0.43746469,  0.56372647],\n",
       "       [ 0.01774834, -1.66126392, -1.05942991],\n",
       "       [ 1.0456669 , -1.05622936, -1.08642518],\n",
       "       [ 1.07551559,  1.51977089,  0.75987942],\n",
       "       [-1.29103896,  1.09151903, -0.82108927],\n",
       "       [-1.18830853,  0.29065278, -0.26190454],\n",
       "       [ 1.42904484, -0.50457379,  0.49081078],\n",
       "       [-0.20101603, -0.95499286,  0.90922967],\n",
       "       [ 0.62533398,  0.13716541, -0.65484297],\n",
       "       [ 0.35322947,  1.0607726 ,  0.51793191],\n",
       "       [ 0.52513474, -0.00296885, -1.01553176],\n",
       "       [-1.93665721, -0.68353104, -1.39057916],\n",
       "       [-0.52465633,  1.25270792,  0.96796131],\n",
       "       [ 0.12246872, -1.74947332, -0.06724139],\n",
       "       [-1.75822712,  0.91493549,  0.79113681],\n",
       "       [-0.07867963, -0.1824681 ,  0.3953996 ],\n",
       "       [ 0.36587519, -0.20298441,  0.23144984],\n",
       "       [-0.62724967,  0.85652391,  0.92895126],\n",
       "       [ 0.53130856, -0.20298441, -0.00306944],\n",
       "       [ 0.27045056,  0.90965233, -1.20981332],\n",
       "       [-0.24514238, -0.44484785, -1.42534498],\n",
       "       [ 0.99148599, -1.46701964,  1.90420913],\n",
       "       [-1.63438885,  0.95176976, -0.20737541],\n",
       "       [ 0.71820605, -1.26510158, -0.32944703],\n",
       "       [ 0.80403524,  0.15589202,  1.18797267],\n",
       "       [ 1.46230082, -0.76519122, -1.31304986],\n",
       "       [-1.10987617, -0.68353104, -0.38763953],\n",
       "       [ 0.28112073, -0.01596668,  0.86598739],\n",
       "       [-1.60245911, -0.06841773, -0.47232241],\n",
       "       [ 0.32257166, -1.07517365, -0.75400514],\n",
       "       [ 0.87322688, -1.46701964, -0.73224866],\n",
       "       [ 1.39381826,  1.51501853,  0.67098058],\n",
       "       [ 1.12535894,  0.54811736, -0.27856754],\n",
       "       [ 0.34161695, -1.00961537,  0.41961731],\n",
       "       [ 1.39196069, -1.60632069, -0.09754949],\n",
       "       [ 0.29283811, -0.81547901, -0.43554699],\n",
       "       [ 0.19634785, -1.56676988, -1.12323656],\n",
       "       [ 0.83474968, -1.2441519 ,  0.08265171],\n",
       "       [-1.02082882, -1.21318999,  0.18741746],\n",
       "       [ 1.49268741,  1.22782124,  1.58280405],\n",
       "       [ 1.17682728,  0.00998415,  0.20071936],\n",
       "       [ 0.70012304,  1.33163754, -0.31802204],\n",
       "       [ 0.0088456 , -1.63345378,  0.04498207],\n",
       "       [ 0.55902662,  0.46200391, -0.39949982],\n",
       "       [ 1.47796614, -0.50457379, -1.64450612],\n",
       "       [-1.61927178, -0.64363221, -0.11287487],\n",
       "       [-1.267656  ,  1.13225036, -1.37920552],\n",
       "       [-0.75856261, -0.74865064, -1.35676548],\n",
       "       [-1.6477566 , -1.3853128 ,  0.27034854],\n",
       "       [ 0.30559723,  1.1777216 , -1.65883577],\n",
       "       [ 0.12137572,  0.84583242, -1.35676548],\n",
       "       [-1.28790757, -1.43143631, -0.68257581],\n",
       "       [-0.52094879, -1.29701657, -1.14201102],\n",
       "       [ 0.41309098, -0.87549189, -1.31304986],\n",
       "       [ 1.45584317,  1.1777216 ,  1.43335009],\n",
       "       [ 0.96816082, -0.93708342, -1.08642518]])"
      ]
     },
     "execution_count": 51,
     "metadata": {},
     "output_type": "execute_result"
    }
   ],
   "source": [
    "from sklearn.preprocessing import StandardScaler\n",
    "sc=StandardScaler()\n",
    "x=sc.fit_transform(x)\n",
    "x"
   ]
  },
  {
   "cell_type": "markdown",
   "id": "0ae85e0b",
   "metadata": {},
   "source": [
    "### Using Linear Regression model"
   ]
  },
  {
   "cell_type": "code",
   "execution_count": 52,
   "id": "9e27aeee",
   "metadata": {},
   "outputs": [
    {
     "name": "stdout",
     "output_type": "stream",
     "text": [
      "At random state 1,the training accuracy is :- 90.71938747219684\n",
      "At random state 1,the testing accuracy is :- 89.62223515318661\n",
      "\n",
      "\n",
      "At random state 2,the training accuracy is :- 91.83341288802332\n",
      "At random state 2,the testing accuracy is :- 81.34661880809733\n",
      "\n",
      "\n",
      "At random state 3,the training accuracy is :- 90.44922374546076\n",
      "At random state 3,the testing accuracy is :- 91.76823268482113\n",
      "\n",
      "\n",
      "At random state 4,the training accuracy is :- 90.58334490016561\n",
      "At random state 4,the testing accuracy is :- 89.99332568068063\n",
      "\n",
      "\n",
      "At random state 5,the training accuracy is :- 90.57996837685972\n",
      "At random state 5,the testing accuracy is :- 91.11155103873197\n",
      "\n",
      "\n",
      "At random state 6,the training accuracy is :- 90.31637800959938\n",
      "At random state 6,the testing accuracy is :- 92.63228920019166\n",
      "\n",
      "\n",
      "At random state 7,the training accuracy is :- 90.24328978288425\n",
      "At random state 7,the testing accuracy is :- 92.29594391045336\n",
      "\n",
      "\n",
      "At random state 8,the training accuracy is :- 91.61168555487973\n",
      "At random state 8,the testing accuracy is :- 86.78974095570129\n",
      "\n",
      "\n",
      "At random state 9,the training accuracy is :- 90.09624466452009\n",
      "At random state 9,the testing accuracy is :- 93.18076821551767\n",
      "\n",
      "\n",
      "At random state 10,the training accuracy is :- 92.28846311393283\n",
      "At random state 10,the testing accuracy is :- 86.57541622711325\n",
      "\n",
      "\n",
      "At random state 11,the training accuracy is :- 91.33524709379977\n",
      "At random state 11,the testing accuracy is :- 88.03200845985654\n",
      "\n",
      "\n",
      "At random state 12,the training accuracy is :- 90.2936158022683\n",
      "At random state 12,the testing accuracy is :- 91.94470983657715\n",
      "\n",
      "\n",
      "At random state 13,the training accuracy is :- 89.76805428874329\n",
      "At random state 13,the testing accuracy is :- 93.9589889787954\n",
      "\n",
      "\n",
      "At random state 14,the training accuracy is :- 91.23609625961204\n",
      "At random state 14,the testing accuracy is :- 88.55915841915028\n",
      "\n",
      "\n",
      "At random state 15,the training accuracy is :- 91.05627140433177\n",
      "At random state 15,the testing accuracy is :- 89.27492990332131\n",
      "\n",
      "\n",
      "At random state 16,the training accuracy is :- 90.07165527505835\n",
      "At random state 16,the testing accuracy is :- 93.94773289601727\n",
      "\n",
      "\n",
      "At random state 17,the training accuracy is :- 91.42812695219607\n",
      "At random state 17,the testing accuracy is :- 87.04482295852985\n",
      "\n",
      "\n",
      "At random state 18,the training accuracy is :- 91.4422622247835\n",
      "At random state 18,the testing accuracy is :- 88.52485991092028\n",
      "\n",
      "\n",
      "At random state 19,the training accuracy is :- 90.91652752339459\n",
      "At random state 19,the testing accuracy is :- 88.99047479311965\n",
      "\n",
      "\n",
      "At random state 20,the training accuracy is :- 90.40548283088206\n",
      "At random state 20,the testing accuracy is :- 91.46141588810444\n",
      "\n",
      "\n",
      "At random state 21,the training accuracy is :- 90.55624003652625\n",
      "At random state 21,the testing accuracy is :- 90.82319224948718\n",
      "\n",
      "\n",
      "At random state 22,the training accuracy is :- 90.09738344986651\n",
      "At random state 22,the testing accuracy is :- 92.63830838963717\n",
      "\n",
      "\n",
      "At random state 23,the training accuracy is :- 90.51980620752518\n",
      "At random state 23,the testing accuracy is :- 91.2255042790337\n",
      "\n",
      "\n",
      "At random state 24,the training accuracy is :- 90.47131226879829\n",
      "At random state 24,the testing accuracy is :- 91.61946899635484\n",
      "\n",
      "\n",
      "At random state 25,the training accuracy is :- 91.08220375209233\n",
      "At random state 25,the testing accuracy is :- 88.64519771219055\n",
      "\n",
      "\n",
      "At random state 26,the training accuracy is :- 90.97254623523156\n",
      "At random state 26,the testing accuracy is :- 88.61223870939149\n",
      "\n",
      "\n",
      "At random state 27,the training accuracy is :- 90.61121337699268\n",
      "At random state 27,the testing accuracy is :- 91.24326285551334\n",
      "\n",
      "\n",
      "At random state 28,the training accuracy is :- 90.72975185732034\n",
      "At random state 28,the testing accuracy is :- 90.55189371310904\n",
      "\n",
      "\n",
      "At random state 29,the training accuracy is :- 90.19778705090933\n",
      "At random state 29,the testing accuracy is :- 91.77322552308232\n",
      "\n",
      "\n",
      "At random state 30,the training accuracy is :- 90.32029024339488\n",
      "At random state 30,the testing accuracy is :- 91.84029165462607\n",
      "\n",
      "\n",
      "At random state 31,the training accuracy is :- 90.11717960066744\n",
      "At random state 31,the testing accuracy is :- 92.03877988948184\n",
      "\n",
      "\n",
      "At random state 32,the training accuracy is :- 91.85058459448898\n",
      "At random state 32,the testing accuracy is :- 83.58992309579858\n",
      "\n",
      "\n",
      "At random state 33,the training accuracy is :- 91.05975424686962\n",
      "At random state 33,the testing accuracy is :- 88.03971236069518\n",
      "\n",
      "\n",
      "At random state 34,the training accuracy is :- 91.17922224881359\n",
      "At random state 34,the testing accuracy is :- 88.39111433962007\n",
      "\n",
      "\n",
      "At random state 35,the training accuracy is :- 91.70581141140548\n",
      "At random state 35,the testing accuracy is :- 84.20493162670037\n",
      "\n",
      "\n",
      "At random state 36,the training accuracy is :- 90.17665999083452\n",
      "At random state 36,the testing accuracy is :- 92.69013680745881\n",
      "\n",
      "\n",
      "At random state 37,the training accuracy is :- 91.1212290936598\n",
      "At random state 37,the testing accuracy is :- 88.84592002685253\n",
      "\n",
      "\n",
      "At random state 38,the training accuracy is :- 90.79162095332599\n",
      "At random state 38,the testing accuracy is :- 90.10698757344736\n",
      "\n",
      "\n",
      "At random state 39,the training accuracy is :- 91.39340857893717\n",
      "At random state 39,the testing accuracy is :- 86.9805273691302\n",
      "\n",
      "\n",
      "At random state 40,the training accuracy is :- 91.88570437425926\n",
      "At random state 40,the testing accuracy is :- 85.42245191528464\n",
      "\n",
      "\n",
      "At random state 41,the training accuracy is :- 91.02190502465965\n",
      "At random state 41,the testing accuracy is :- 89.37312995040837\n",
      "\n",
      "\n",
      "At random state 42,the training accuracy is :- 90.4963200589296\n",
      "At random state 42,the testing accuracy is :- 91.38021136866257\n",
      "\n",
      "\n",
      "At random state 43,the training accuracy is :- 90.04897083294492\n",
      "At random state 43,the testing accuracy is :- 93.2130151454902\n",
      "\n",
      "\n",
      "At random state 44,the training accuracy is :- 91.18487205867773\n",
      "At random state 44,the testing accuracy is :- 87.43918799320492\n",
      "\n",
      "\n",
      "At random state 45,the training accuracy is :- 90.57903571407297\n",
      "At random state 45,the testing accuracy is :- 90.87110254753442\n",
      "\n",
      "\n",
      "At random state 46,the training accuracy is :- 91.30511705521397\n",
      "At random state 46,the testing accuracy is :- 86.57040334330455\n",
      "\n",
      "\n",
      "At random state 47,the training accuracy is :- 90.78904275091112\n",
      "At random state 47,the testing accuracy is :- 90.05738151488636\n",
      "\n",
      "\n",
      "At random state 48,the training accuracy is :- 90.20955665822108\n",
      "At random state 48,the testing accuracy is :- 92.48092380313993\n",
      "\n",
      "\n",
      "At random state 49,the training accuracy is :- 92.13692965856144\n",
      "At random state 49,the testing accuracy is :- 84.31951938655838\n",
      "\n",
      "\n",
      "At random state 50,the training accuracy is :- 91.18285594538524\n",
      "At random state 50,the testing accuracy is :- 85.71529325285366\n",
      "\n",
      "\n",
      "At random state 51,the training accuracy is :- 90.61949092130422\n",
      "At random state 51,the testing accuracy is :- 90.45527475388691\n",
      "\n",
      "\n",
      "At random state 52,the training accuracy is :- 91.59688226033337\n",
      "At random state 52,the testing accuracy is :- 87.84644356620782\n",
      "\n",
      "\n",
      "At random state 53,the training accuracy is :- 89.89992099599323\n",
      "At random state 53,the testing accuracy is :- 93.6184115390699\n",
      "\n",
      "\n",
      "At random state 54,the training accuracy is :- 90.15581622607004\n",
      "At random state 54,the testing accuracy is :- 93.01797919444894\n",
      "\n",
      "\n",
      "At random state 55,the training accuracy is :- 90.3113522825293\n",
      "At random state 55,the testing accuracy is :- 92.15456769563855\n",
      "\n",
      "\n",
      "At random state 56,the training accuracy is :- 90.79035524800278\n",
      "At random state 56,the testing accuracy is :- 90.42263224424735\n",
      "\n",
      "\n",
      "At random state 57,the training accuracy is :- 89.53087882722141\n",
      "At random state 57,the testing accuracy is :- 94.31364424474637\n",
      "\n",
      "\n",
      "At random state 58,the training accuracy is :- 92.03168422350186\n",
      "At random state 58,the testing accuracy is :- 86.0650691822407\n",
      "\n",
      "\n",
      "At random state 59,the training accuracy is :- 90.38775993395896\n",
      "At random state 59,the testing accuracy is :- 91.87981301938703\n",
      "\n",
      "\n",
      "At random state 60,the training accuracy is :- 90.07891011576945\n",
      "At random state 60,the testing accuracy is :- 92.7606621267765\n",
      "\n",
      "\n",
      "At random state 61,the training accuracy is :- 90.95824787427897\n",
      "At random state 61,the testing accuracy is :- 88.96111045827057\n",
      "\n",
      "\n",
      "At random state 62,the training accuracy is :- 91.74896046611255\n",
      "At random state 62,the testing accuracy is :- 86.93195452162922\n",
      "\n",
      "\n",
      "At random state 63,the training accuracy is :- 90.41381449353588\n",
      "At random state 63,the testing accuracy is :- 92.21005536010269\n",
      "\n",
      "\n"
     ]
    },
    {
     "name": "stdout",
     "output_type": "stream",
     "text": [
      "At random state 64,the training accuracy is :- 90.79142899545766\n",
      "At random state 64,the testing accuracy is :- 89.64084075107654\n",
      "\n",
      "\n",
      "At random state 65,the training accuracy is :- 90.43116058172039\n",
      "At random state 65,the testing accuracy is :- 91.8132356871056\n",
      "\n",
      "\n",
      "At random state 66,the training accuracy is :- 90.91938493251156\n",
      "At random state 66,the testing accuracy is :- 89.96390781190254\n",
      "\n",
      "\n",
      "At random state 67,the training accuracy is :- 91.11440876313132\n",
      "At random state 67,the testing accuracy is :- 88.75870015335046\n",
      "\n",
      "\n",
      "At random state 68,the training accuracy is :- 91.38243202034857\n",
      "At random state 68,the testing accuracy is :- 85.89891563312658\n",
      "\n",
      "\n",
      "At random state 69,the training accuracy is :- 90.14443993649188\n",
      "At random state 69,the testing accuracy is :- 91.85233771378265\n",
      "\n",
      "\n",
      "At random state 70,the training accuracy is :- 90.00269410692063\n",
      "At random state 70,the testing accuracy is :- 92.38416154690941\n",
      "\n",
      "\n",
      "At random state 71,the training accuracy is :- 91.85638639298016\n",
      "At random state 71,the testing accuracy is :- 86.26931959696404\n",
      "\n",
      "\n",
      "At random state 72,the training accuracy is :- 90.20381903522322\n",
      "At random state 72,the testing accuracy is :- 92.46687934200781\n",
      "\n",
      "\n",
      "At random state 73,the training accuracy is :- 91.37158777681897\n",
      "At random state 73,the testing accuracy is :- 87.38770721132308\n",
      "\n",
      "\n",
      "At random state 74,the training accuracy is :- 90.62392352374458\n",
      "At random state 74,the testing accuracy is :- 89.71155481778106\n",
      "\n",
      "\n",
      "At random state 75,the training accuracy is :- 90.43284575928459\n",
      "At random state 75,the testing accuracy is :- 91.8721313037442\n",
      "\n",
      "\n",
      "At random state 76,the training accuracy is :- 91.67003187657926\n",
      "At random state 76,the testing accuracy is :- 78.72310541726867\n",
      "\n",
      "\n",
      "At random state 77,the training accuracy is :- 90.08407055820994\n",
      "At random state 77,the testing accuracy is :- 92.95887069752793\n",
      "\n",
      "\n",
      "At random state 78,the training accuracy is :- 90.53283797064712\n",
      "At random state 78,the testing accuracy is :- 91.68981169463655\n",
      "\n",
      "\n",
      "At random state 79,the training accuracy is :- 90.61109164102092\n",
      "At random state 79,the testing accuracy is :- 90.04417088792037\n",
      "\n",
      "\n",
      "At random state 80,the training accuracy is :- 91.74194759885411\n",
      "At random state 80,the testing accuracy is :- 85.86454341647932\n",
      "\n",
      "\n",
      "At random state 81,the training accuracy is :- 90.77888550419523\n",
      "At random state 81,the testing accuracy is :- 90.14652379684625\n",
      "\n",
      "\n",
      "At random state 82,the training accuracy is :- 92.06782975894254\n",
      "At random state 82,the testing accuracy is :- 83.78836808675187\n",
      "\n",
      "\n",
      "At random state 83,the training accuracy is :- 89.58074123424984\n",
      "At random state 83,the testing accuracy is :- 94.28931586289615\n",
      "\n",
      "\n",
      "At random state 84,the training accuracy is :- 90.35460222335627\n",
      "At random state 84,the testing accuracy is :- 92.1234941532908\n",
      "\n",
      "\n",
      "At random state 85,the training accuracy is :- 91.2962692366928\n",
      "At random state 85,the testing accuracy is :- 88.19302530555693\n",
      "\n",
      "\n",
      "At random state 86,the training accuracy is :- 90.71291359485299\n",
      "At random state 86,the testing accuracy is :- 90.77013021276183\n",
      "\n",
      "\n",
      "At random state 87,the training accuracy is :- 91.36862395498544\n",
      "At random state 87,the testing accuracy is :- 82.91889959066567\n",
      "\n",
      "\n",
      "At random state 88,the training accuracy is :- 91.395033287003\n",
      "At random state 88,the testing accuracy is :- 87.50208458235947\n",
      "\n",
      "\n",
      "At random state 89,the training accuracy is :- 91.2119700527964\n",
      "At random state 89,the testing accuracy is :- 87.61149085676091\n",
      "\n",
      "\n",
      "At random state 90,the training accuracy is :- 91.1876601589196\n",
      "At random state 90,the testing accuracy is :- 87.43953914251712\n",
      "\n",
      "\n",
      "At random state 91,the training accuracy is :- 90.00719902630581\n",
      "At random state 91,the testing accuracy is :- 90.54991771558714\n",
      "\n",
      "\n",
      "At random state 92,the training accuracy is :- 89.81521525334043\n",
      "At random state 92,the testing accuracy is :- 93.40599933972584\n",
      "\n",
      "\n",
      "At random state 93,the training accuracy is :- 90.47647564829178\n",
      "At random state 93,the testing accuracy is :- 91.63923829199183\n",
      "\n",
      "\n",
      "At random state 94,the training accuracy is :- 91.58358853267463\n",
      "At random state 94,the testing accuracy is :- 87.74273999952186\n",
      "\n",
      "\n",
      "At random state 95,the training accuracy is :- 90.8762010746474\n",
      "At random state 95,the testing accuracy is :- 88.47191924397741\n",
      "\n",
      "\n",
      "At random state 96,the training accuracy is :- 91.24810864436\n",
      "At random state 96,the testing accuracy is :- 87.65165408243331\n",
      "\n",
      "\n",
      "At random state 97,the training accuracy is :- 90.03961187317151\n",
      "At random state 97,the testing accuracy is :- 92.29711156572432\n",
      "\n",
      "\n",
      "At random state 98,the training accuracy is :- 89.65618381654458\n",
      "At random state 98,the testing accuracy is :- 93.74842321940754\n",
      "\n",
      "\n",
      "At random state 99,the training accuracy is :- 90.11286161276885\n",
      "At random state 99,the testing accuracy is :- 92.89415808839094\n",
      "\n",
      "\n"
     ]
    }
   ],
   "source": [
    "from sklearn.linear_model import LinearRegression\n",
    "from sklearn.model_selection import train_test_split\n",
    "from sklearn.metrics import mean_absolute_error,mean_squared_error\n",
    "from sklearn.metrics import r2_score\n",
    "\n",
    "\n",
    "for i in range(1,100):\n",
    "  x_train,x_test,y_train,y_test=train_test_split(x,y,test_size=.20,random_state=i)\n",
    "  lr=LinearRegression()\n",
    "  lr.fit(x_train,y_train)\n",
    "  pred_train=lr.predict(x_train)\n",
    "  pred_test=lr.predict(x_test)\n",
    "  print(f\"At random state {i},the training accuracy is :- {r2_score(y_train,pred_train)*100}\")\n",
    "  print(f\"At random state {i},the testing accuracy is :- {r2_score(y_test,pred_test)*100}\")\n",
    "  print(\"\\n\")"
   ]
  },
  {
   "cell_type": "code",
   "execution_count": 53,
   "id": "45e9c45e",
   "metadata": {},
   "outputs": [],
   "source": [
    "x_train,x_test,y_train,y_test=train_test_split(x,y,test_size=.20,random_state=54)"
   ]
  },
  {
   "cell_type": "markdown",
   "id": "72996985",
   "metadata": {},
   "source": [
    "### Linear Regression"
   ]
  },
  {
   "cell_type": "code",
   "execution_count": 54,
   "id": "edd70606",
   "metadata": {},
   "outputs": [
    {
     "name": "stdout",
     "output_type": "stream",
     "text": [
      "predicted result  [12.86787808 10.12792407 17.42486532  6.6777674   9.57484826 11.79622808\n",
      " 19.42255585 10.42904847 16.19284893 15.09346009  9.98557565 14.23909563\n",
      " 16.6074724  17.41930172  8.95294381 22.9747748   8.77908638 13.92306952\n",
      " 10.07128127 12.23280279 18.22601968 12.72966701 18.55415765 20.61428156\n",
      " 13.91030029 14.01228954 11.47451807 23.50141965  9.77789755 14.40451074\n",
      " 19.91617674  9.37266723 19.79871831 20.93091447 18.38604045 20.87815832\n",
      "  6.67850619 15.50878929 19.98348018  6.08179799]\n",
      "actual result 179    12.6\n",
      "166     8.0\n",
      "187    17.3\n",
      "119     6.6\n",
      "186    10.3\n",
      "134    10.8\n",
      "142    20.1\n",
      "12      9.2\n",
      "118    15.9\n",
      "178    11.8\n",
      "138     9.6\n",
      "43     12.9\n",
      "194    17.3\n",
      "11     17.4\n",
      "44      8.5\n",
      "101    23.8\n",
      "49      9.7\n",
      "4      12.9\n",
      "149    10.1\n",
      "31     11.9\n",
      "188    15.9\n",
      "116    12.2\n",
      "33     17.4\n",
      "0      22.1\n",
      "181    12.2\n",
      "161    13.3\n",
      "2       9.3\n",
      "183    26.2\n",
      "125    10.6\n",
      "81     12.3\n",
      "176    20.2\n",
      "145    10.3\n",
      "124    19.7\n",
      "55     23.7\n",
      "153    19.0\n",
      "137    20.8\n",
      "182     8.7\n",
      "156    15.3\n",
      "104    20.7\n",
      "106     7.2\n",
      "Name: sales, dtype: float64\n"
     ]
    }
   ],
   "source": [
    "pred=lr.predict(x_test)\n",
    "print(\"predicted result \",pred)\n",
    "print('actual result',y_test)"
   ]
  },
  {
   "cell_type": "code",
   "execution_count": 56,
   "id": "5ffbdced",
   "metadata": {},
   "outputs": [],
   "source": [
    "import numpy as np"
   ]
  },
  {
   "cell_type": "code",
   "execution_count": 57,
   "id": "586694e7",
   "metadata": {},
   "outputs": [
    {
     "name": "stdout",
     "output_type": "stream",
     "text": [
      "Error:\n",
      "Mean_Absolute_Error : 1.0096684382685583\n",
      "Mean_Squared_Error : 1.725741776908028\n",
      "Root_Mean_Squared Error 1.3136749129476546\n",
      "r2 score : 93.38858948468285\n"
     ]
    }
   ],
   "source": [
    "print('Error:')\n",
    "print('Mean_Absolute_Error :',mean_absolute_error(y_test,pred))\n",
    "print('Mean_Squared_Error :',mean_squared_error(y_test,pred))\n",
    "print('Root_Mean_Squared Error',np.sqrt(mean_squared_error(y_test,pred)))\n",
    "print('r2 score :',r2_score(y_test,pred)*100)"
   ]
  },
  {
   "cell_type": "markdown",
   "id": "e9f0dc65",
   "metadata": {},
   "source": [
    "### Decision Tree Regression"
   ]
  },
  {
   "cell_type": "code",
   "execution_count": 58,
   "id": "e6af1f33",
   "metadata": {},
   "outputs": [
    {
     "data": {
      "text/plain": [
       "DecisionTreeRegressor()"
      ]
     },
     "execution_count": 58,
     "metadata": {},
     "output_type": "execute_result"
    }
   ],
   "source": [
    "from sklearn.tree import DecisionTreeRegressor\n",
    "dtr=DecisionTreeRegressor()\n",
    "dtr.fit(x_train,y_train)"
   ]
  },
  {
   "cell_type": "code",
   "execution_count": 59,
   "id": "d33cb70c",
   "metadata": {},
   "outputs": [
    {
     "name": "stdout",
     "output_type": "stream",
     "text": [
      "predicted_result  [14.4  8.7 18.3  6.9 10.1 10.4 19.6  8.8 18.  12.7 10.1 12.2 15.  17.1\n",
      "  7.  22.2  9.7 14.1 10.1 12.4 16.1 12.9 15.9 22.4 12.2 12.5  8.7 25.4\n",
      "  9.7 11.9 18.9 10.5 19.4 23.8 18.5 20.2  8.1 14.7 19.6  6.9]\n",
      "actual_result 179    12.6\n",
      "166     8.0\n",
      "187    17.3\n",
      "119     6.6\n",
      "186    10.3\n",
      "134    10.8\n",
      "142    20.1\n",
      "12      9.2\n",
      "118    15.9\n",
      "178    11.8\n",
      "138     9.6\n",
      "43     12.9\n",
      "194    17.3\n",
      "11     17.4\n",
      "44      8.5\n",
      "101    23.8\n",
      "49      9.7\n",
      "4      12.9\n",
      "149    10.1\n",
      "31     11.9\n",
      "188    15.9\n",
      "116    12.2\n",
      "33     17.4\n",
      "0      22.1\n",
      "181    12.2\n",
      "161    13.3\n",
      "2       9.3\n",
      "183    26.2\n",
      "125    10.6\n",
      "81     12.3\n",
      "176    20.2\n",
      "145    10.3\n",
      "124    19.7\n",
      "55     23.7\n",
      "153    19.0\n",
      "137    20.8\n",
      "182     8.7\n",
      "156    15.3\n",
      "104    20.7\n",
      "106     7.2\n",
      "Name: sales, dtype: float64\n"
     ]
    }
   ],
   "source": [
    "pred=dtr.predict(x_test)\n",
    "print(\"predicted_result \",pred)\n",
    "print('actual_result',y_test)"
   ]
  },
  {
   "cell_type": "code",
   "execution_count": 60,
   "id": "c4b629e8",
   "metadata": {},
   "outputs": [
    {
     "name": "stdout",
     "output_type": "stream",
     "text": [
      "Error:\n",
      "Mean_Absolute_Error : 0.7175\n",
      "Mean_Squared_Error : 0.8302500000000002\n",
      "Root_Mean_Squared_Error 0.9111805529092465\n",
      "r2 score : 96.819267138461\n"
     ]
    }
   ],
   "source": [
    "print('Error:')\n",
    "print('Mean_Absolute_Error :',mean_absolute_error(y_test,pred))\n",
    "print('Mean_Squared_Error :',mean_squared_error(y_test,pred))\n",
    "print('Root_Mean_Squared_Error',np.sqrt(mean_squared_error(y_test,pred)))\n",
    "print('r2 score :',r2_score(y_test,pred)*100)"
   ]
  },
  {
   "cell_type": "markdown",
   "id": "9488a49f",
   "metadata": {},
   "source": [
    "### Regularization"
   ]
  },
  {
   "cell_type": "code",
   "execution_count": 61,
   "id": "882cfeff",
   "metadata": {},
   "outputs": [
    {
     "name": "stdout",
     "output_type": "stream",
     "text": [
      "{'alpha': 0.1, 'random_state': 0}\n"
     ]
    }
   ],
   "source": [
    "from sklearn.linear_model import Lasso\n",
    "from sklearn.model_selection import GridSearchCV\n",
    "\n",
    "parameters = {'alpha':[.0001,.001,.01,.1,1,10],'random_state':list(range(0,10))}\n",
    "ls=Lasso()\n",
    "clf=GridSearchCV(ls,parameters)\n",
    "clf.fit(x_train,y_train)\n",
    "\n",
    "print(clf.best_params_)"
   ]
  },
  {
   "cell_type": "code",
   "execution_count": 62,
   "id": "14e5efc4",
   "metadata": {},
   "outputs": [
    {
     "data": {
      "text/plain": [
       "90.15581613836716"
      ]
     },
     "execution_count": 62,
     "metadata": {},
     "output_type": "execute_result"
    }
   ],
   "source": [
    "ls=Lasso(alpha=0.0001,random_state=0)\n",
    "ls.fit(x_train,y_train)\n",
    "ls_score_training=ls.score(x_train,y_train)\n",
    "pred_ls = ls.predict(x_test)\n",
    "ls_score_training*100"
   ]
  },
  {
   "cell_type": "markdown",
   "id": "3f06620a",
   "metadata": {},
   "source": [
    "### Ensemble Technique"
   ]
  },
  {
   "cell_type": "code",
   "execution_count": 63,
   "id": "ad5592f9",
   "metadata": {},
   "outputs": [
    {
     "name": "stdout",
     "output_type": "stream",
     "text": [
      "{'criterion': 'mse', 'max_features': 'auto'}\n"
     ]
    }
   ],
   "source": [
    "from sklearn.ensemble import RandomForestRegressor\n",
    "Rrf=RandomForestRegressor()\n",
    "\n",
    "parameters = {'criterion':['mse','mae'],'max_features':[\"auto\",\"sqrt\",\"log2\"]}\n",
    "clf = GridSearchCV(Rrf,parameters)\n",
    "clf.fit(x_train,y_train)\n",
    "\n",
    "print(clf.best_params_)"
   ]
  },
  {
   "cell_type": "code",
   "execution_count": 65,
   "id": "badb882a",
   "metadata": {},
   "outputs": [
    {
     "name": "stdout",
     "output_type": "stream",
     "text": [
      "R2_Score : 97.95963208469695\n",
      "cross_Val_Score : 97.70170717073007\n"
     ]
    }
   ],
   "source": [
    "from sklearn.model_selection import cross_val_score\n",
    "\n",
    "Rrf= RandomForestRegressor(criterion=\"mae\",max_features=\"auto\")\n",
    "Rrf.fit(x_train,y_train)\n",
    "Rrf.score(x_train,y_train)\n",
    "pred_decession = Rrf.predict(x_test)\n",
    "\n",
    "rfs = r2_score(y_test,pred_decession)\n",
    "print('R2_Score :',rfs*100)\n",
    "\n",
    "rfscore = cross_val_score(Rrf,x,y,cv=5)\n",
    "rfc=rfscore.mean()\n",
    "print('cross_Val_Score :',rfc*100)"
   ]
  },
  {
   "cell_type": "markdown",
   "id": "898fe014",
   "metadata": {},
   "source": [
    "## Saving Model"
   ]
  },
  {
   "cell_type": "code",
   "execution_count": 66,
   "id": "e00606e0",
   "metadata": {},
   "outputs": [],
   "source": [
    "import pickle\n",
    "filename = 'Advertising Sales Channel Prediction Case Study.pkl'\n",
    "pickle.dump(Rrf,open(filename,'wb'))"
   ]
  },
  {
   "cell_type": "markdown",
   "id": "0dd0be2e",
   "metadata": {},
   "source": [
    "# Thanks"
   ]
  },
  {
   "cell_type": "code",
   "execution_count": null,
   "id": "374e9bf3",
   "metadata": {},
   "outputs": [],
   "source": []
  }
 ],
 "metadata": {
  "kernelspec": {
   "display_name": "Python 3 (ipykernel)",
   "language": "python",
   "name": "python3"
  },
  "language_info": {
   "codemirror_mode": {
    "name": "ipython",
    "version": 3
   },
   "file_extension": ".py",
   "mimetype": "text/x-python",
   "name": "python",
   "nbconvert_exporter": "python",
   "pygments_lexer": "ipython3",
   "version": "3.9.7"
  }
 },
 "nbformat": 4,
 "nbformat_minor": 5
}
