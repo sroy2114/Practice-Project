{
 "cells": [
  {
   "cell_type": "markdown",
   "id": "e9fbc6a0",
   "metadata": {},
   "source": [
    "# Abalone Case Study"
   ]
  },
  {
   "cell_type": "markdown",
   "id": "83147f86",
   "metadata": {},
   "source": [
    "The age of abalone is determined by cutting the shell through the cone, staining it, and counting the number of rings through a microscope -- a boring and time-consuming task. Other measurements, which are easier to obtain, are used to predict the age. Further information, such as weather patterns and location (hence food availability) may be required to solve the problem."
   ]
  },
  {
   "cell_type": "code",
   "execution_count": 1,
   "id": "9cae1c17",
   "metadata": {},
   "outputs": [],
   "source": [
    "import pandas as pd"
   ]
  },
  {
   "cell_type": "code",
   "execution_count": 2,
   "id": "e5bd2c4a",
   "metadata": {},
   "outputs": [],
   "source": [
    "import numpy as np"
   ]
  },
  {
   "cell_type": "markdown",
   "id": "9f79e341",
   "metadata": {},
   "source": [
    "# Importing Dataset"
   ]
  },
  {
   "cell_type": "code",
   "execution_count": 4,
   "id": "95963dcf",
   "metadata": {},
   "outputs": [],
   "source": [
    "df=pd.read_csv('https://raw.githubusercontent.com/dsrscientist/dataset1/master/abalone.csv')"
   ]
  },
  {
   "cell_type": "code",
   "execution_count": 5,
   "id": "e87204e8",
   "metadata": {},
   "outputs": [
    {
     "data": {
      "text/html": [
       "<div>\n",
       "<style scoped>\n",
       "    .dataframe tbody tr th:only-of-type {\n",
       "        vertical-align: middle;\n",
       "    }\n",
       "\n",
       "    .dataframe tbody tr th {\n",
       "        vertical-align: top;\n",
       "    }\n",
       "\n",
       "    .dataframe thead th {\n",
       "        text-align: right;\n",
       "    }\n",
       "</style>\n",
       "<table border=\"1\" class=\"dataframe\">\n",
       "  <thead>\n",
       "    <tr style=\"text-align: right;\">\n",
       "      <th></th>\n",
       "      <th>Sex</th>\n",
       "      <th>Length</th>\n",
       "      <th>Diameter</th>\n",
       "      <th>Height</th>\n",
       "      <th>Whole weight</th>\n",
       "      <th>Shucked weight</th>\n",
       "      <th>Viscera weight</th>\n",
       "      <th>Shell weight</th>\n",
       "      <th>Rings</th>\n",
       "    </tr>\n",
       "  </thead>\n",
       "  <tbody>\n",
       "    <tr>\n",
       "      <th>0</th>\n",
       "      <td>M</td>\n",
       "      <td>0.455</td>\n",
       "      <td>0.365</td>\n",
       "      <td>0.095</td>\n",
       "      <td>0.5140</td>\n",
       "      <td>0.2245</td>\n",
       "      <td>0.1010</td>\n",
       "      <td>0.1500</td>\n",
       "      <td>15</td>\n",
       "    </tr>\n",
       "    <tr>\n",
       "      <th>1</th>\n",
       "      <td>M</td>\n",
       "      <td>0.350</td>\n",
       "      <td>0.265</td>\n",
       "      <td>0.090</td>\n",
       "      <td>0.2255</td>\n",
       "      <td>0.0995</td>\n",
       "      <td>0.0485</td>\n",
       "      <td>0.0700</td>\n",
       "      <td>7</td>\n",
       "    </tr>\n",
       "    <tr>\n",
       "      <th>2</th>\n",
       "      <td>F</td>\n",
       "      <td>0.530</td>\n",
       "      <td>0.420</td>\n",
       "      <td>0.135</td>\n",
       "      <td>0.6770</td>\n",
       "      <td>0.2565</td>\n",
       "      <td>0.1415</td>\n",
       "      <td>0.2100</td>\n",
       "      <td>9</td>\n",
       "    </tr>\n",
       "    <tr>\n",
       "      <th>3</th>\n",
       "      <td>M</td>\n",
       "      <td>0.440</td>\n",
       "      <td>0.365</td>\n",
       "      <td>0.125</td>\n",
       "      <td>0.5160</td>\n",
       "      <td>0.2155</td>\n",
       "      <td>0.1140</td>\n",
       "      <td>0.1550</td>\n",
       "      <td>10</td>\n",
       "    </tr>\n",
       "    <tr>\n",
       "      <th>4</th>\n",
       "      <td>I</td>\n",
       "      <td>0.330</td>\n",
       "      <td>0.255</td>\n",
       "      <td>0.080</td>\n",
       "      <td>0.2050</td>\n",
       "      <td>0.0895</td>\n",
       "      <td>0.0395</td>\n",
       "      <td>0.0550</td>\n",
       "      <td>7</td>\n",
       "    </tr>\n",
       "    <tr>\n",
       "      <th>...</th>\n",
       "      <td>...</td>\n",
       "      <td>...</td>\n",
       "      <td>...</td>\n",
       "      <td>...</td>\n",
       "      <td>...</td>\n",
       "      <td>...</td>\n",
       "      <td>...</td>\n",
       "      <td>...</td>\n",
       "      <td>...</td>\n",
       "    </tr>\n",
       "    <tr>\n",
       "      <th>4172</th>\n",
       "      <td>F</td>\n",
       "      <td>0.565</td>\n",
       "      <td>0.450</td>\n",
       "      <td>0.165</td>\n",
       "      <td>0.8870</td>\n",
       "      <td>0.3700</td>\n",
       "      <td>0.2390</td>\n",
       "      <td>0.2490</td>\n",
       "      <td>11</td>\n",
       "    </tr>\n",
       "    <tr>\n",
       "      <th>4173</th>\n",
       "      <td>M</td>\n",
       "      <td>0.590</td>\n",
       "      <td>0.440</td>\n",
       "      <td>0.135</td>\n",
       "      <td>0.9660</td>\n",
       "      <td>0.4390</td>\n",
       "      <td>0.2145</td>\n",
       "      <td>0.2605</td>\n",
       "      <td>10</td>\n",
       "    </tr>\n",
       "    <tr>\n",
       "      <th>4174</th>\n",
       "      <td>M</td>\n",
       "      <td>0.600</td>\n",
       "      <td>0.475</td>\n",
       "      <td>0.205</td>\n",
       "      <td>1.1760</td>\n",
       "      <td>0.5255</td>\n",
       "      <td>0.2875</td>\n",
       "      <td>0.3080</td>\n",
       "      <td>9</td>\n",
       "    </tr>\n",
       "    <tr>\n",
       "      <th>4175</th>\n",
       "      <td>F</td>\n",
       "      <td>0.625</td>\n",
       "      <td>0.485</td>\n",
       "      <td>0.150</td>\n",
       "      <td>1.0945</td>\n",
       "      <td>0.5310</td>\n",
       "      <td>0.2610</td>\n",
       "      <td>0.2960</td>\n",
       "      <td>10</td>\n",
       "    </tr>\n",
       "    <tr>\n",
       "      <th>4176</th>\n",
       "      <td>M</td>\n",
       "      <td>0.710</td>\n",
       "      <td>0.555</td>\n",
       "      <td>0.195</td>\n",
       "      <td>1.9485</td>\n",
       "      <td>0.9455</td>\n",
       "      <td>0.3765</td>\n",
       "      <td>0.4950</td>\n",
       "      <td>12</td>\n",
       "    </tr>\n",
       "  </tbody>\n",
       "</table>\n",
       "<p>4177 rows × 9 columns</p>\n",
       "</div>"
      ],
      "text/plain": [
       "     Sex  Length  Diameter  Height  Whole weight  Shucked weight  \\\n",
       "0      M   0.455     0.365   0.095        0.5140          0.2245   \n",
       "1      M   0.350     0.265   0.090        0.2255          0.0995   \n",
       "2      F   0.530     0.420   0.135        0.6770          0.2565   \n",
       "3      M   0.440     0.365   0.125        0.5160          0.2155   \n",
       "4      I   0.330     0.255   0.080        0.2050          0.0895   \n",
       "...   ..     ...       ...     ...           ...             ...   \n",
       "4172   F   0.565     0.450   0.165        0.8870          0.3700   \n",
       "4173   M   0.590     0.440   0.135        0.9660          0.4390   \n",
       "4174   M   0.600     0.475   0.205        1.1760          0.5255   \n",
       "4175   F   0.625     0.485   0.150        1.0945          0.5310   \n",
       "4176   M   0.710     0.555   0.195        1.9485          0.9455   \n",
       "\n",
       "      Viscera weight  Shell weight  Rings  \n",
       "0             0.1010        0.1500     15  \n",
       "1             0.0485        0.0700      7  \n",
       "2             0.1415        0.2100      9  \n",
       "3             0.1140        0.1550     10  \n",
       "4             0.0395        0.0550      7  \n",
       "...              ...           ...    ...  \n",
       "4172          0.2390        0.2490     11  \n",
       "4173          0.2145        0.2605     10  \n",
       "4174          0.2875        0.3080      9  \n",
       "4175          0.2610        0.2960     10  \n",
       "4176          0.3765        0.4950     12  \n",
       "\n",
       "[4177 rows x 9 columns]"
      ]
     },
     "execution_count": 5,
     "metadata": {},
     "output_type": "execute_result"
    }
   ],
   "source": [
    "df"
   ]
  },
  {
   "cell_type": "code",
   "execution_count": 8,
   "id": "7000a81f",
   "metadata": {},
   "outputs": [
    {
     "data": {
      "text/html": [
       "<div>\n",
       "<style scoped>\n",
       "    .dataframe tbody tr th:only-of-type {\n",
       "        vertical-align: middle;\n",
       "    }\n",
       "\n",
       "    .dataframe tbody tr th {\n",
       "        vertical-align: top;\n",
       "    }\n",
       "\n",
       "    .dataframe thead th {\n",
       "        text-align: right;\n",
       "    }\n",
       "</style>\n",
       "<table border=\"1\" class=\"dataframe\">\n",
       "  <thead>\n",
       "    <tr style=\"text-align: right;\">\n",
       "      <th></th>\n",
       "      <th>Sex</th>\n",
       "      <th>Length</th>\n",
       "      <th>Diameter</th>\n",
       "      <th>Height</th>\n",
       "      <th>Whole weight</th>\n",
       "      <th>Shucked weight</th>\n",
       "      <th>Viscera weight</th>\n",
       "      <th>Shell weight</th>\n",
       "      <th>Rings</th>\n",
       "    </tr>\n",
       "  </thead>\n",
       "  <tbody>\n",
       "    <tr>\n",
       "      <th>0</th>\n",
       "      <td>M</td>\n",
       "      <td>0.455</td>\n",
       "      <td>0.365</td>\n",
       "      <td>0.095</td>\n",
       "      <td>0.5140</td>\n",
       "      <td>0.2245</td>\n",
       "      <td>0.1010</td>\n",
       "      <td>0.150</td>\n",
       "      <td>15</td>\n",
       "    </tr>\n",
       "    <tr>\n",
       "      <th>1</th>\n",
       "      <td>M</td>\n",
       "      <td>0.350</td>\n",
       "      <td>0.265</td>\n",
       "      <td>0.090</td>\n",
       "      <td>0.2255</td>\n",
       "      <td>0.0995</td>\n",
       "      <td>0.0485</td>\n",
       "      <td>0.070</td>\n",
       "      <td>7</td>\n",
       "    </tr>\n",
       "    <tr>\n",
       "      <th>2</th>\n",
       "      <td>F</td>\n",
       "      <td>0.530</td>\n",
       "      <td>0.420</td>\n",
       "      <td>0.135</td>\n",
       "      <td>0.6770</td>\n",
       "      <td>0.2565</td>\n",
       "      <td>0.1415</td>\n",
       "      <td>0.210</td>\n",
       "      <td>9</td>\n",
       "    </tr>\n",
       "    <tr>\n",
       "      <th>3</th>\n",
       "      <td>M</td>\n",
       "      <td>0.440</td>\n",
       "      <td>0.365</td>\n",
       "      <td>0.125</td>\n",
       "      <td>0.5160</td>\n",
       "      <td>0.2155</td>\n",
       "      <td>0.1140</td>\n",
       "      <td>0.155</td>\n",
       "      <td>10</td>\n",
       "    </tr>\n",
       "    <tr>\n",
       "      <th>4</th>\n",
       "      <td>I</td>\n",
       "      <td>0.330</td>\n",
       "      <td>0.255</td>\n",
       "      <td>0.080</td>\n",
       "      <td>0.2050</td>\n",
       "      <td>0.0895</td>\n",
       "      <td>0.0395</td>\n",
       "      <td>0.055</td>\n",
       "      <td>7</td>\n",
       "    </tr>\n",
       "  </tbody>\n",
       "</table>\n",
       "</div>"
      ],
      "text/plain": [
       "  Sex  Length  Diameter  Height  Whole weight  Shucked weight  Viscera weight  \\\n",
       "0   M   0.455     0.365   0.095        0.5140          0.2245          0.1010   \n",
       "1   M   0.350     0.265   0.090        0.2255          0.0995          0.0485   \n",
       "2   F   0.530     0.420   0.135        0.6770          0.2565          0.1415   \n",
       "3   M   0.440     0.365   0.125        0.5160          0.2155          0.1140   \n",
       "4   I   0.330     0.255   0.080        0.2050          0.0895          0.0395   \n",
       "\n",
       "   Shell weight  Rings  \n",
       "0         0.150     15  \n",
       "1         0.070      7  \n",
       "2         0.210      9  \n",
       "3         0.155     10  \n",
       "4         0.055      7  "
      ]
     },
     "execution_count": 8,
     "metadata": {},
     "output_type": "execute_result"
    }
   ],
   "source": [
    "df.head()"
   ]
  },
  {
   "cell_type": "code",
   "execution_count": 10,
   "id": "379eb7e4",
   "metadata": {},
   "outputs": [
    {
     "data": {
      "text/html": [
       "<div>\n",
       "<style scoped>\n",
       "    .dataframe tbody tr th:only-of-type {\n",
       "        vertical-align: middle;\n",
       "    }\n",
       "\n",
       "    .dataframe tbody tr th {\n",
       "        vertical-align: top;\n",
       "    }\n",
       "\n",
       "    .dataframe thead th {\n",
       "        text-align: right;\n",
       "    }\n",
       "</style>\n",
       "<table border=\"1\" class=\"dataframe\">\n",
       "  <thead>\n",
       "    <tr style=\"text-align: right;\">\n",
       "      <th></th>\n",
       "      <th>Sex</th>\n",
       "      <th>Length</th>\n",
       "      <th>Diameter</th>\n",
       "      <th>Height</th>\n",
       "      <th>Whole weight</th>\n",
       "      <th>Shucked weight</th>\n",
       "      <th>Viscera weight</th>\n",
       "      <th>Shell weight</th>\n",
       "      <th>Rings</th>\n",
       "    </tr>\n",
       "  </thead>\n",
       "  <tbody>\n",
       "    <tr>\n",
       "      <th>4172</th>\n",
       "      <td>F</td>\n",
       "      <td>0.565</td>\n",
       "      <td>0.450</td>\n",
       "      <td>0.165</td>\n",
       "      <td>0.8870</td>\n",
       "      <td>0.3700</td>\n",
       "      <td>0.2390</td>\n",
       "      <td>0.2490</td>\n",
       "      <td>11</td>\n",
       "    </tr>\n",
       "    <tr>\n",
       "      <th>4173</th>\n",
       "      <td>M</td>\n",
       "      <td>0.590</td>\n",
       "      <td>0.440</td>\n",
       "      <td>0.135</td>\n",
       "      <td>0.9660</td>\n",
       "      <td>0.4390</td>\n",
       "      <td>0.2145</td>\n",
       "      <td>0.2605</td>\n",
       "      <td>10</td>\n",
       "    </tr>\n",
       "    <tr>\n",
       "      <th>4174</th>\n",
       "      <td>M</td>\n",
       "      <td>0.600</td>\n",
       "      <td>0.475</td>\n",
       "      <td>0.205</td>\n",
       "      <td>1.1760</td>\n",
       "      <td>0.5255</td>\n",
       "      <td>0.2875</td>\n",
       "      <td>0.3080</td>\n",
       "      <td>9</td>\n",
       "    </tr>\n",
       "    <tr>\n",
       "      <th>4175</th>\n",
       "      <td>F</td>\n",
       "      <td>0.625</td>\n",
       "      <td>0.485</td>\n",
       "      <td>0.150</td>\n",
       "      <td>1.0945</td>\n",
       "      <td>0.5310</td>\n",
       "      <td>0.2610</td>\n",
       "      <td>0.2960</td>\n",
       "      <td>10</td>\n",
       "    </tr>\n",
       "    <tr>\n",
       "      <th>4176</th>\n",
       "      <td>M</td>\n",
       "      <td>0.710</td>\n",
       "      <td>0.555</td>\n",
       "      <td>0.195</td>\n",
       "      <td>1.9485</td>\n",
       "      <td>0.9455</td>\n",
       "      <td>0.3765</td>\n",
       "      <td>0.4950</td>\n",
       "      <td>12</td>\n",
       "    </tr>\n",
       "  </tbody>\n",
       "</table>\n",
       "</div>"
      ],
      "text/plain": [
       "     Sex  Length  Diameter  Height  Whole weight  Shucked weight  \\\n",
       "4172   F   0.565     0.450   0.165        0.8870          0.3700   \n",
       "4173   M   0.590     0.440   0.135        0.9660          0.4390   \n",
       "4174   M   0.600     0.475   0.205        1.1760          0.5255   \n",
       "4175   F   0.625     0.485   0.150        1.0945          0.5310   \n",
       "4176   M   0.710     0.555   0.195        1.9485          0.9455   \n",
       "\n",
       "      Viscera weight  Shell weight  Rings  \n",
       "4172          0.2390        0.2490     11  \n",
       "4173          0.2145        0.2605     10  \n",
       "4174          0.2875        0.3080      9  \n",
       "4175          0.2610        0.2960     10  \n",
       "4176          0.3765        0.4950     12  "
      ]
     },
     "execution_count": 10,
     "metadata": {},
     "output_type": "execute_result"
    }
   ],
   "source": [
    "df.tail()"
   ]
  },
  {
   "cell_type": "code",
   "execution_count": 13,
   "id": "2c3d926b",
   "metadata": {},
   "outputs": [
    {
     "data": {
      "text/plain": [
       "(4177, 9)"
      ]
     },
     "execution_count": 13,
     "metadata": {},
     "output_type": "execute_result"
    }
   ],
   "source": [
    "df.shape"
   ]
  },
  {
   "cell_type": "code",
   "execution_count": 15,
   "id": "9ac2b085",
   "metadata": {},
   "outputs": [],
   "source": [
    "#checking for duplicate value\n",
    "df.drop_duplicates(inplace=True)"
   ]
  },
  {
   "cell_type": "code",
   "execution_count": 16,
   "id": "558fff18",
   "metadata": {},
   "outputs": [
    {
     "data": {
      "text/plain": [
       "(4177, 9)"
      ]
     },
     "execution_count": 16,
     "metadata": {},
     "output_type": "execute_result"
    }
   ],
   "source": [
    "df.shape"
   ]
  },
  {
   "cell_type": "markdown",
   "id": "fdac0dea",
   "metadata": {},
   "source": [
    "No duplicate item present"
   ]
  },
  {
   "cell_type": "code",
   "execution_count": 19,
   "id": "7bf4685c",
   "metadata": {},
   "outputs": [
    {
     "name": "stdout",
     "output_type": "stream",
     "text": [
      "<class 'pandas.core.frame.DataFrame'>\n",
      "Int64Index: 4177 entries, 0 to 4176\n",
      "Data columns (total 9 columns):\n",
      " #   Column          Non-Null Count  Dtype  \n",
      "---  ------          --------------  -----  \n",
      " 0   Sex             4177 non-null   object \n",
      " 1   Length          4177 non-null   float64\n",
      " 2   Diameter        4177 non-null   float64\n",
      " 3   Height          4177 non-null   float64\n",
      " 4   Whole weight    4177 non-null   float64\n",
      " 5   Shucked weight  4177 non-null   float64\n",
      " 6   Viscera weight  4177 non-null   float64\n",
      " 7   Shell weight    4177 non-null   float64\n",
      " 8   Rings           4177 non-null   int64  \n",
      "dtypes: float64(7), int64(1), object(1)\n",
      "memory usage: 326.3+ KB\n"
     ]
    }
   ],
   "source": [
    "df.info()"
   ]
  },
  {
   "cell_type": "code",
   "execution_count": 11,
   "id": "a360d225",
   "metadata": {},
   "outputs": [
    {
     "data": {
      "text/plain": [
       "Index(['Sex', 'Length', 'Diameter', 'Height', 'Whole weight', 'Shucked weight',\n",
       "       'Viscera weight', 'Shell weight', 'Rings'],\n",
       "      dtype='object')"
      ]
     },
     "execution_count": 11,
     "metadata": {},
     "output_type": "execute_result"
    }
   ],
   "source": [
    "# checking columns\n",
    "df.columns"
   ]
  },
  {
   "cell_type": "code",
   "execution_count": 21,
   "id": "7d4fbc09",
   "metadata": {},
   "outputs": [
    {
     "data": {
      "text/plain": [
       "Sex                object\n",
       "Length            float64\n",
       "Diameter          float64\n",
       "Height            float64\n",
       "Whole weight      float64\n",
       "Shucked weight    float64\n",
       "Viscera weight    float64\n",
       "Shell weight      float64\n",
       "Rings               int64\n",
       "dtype: object"
      ]
     },
     "execution_count": 21,
     "metadata": {},
     "output_type": "execute_result"
    }
   ],
   "source": [
    "df.dtypes"
   ]
  },
  {
   "cell_type": "code",
   "execution_count": 22,
   "id": "c38eb4e2",
   "metadata": {},
   "outputs": [
    {
     "data": {
      "text/plain": [
       "2    1528\n",
       "1    1342\n",
       "0    1307\n",
       "Name: Sex, dtype: int64"
      ]
     },
     "execution_count": 22,
     "metadata": {},
     "output_type": "execute_result"
    }
   ],
   "source": [
    "from sklearn.preprocessing import LabelEncoder\n",
    "le =LabelEncoder()\n",
    "\n",
    "list1=['Sex']\n",
    "for val in list1:\n",
    "  df[val]=le.fit_transform(df[val].astype(str))\n",
    "\n",
    "df[\"Sex\"].value_counts()"
   ]
  },
  {
   "cell_type": "code",
   "execution_count": 24,
   "id": "2aceac3f",
   "metadata": {},
   "outputs": [
    {
     "data": {
      "text/plain": [
       "Sex                 int32\n",
       "Length            float64\n",
       "Diameter          float64\n",
       "Height            float64\n",
       "Whole weight      float64\n",
       "Shucked weight    float64\n",
       "Viscera weight    float64\n",
       "Shell weight      float64\n",
       "Rings               int64\n",
       "dtype: object"
      ]
     },
     "execution_count": 24,
     "metadata": {},
     "output_type": "execute_result"
    }
   ],
   "source": [
    "df.dtypes"
   ]
  },
  {
   "cell_type": "code",
   "execution_count": 25,
   "id": "2df14712",
   "metadata": {},
   "outputs": [],
   "source": [
    "df['Sex']=df['Sex'].astype('float')"
   ]
  },
  {
   "cell_type": "code",
   "execution_count": 26,
   "id": "9e801f63",
   "metadata": {},
   "outputs": [
    {
     "data": {
      "text/plain": [
       "Sex               float64\n",
       "Length            float64\n",
       "Diameter          float64\n",
       "Height            float64\n",
       "Whole weight      float64\n",
       "Shucked weight    float64\n",
       "Viscera weight    float64\n",
       "Shell weight      float64\n",
       "Rings               int64\n",
       "dtype: object"
      ]
     },
     "execution_count": 26,
     "metadata": {},
     "output_type": "execute_result"
    }
   ],
   "source": [
    "df.dtypes"
   ]
  },
  {
   "cell_type": "code",
   "execution_count": 27,
   "id": "53ae419e",
   "metadata": {},
   "outputs": [
    {
     "data": {
      "text/html": [
       "<div>\n",
       "<style scoped>\n",
       "    .dataframe tbody tr th:only-of-type {\n",
       "        vertical-align: middle;\n",
       "    }\n",
       "\n",
       "    .dataframe tbody tr th {\n",
       "        vertical-align: top;\n",
       "    }\n",
       "\n",
       "    .dataframe thead th {\n",
       "        text-align: right;\n",
       "    }\n",
       "</style>\n",
       "<table border=\"1\" class=\"dataframe\">\n",
       "  <thead>\n",
       "    <tr style=\"text-align: right;\">\n",
       "      <th></th>\n",
       "      <th>Sex</th>\n",
       "      <th>Length</th>\n",
       "      <th>Diameter</th>\n",
       "      <th>Height</th>\n",
       "      <th>Whole weight</th>\n",
       "      <th>Shucked weight</th>\n",
       "      <th>Viscera weight</th>\n",
       "      <th>Shell weight</th>\n",
       "      <th>Rings</th>\n",
       "    </tr>\n",
       "  </thead>\n",
       "  <tbody>\n",
       "    <tr>\n",
       "      <th>0</th>\n",
       "      <td>2.0</td>\n",
       "      <td>0.455</td>\n",
       "      <td>0.365</td>\n",
       "      <td>0.095</td>\n",
       "      <td>0.5140</td>\n",
       "      <td>0.2245</td>\n",
       "      <td>0.1010</td>\n",
       "      <td>0.1500</td>\n",
       "      <td>15</td>\n",
       "    </tr>\n",
       "    <tr>\n",
       "      <th>1</th>\n",
       "      <td>2.0</td>\n",
       "      <td>0.350</td>\n",
       "      <td>0.265</td>\n",
       "      <td>0.090</td>\n",
       "      <td>0.2255</td>\n",
       "      <td>0.0995</td>\n",
       "      <td>0.0485</td>\n",
       "      <td>0.0700</td>\n",
       "      <td>7</td>\n",
       "    </tr>\n",
       "    <tr>\n",
       "      <th>2</th>\n",
       "      <td>0.0</td>\n",
       "      <td>0.530</td>\n",
       "      <td>0.420</td>\n",
       "      <td>0.135</td>\n",
       "      <td>0.6770</td>\n",
       "      <td>0.2565</td>\n",
       "      <td>0.1415</td>\n",
       "      <td>0.2100</td>\n",
       "      <td>9</td>\n",
       "    </tr>\n",
       "    <tr>\n",
       "      <th>3</th>\n",
       "      <td>2.0</td>\n",
       "      <td>0.440</td>\n",
       "      <td>0.365</td>\n",
       "      <td>0.125</td>\n",
       "      <td>0.5160</td>\n",
       "      <td>0.2155</td>\n",
       "      <td>0.1140</td>\n",
       "      <td>0.1550</td>\n",
       "      <td>10</td>\n",
       "    </tr>\n",
       "    <tr>\n",
       "      <th>4</th>\n",
       "      <td>1.0</td>\n",
       "      <td>0.330</td>\n",
       "      <td>0.255</td>\n",
       "      <td>0.080</td>\n",
       "      <td>0.2050</td>\n",
       "      <td>0.0895</td>\n",
       "      <td>0.0395</td>\n",
       "      <td>0.0550</td>\n",
       "      <td>7</td>\n",
       "    </tr>\n",
       "    <tr>\n",
       "      <th>...</th>\n",
       "      <td>...</td>\n",
       "      <td>...</td>\n",
       "      <td>...</td>\n",
       "      <td>...</td>\n",
       "      <td>...</td>\n",
       "      <td>...</td>\n",
       "      <td>...</td>\n",
       "      <td>...</td>\n",
       "      <td>...</td>\n",
       "    </tr>\n",
       "    <tr>\n",
       "      <th>4172</th>\n",
       "      <td>0.0</td>\n",
       "      <td>0.565</td>\n",
       "      <td>0.450</td>\n",
       "      <td>0.165</td>\n",
       "      <td>0.8870</td>\n",
       "      <td>0.3700</td>\n",
       "      <td>0.2390</td>\n",
       "      <td>0.2490</td>\n",
       "      <td>11</td>\n",
       "    </tr>\n",
       "    <tr>\n",
       "      <th>4173</th>\n",
       "      <td>2.0</td>\n",
       "      <td>0.590</td>\n",
       "      <td>0.440</td>\n",
       "      <td>0.135</td>\n",
       "      <td>0.9660</td>\n",
       "      <td>0.4390</td>\n",
       "      <td>0.2145</td>\n",
       "      <td>0.2605</td>\n",
       "      <td>10</td>\n",
       "    </tr>\n",
       "    <tr>\n",
       "      <th>4174</th>\n",
       "      <td>2.0</td>\n",
       "      <td>0.600</td>\n",
       "      <td>0.475</td>\n",
       "      <td>0.205</td>\n",
       "      <td>1.1760</td>\n",
       "      <td>0.5255</td>\n",
       "      <td>0.2875</td>\n",
       "      <td>0.3080</td>\n",
       "      <td>9</td>\n",
       "    </tr>\n",
       "    <tr>\n",
       "      <th>4175</th>\n",
       "      <td>0.0</td>\n",
       "      <td>0.625</td>\n",
       "      <td>0.485</td>\n",
       "      <td>0.150</td>\n",
       "      <td>1.0945</td>\n",
       "      <td>0.5310</td>\n",
       "      <td>0.2610</td>\n",
       "      <td>0.2960</td>\n",
       "      <td>10</td>\n",
       "    </tr>\n",
       "    <tr>\n",
       "      <th>4176</th>\n",
       "      <td>2.0</td>\n",
       "      <td>0.710</td>\n",
       "      <td>0.555</td>\n",
       "      <td>0.195</td>\n",
       "      <td>1.9485</td>\n",
       "      <td>0.9455</td>\n",
       "      <td>0.3765</td>\n",
       "      <td>0.4950</td>\n",
       "      <td>12</td>\n",
       "    </tr>\n",
       "  </tbody>\n",
       "</table>\n",
       "<p>4177 rows × 9 columns</p>\n",
       "</div>"
      ],
      "text/plain": [
       "      Sex  Length  Diameter  Height  Whole weight  Shucked weight  \\\n",
       "0     2.0   0.455     0.365   0.095        0.5140          0.2245   \n",
       "1     2.0   0.350     0.265   0.090        0.2255          0.0995   \n",
       "2     0.0   0.530     0.420   0.135        0.6770          0.2565   \n",
       "3     2.0   0.440     0.365   0.125        0.5160          0.2155   \n",
       "4     1.0   0.330     0.255   0.080        0.2050          0.0895   \n",
       "...   ...     ...       ...     ...           ...             ...   \n",
       "4172  0.0   0.565     0.450   0.165        0.8870          0.3700   \n",
       "4173  2.0   0.590     0.440   0.135        0.9660          0.4390   \n",
       "4174  2.0   0.600     0.475   0.205        1.1760          0.5255   \n",
       "4175  0.0   0.625     0.485   0.150        1.0945          0.5310   \n",
       "4176  2.0   0.710     0.555   0.195        1.9485          0.9455   \n",
       "\n",
       "      Viscera weight  Shell weight  Rings  \n",
       "0             0.1010        0.1500     15  \n",
       "1             0.0485        0.0700      7  \n",
       "2             0.1415        0.2100      9  \n",
       "3             0.1140        0.1550     10  \n",
       "4             0.0395        0.0550      7  \n",
       "...              ...           ...    ...  \n",
       "4172          0.2390        0.2490     11  \n",
       "4173          0.2145        0.2605     10  \n",
       "4174          0.2875        0.3080      9  \n",
       "4175          0.2610        0.2960     10  \n",
       "4176          0.3765        0.4950     12  \n",
       "\n",
       "[4177 rows x 9 columns]"
      ]
     },
     "execution_count": 27,
     "metadata": {},
     "output_type": "execute_result"
    }
   ],
   "source": [
    "df"
   ]
  },
  {
   "cell_type": "code",
   "execution_count": 28,
   "id": "b99afd10",
   "metadata": {},
   "outputs": [
    {
     "data": {
      "text/plain": [
       "Sex               0\n",
       "Length            0\n",
       "Diameter          0\n",
       "Height            0\n",
       "Whole weight      0\n",
       "Shucked weight    0\n",
       "Viscera weight    0\n",
       "Shell weight      0\n",
       "Rings             0\n",
       "dtype: int64"
      ]
     },
     "execution_count": 28,
     "metadata": {},
     "output_type": "execute_result"
    }
   ],
   "source": [
    "# checking null values\n",
    "df.isnull().sum()"
   ]
  },
  {
   "cell_type": "code",
   "execution_count": 31,
   "id": "219b3bb8",
   "metadata": {},
   "outputs": [
    {
     "data": {
      "image/png": "[encoded data removed]",
      "text/plain": [
       "<Figure size 432x288 with 2 Axes>"
      ]
     },
     "metadata": {
      "needs_background": "light"
     },
     "output_type": "display_data"
    }
   ],
   "source": [
    "#checking for null values using heatmap\n",
    "import seaborn as sns\n",
    "import matplotlib.pyplot as plt\n",
    "import warnings\n",
    "warnings.filterwarnings('ignore')\n",
    "\n",
    "sns.heatmap(df.isnull())\n",
    "plt.title(\"Null Values\")\n",
    "plt.show()"
   ]
  },
  {
   "cell_type": "markdown",
   "id": "1ce48ed8",
   "metadata": {},
   "source": [
    "No null values present"
   ]
  },
  {
   "cell_type": "markdown",
   "id": "dc0bea3c",
   "metadata": {},
   "source": [
    "## Exploratory data analysis"
   ]
  },
  {
   "cell_type": "code",
   "execution_count": 33,
   "id": "a7b40f77",
   "metadata": {},
   "outputs": [
    {
     "data": {
      "text/plain": [
       "<AxesSubplot:xlabel='Sex', ylabel='Rings'>"
      ]
     },
     "execution_count": 33,
     "metadata": {},
     "output_type": "execute_result"
    },
    {
     "data": {
      "image/png": "[encoded data removed]",
      "text/plain": [
       "<Figure size 1080x576 with 1 Axes>"
      ]
     },
     "metadata": {
      "needs_background": "light"
     },
     "output_type": "display_data"
    }
   ],
   "source": [
    "plt.figure(figsize = (15,8))\n",
    "sns.swarmplot(x = 'Sex', y = 'Rings', data = df, hue = 'Sex')\n",
    "sns.violinplot(x = 'Sex', y = 'Rings', data = df)"
   ]
  },
  {
   "cell_type": "markdown",
   "id": "9f3b0731",
   "metadata": {},
   "source": [
    "From the Above plot\n",
    "\n",
    "0. Indicating Female\n",
    "2. Indicating Infant\n",
    "3. Indicating Male"
   ]
  },
  {
   "cell_type": "markdown",
   "id": "0babeca1",
   "metadata": {},
   "source": [
    "Scatter Plot"
   ]
  },
  {
   "cell_type": "code",
   "execution_count": 35,
   "id": "48fb7453",
   "metadata": {},
   "outputs": [
    {
     "data": {
      "text/plain": [
       "<AxesSubplot:xlabel='Length', ylabel='Rings'>"
      ]
     },
     "execution_count": 35,
     "metadata": {},
     "output_type": "execute_result"
    },
    {
     "data": {
      "image/png": "[encoded data removed]",
      "text/plain": [
       "<Figure size 432x288 with 1 Axes>"
      ]
     },
     "metadata": {
      "needs_background": "light"
     },
     "output_type": "display_data"
    }
   ],
   "source": [
    "sns.regplot(x=\"Length\",y=\"Rings\",data=df)"
   ]
  },
  {
   "cell_type": "code",
   "execution_count": 36,
   "id": "b9e36e0b",
   "metadata": {},
   "outputs": [
    {
     "data": {
      "text/plain": [
       "<seaborn.axisgrid.FacetGrid at 0x1b8e7ab90d0>"
      ]
     },
     "execution_count": 36,
     "metadata": {},
     "output_type": "execute_result"
    },
    {
     "data": {
      "image/png": "[encoded data removed]",
      "text/plain": [
       "<Figure size 360x360 with 1 Axes>"
      ]
     },
     "metadata": {
      "needs_background": "light"
     },
     "output_type": "display_data"
    }
   ],
   "source": [
    "sns.lmplot(x=\"Diameter\",y=\"Rings\",data=df)"
   ]
  },
  {
   "cell_type": "code",
   "execution_count": 37,
   "id": "27a7d17f",
   "metadata": {},
   "outputs": [
    {
     "data": {
      "text/plain": [
       "<AxesSubplot:xlabel='Height', ylabel='Rings'>"
      ]
     },
     "execution_count": 37,
     "metadata": {},
     "output_type": "execute_result"
    },
    {
     "data": {
      "image/png": "[encoded data removed]",
      "text/plain": [
       "<Figure size 432x288 with 1 Axes>"
      ]
     },
     "metadata": {
      "needs_background": "light"
     },
     "output_type": "display_data"
    }
   ],
   "source": [
    "sns.scatterplot(x=\"Height\",y=\"Rings\",data=df)"
   ]
  },
  {
   "cell_type": "code",
   "execution_count": 38,
   "id": "8d7d567f",
   "metadata": {},
   "outputs": [
    {
     "data": {
      "text/plain": [
       "<AxesSubplot:xlabel='Whole weight', ylabel='Rings'>"
      ]
     },
     "execution_count": 38,
     "metadata": {},
     "output_type": "execute_result"
    },
    {
     "data": {
      "image/png": "[encoded data removed]",
      "text/plain": [
       "<Figure size 432x288 with 1 Axes>"
      ]
     },
     "metadata": {
      "needs_background": "light"
     },
     "output_type": "display_data"
    }
   ],
   "source": [
    "sns.kdeplot(x=\"Whole weight\",y=\"Rings\",data=df)"
   ]
  },
  {
   "cell_type": "code",
   "execution_count": 39,
   "id": "f42ecc54",
   "metadata": {},
   "outputs": [
    {
     "data": {
      "text/plain": [
       "<AxesSubplot:xlabel='Shucked weight', ylabel='Rings'>"
      ]
     },
     "execution_count": 39,
     "metadata": {},
     "output_type": "execute_result"
    },
    {
     "data": {
      "image/png": "[encoded data removed]",
      "text/plain": [
       "<Figure size 432x288 with 1 Axes>"
      ]
     },
     "metadata": {
      "needs_background": "light"
     },
     "output_type": "display_data"
    }
   ],
   "source": [
    "sns.scatterplot(x=\"Shucked weight\",y=\"Rings\",data=df)"
   ]
  },
  {
   "cell_type": "code",
   "execution_count": 40,
   "id": "2a5d15da",
   "metadata": {},
   "outputs": [
    {
     "data": {
      "text/plain": [
       "<seaborn.axisgrid.FacetGrid at 0x1b8e918a040>"
      ]
     },
     "execution_count": 40,
     "metadata": {},
     "output_type": "execute_result"
    },
    {
     "data": {
      "image/png": "[encoded data removed]",
      "text/plain": [
       "<Figure size 360x360 with 1 Axes>"
      ]
     },
     "metadata": {
      "needs_background": "light"
     },
     "output_type": "display_data"
    }
   ],
   "source": [
    "sns.displot(x=\"Viscera weight\",y=\"Rings\",data=df)"
   ]
  },
  {
   "cell_type": "code",
   "execution_count": 41,
   "id": "502a1a4c",
   "metadata": {},
   "outputs": [
    {
     "data": {
      "text/plain": [
       "<AxesSubplot:xlabel='Shell weight', ylabel='Rings'>"
      ]
     },
     "execution_count": 41,
     "metadata": {},
     "output_type": "execute_result"
    },
    {
     "data": {
      "image/png": "[encoded data removed]",
      "text/plain": [
       "<Figure size 432x288 with 1 Axes>"
      ]
     },
     "metadata": {
      "needs_background": "light"
     },
     "output_type": "display_data"
    }
   ],
   "source": [
    "sns.histplot(x=\"Shell weight\",y=\"Rings\",data=df)"
   ]
  },
  {
   "cell_type": "code",
   "execution_count": 42,
   "id": "05d34fe6",
   "metadata": {},
   "outputs": [
    {
     "data": {
      "text/plain": [
       "array([[<AxesSubplot:title={'center':'Sex'}>,\n",
       "        <AxesSubplot:title={'center':'Length'}>,\n",
       "        <AxesSubplot:title={'center':'Diameter'}>],\n",
       "       [<AxesSubplot:title={'center':'Height'}>,\n",
       "        <AxesSubplot:title={'center':'Whole weight'}>,\n",
       "        <AxesSubplot:title={'center':'Shucked weight'}>],\n",
       "       [<AxesSubplot:title={'center':'Viscera weight'}>,\n",
       "        <AxesSubplot:title={'center':'Shell weight'}>,\n",
       "        <AxesSubplot:title={'center':'Rings'}>]], dtype=object)"
      ]
     },
     "execution_count": 42,
     "metadata": {},
     "output_type": "execute_result"
    },
    {
     "data": {
      "image/png": "[encoded data removed]",
      "text/plain": [
       "<Figure size 1440x720 with 9 Axes>"
      ]
     },
     "metadata": {
      "needs_background": "light"
     },
     "output_type": "display_data"
    }
   ],
   "source": [
    "df.hist(figsize=(20,10), grid=False, layout=(3, 3), bins = 30)"
   ]
  },
  {
   "cell_type": "code",
   "execution_count": 43,
   "id": "593409a5",
   "metadata": {},
   "outputs": [
    {
     "data": {
      "text/html": [
       "<div>\n",
       "<style scoped>\n",
       "    .dataframe tbody tr th:only-of-type {\n",
       "        vertical-align: middle;\n",
       "    }\n",
       "\n",
       "    .dataframe tbody tr th {\n",
       "        vertical-align: top;\n",
       "    }\n",
       "\n",
       "    .dataframe thead th {\n",
       "        text-align: right;\n",
       "    }\n",
       "</style>\n",
       "<table border=\"1\" class=\"dataframe\">\n",
       "  <thead>\n",
       "    <tr style=\"text-align: right;\">\n",
       "      <th></th>\n",
       "      <th>Sex</th>\n",
       "      <th>Length</th>\n",
       "      <th>Diameter</th>\n",
       "      <th>Height</th>\n",
       "      <th>Whole weight</th>\n",
       "      <th>Shucked weight</th>\n",
       "      <th>Viscera weight</th>\n",
       "      <th>Shell weight</th>\n",
       "      <th>Rings</th>\n",
       "    </tr>\n",
       "  </thead>\n",
       "  <tbody>\n",
       "    <tr>\n",
       "      <th>Sex</th>\n",
       "      <td>1.000000</td>\n",
       "      <td>-0.036066</td>\n",
       "      <td>-0.038874</td>\n",
       "      <td>-0.042077</td>\n",
       "      <td>-0.021391</td>\n",
       "      <td>-0.001373</td>\n",
       "      <td>-0.032067</td>\n",
       "      <td>-0.034854</td>\n",
       "      <td>-0.034627</td>\n",
       "    </tr>\n",
       "    <tr>\n",
       "      <th>Length</th>\n",
       "      <td>-0.036066</td>\n",
       "      <td>1.000000</td>\n",
       "      <td>0.986812</td>\n",
       "      <td>0.827554</td>\n",
       "      <td>0.925261</td>\n",
       "      <td>0.897914</td>\n",
       "      <td>0.903018</td>\n",
       "      <td>0.897706</td>\n",
       "      <td>0.556720</td>\n",
       "    </tr>\n",
       "    <tr>\n",
       "      <th>Diameter</th>\n",
       "      <td>-0.038874</td>\n",
       "      <td>0.986812</td>\n",
       "      <td>1.000000</td>\n",
       "      <td>0.833684</td>\n",
       "      <td>0.925452</td>\n",
       "      <td>0.893162</td>\n",
       "      <td>0.899724</td>\n",
       "      <td>0.905330</td>\n",
       "      <td>0.574660</td>\n",
       "    </tr>\n",
       "    <tr>\n",
       "      <th>Height</th>\n",
       "      <td>-0.042077</td>\n",
       "      <td>0.827554</td>\n",
       "      <td>0.833684</td>\n",
       "      <td>1.000000</td>\n",
       "      <td>0.819221</td>\n",
       "      <td>0.774972</td>\n",
       "      <td>0.798319</td>\n",
       "      <td>0.817338</td>\n",
       "      <td>0.557467</td>\n",
       "    </tr>\n",
       "    <tr>\n",
       "      <th>Whole weight</th>\n",
       "      <td>-0.021391</td>\n",
       "      <td>0.925261</td>\n",
       "      <td>0.925452</td>\n",
       "      <td>0.819221</td>\n",
       "      <td>1.000000</td>\n",
       "      <td>0.969405</td>\n",
       "      <td>0.966375</td>\n",
       "      <td>0.955355</td>\n",
       "      <td>0.540390</td>\n",
       "    </tr>\n",
       "    <tr>\n",
       "      <th>Shucked weight</th>\n",
       "      <td>-0.001373</td>\n",
       "      <td>0.897914</td>\n",
       "      <td>0.893162</td>\n",
       "      <td>0.774972</td>\n",
       "      <td>0.969405</td>\n",
       "      <td>1.000000</td>\n",
       "      <td>0.931961</td>\n",
       "      <td>0.882617</td>\n",
       "      <td>0.420884</td>\n",
       "    </tr>\n",
       "    <tr>\n",
       "      <th>Viscera weight</th>\n",
       "      <td>-0.032067</td>\n",
       "      <td>0.903018</td>\n",
       "      <td>0.899724</td>\n",
       "      <td>0.798319</td>\n",
       "      <td>0.966375</td>\n",
       "      <td>0.931961</td>\n",
       "      <td>1.000000</td>\n",
       "      <td>0.907656</td>\n",
       "      <td>0.503819</td>\n",
       "    </tr>\n",
       "    <tr>\n",
       "      <th>Shell weight</th>\n",
       "      <td>-0.034854</td>\n",
       "      <td>0.897706</td>\n",
       "      <td>0.905330</td>\n",
       "      <td>0.817338</td>\n",
       "      <td>0.955355</td>\n",
       "      <td>0.882617</td>\n",
       "      <td>0.907656</td>\n",
       "      <td>1.000000</td>\n",
       "      <td>0.627574</td>\n",
       "    </tr>\n",
       "    <tr>\n",
       "      <th>Rings</th>\n",
       "      <td>-0.034627</td>\n",
       "      <td>0.556720</td>\n",
       "      <td>0.574660</td>\n",
       "      <td>0.557467</td>\n",
       "      <td>0.540390</td>\n",
       "      <td>0.420884</td>\n",
       "      <td>0.503819</td>\n",
       "      <td>0.627574</td>\n",
       "      <td>1.000000</td>\n",
       "    </tr>\n",
       "  </tbody>\n",
       "</table>\n",
       "</div>"
      ],
      "text/plain": [
       "                     Sex    Length  Diameter    Height  Whole weight  \\\n",
       "Sex             1.000000 -0.036066 -0.038874 -0.042077     -0.021391   \n",
       "Length         -0.036066  1.000000  0.986812  0.827554      0.925261   \n",
       "Diameter       -0.038874  0.986812  1.000000  0.833684      0.925452   \n",
       "Height         -0.042077  0.827554  0.833684  1.000000      0.819221   \n",
       "Whole weight   -0.021391  0.925261  0.925452  0.819221      1.000000   \n",
       "Shucked weight -0.001373  0.897914  0.893162  0.774972      0.969405   \n",
       "Viscera weight -0.032067  0.903018  0.899724  0.798319      0.966375   \n",
       "Shell weight   -0.034854  0.897706  0.905330  0.817338      0.955355   \n",
       "Rings          -0.034627  0.556720  0.574660  0.557467      0.540390   \n",
       "\n",
       "                Shucked weight  Viscera weight  Shell weight     Rings  \n",
       "Sex                  -0.001373       -0.032067     -0.034854 -0.034627  \n",
       "Length                0.897914        0.903018      0.897706  0.556720  \n",
       "Diameter              0.893162        0.899724      0.905330  0.574660  \n",
       "Height                0.774972        0.798319      0.817338  0.557467  \n",
       "Whole weight          0.969405        0.966375      0.955355  0.540390  \n",
       "Shucked weight        1.000000        0.931961      0.882617  0.420884  \n",
       "Viscera weight        0.931961        1.000000      0.907656  0.503819  \n",
       "Shell weight          0.882617        0.907656      1.000000  0.627574  \n",
       "Rings                 0.420884        0.503819      0.627574  1.000000  "
      ]
     },
     "execution_count": 43,
     "metadata": {},
     "output_type": "execute_result"
    }
   ],
   "source": [
    "df.corr()"
   ]
  },
  {
   "cell_type": "code",
   "execution_count": 44,
   "id": "1479c52b",
   "metadata": {},
   "outputs": [
    {
     "data": {
      "text/plain": [
       "Sex              -0.034627\n",
       "Shucked weight    0.420884\n",
       "Viscera weight    0.503819\n",
       "Whole weight      0.540390\n",
       "Length            0.556720\n",
       "Height            0.557467\n",
       "Diameter          0.574660\n",
       "Shell weight      0.627574\n",
       "Rings             1.000000\n",
       "Name: Rings, dtype: float64"
      ]
     },
     "execution_count": 44,
     "metadata": {},
     "output_type": "execute_result"
    }
   ],
   "source": [
    "df.corr()['Rings'].sort_values()"
   ]
  },
  {
   "cell_type": "code",
   "execution_count": 45,
   "id": "f2b5b352",
   "metadata": {},
   "outputs": [
    {
     "data": {
      "text/plain": [
       "<AxesSubplot:>"
      ]
     },
     "execution_count": 45,
     "metadata": {},
     "output_type": "execute_result"
    },
    {
     "data": {
      "image/png": "[encoded data removed]",
      "text/plain": [
       "<Figure size 1080x504 with 2 Axes>"
      ]
     },
     "metadata": {
      "needs_background": "light"
     },
     "output_type": "display_data"
    }
   ],
   "source": [
    "import matplotlib.pyplot as plt\n",
    "plt.figure(figsize=(15,7))\n",
    "sns.heatmap(df.corr(), annot=True, linewidths=0.5,linecolor=\"black\", fmt='.2f')"
   ]
  },
  {
   "cell_type": "markdown",
   "id": "8ca7bc4c",
   "metadata": {},
   "source": [
    "Checking Distribution"
   ]
  },
  {
   "cell_type": "code",
   "execution_count": 46,
   "id": "bc152031",
   "metadata": {},
   "outputs": [
    {
     "data": {
      "text/plain": [
       "array([[<AxesSubplot:ylabel='Density'>, <AxesSubplot:ylabel='Density'>,\n",
       "        <AxesSubplot:ylabel='Density'>],\n",
       "       [<AxesSubplot:ylabel='Density'>, <AxesSubplot:ylabel='Density'>,\n",
       "        <AxesSubplot:ylabel='Density'>],\n",
       "       [<AxesSubplot:ylabel='Density'>, <AxesSubplot:ylabel='Density'>,\n",
       "        <AxesSubplot:ylabel='Density'>]], dtype=object)"
      ]
     },
     "execution_count": 46,
     "metadata": {},
     "output_type": "execute_result"
    },
    {
     "data": {
      "image/png": "[encoded data removed]",
      "text/plain": [
       "<Figure size 1296x864 with 9 Axes>"
      ]
     },
     "metadata": {
      "needs_background": "light"
     },
     "output_type": "display_data"
    }
   ],
   "source": [
    "df.plot(kind='density', subplots=True, layout=(3,3), sharex=False, legend=False, fontsize=1, figsize=(18,12))"
   ]
  },
  {
   "cell_type": "markdown",
   "id": "8d9b8258",
   "metadata": {},
   "source": [
    "Describe the Dataset"
   ]
  },
  {
   "cell_type": "code",
   "execution_count": 48,
   "id": "515e9ad4",
   "metadata": {},
   "outputs": [
    {
     "data": {
      "text/html": [
       "<div>\n",
       "<style scoped>\n",
       "    .dataframe tbody tr th:only-of-type {\n",
       "        vertical-align: middle;\n",
       "    }\n",
       "\n",
       "    .dataframe tbody tr th {\n",
       "        vertical-align: top;\n",
       "    }\n",
       "\n",
       "    .dataframe thead th {\n",
       "        text-align: right;\n",
       "    }\n",
       "</style>\n",
       "<table border=\"1\" class=\"dataframe\">\n",
       "  <thead>\n",
       "    <tr style=\"text-align: right;\">\n",
       "      <th></th>\n",
       "      <th>Sex</th>\n",
       "      <th>Length</th>\n",
       "      <th>Diameter</th>\n",
       "      <th>Height</th>\n",
       "      <th>Whole weight</th>\n",
       "      <th>Shucked weight</th>\n",
       "      <th>Viscera weight</th>\n",
       "      <th>Shell weight</th>\n",
       "      <th>Rings</th>\n",
       "    </tr>\n",
       "  </thead>\n",
       "  <tbody>\n",
       "    <tr>\n",
       "      <th>count</th>\n",
       "      <td>4177.000000</td>\n",
       "      <td>4177.000000</td>\n",
       "      <td>4177.000000</td>\n",
       "      <td>4177.000000</td>\n",
       "      <td>4177.000000</td>\n",
       "      <td>4177.000000</td>\n",
       "      <td>4177.000000</td>\n",
       "      <td>4177.000000</td>\n",
       "      <td>4177.000000</td>\n",
       "    </tr>\n",
       "    <tr>\n",
       "      <th>mean</th>\n",
       "      <td>1.052909</td>\n",
       "      <td>0.523992</td>\n",
       "      <td>0.407881</td>\n",
       "      <td>0.139516</td>\n",
       "      <td>0.828742</td>\n",
       "      <td>0.359367</td>\n",
       "      <td>0.180594</td>\n",
       "      <td>0.238831</td>\n",
       "      <td>9.933684</td>\n",
       "    </tr>\n",
       "    <tr>\n",
       "      <th>std</th>\n",
       "      <td>0.822240</td>\n",
       "      <td>0.120093</td>\n",
       "      <td>0.099240</td>\n",
       "      <td>0.041827</td>\n",
       "      <td>0.490389</td>\n",
       "      <td>0.221963</td>\n",
       "      <td>0.109614</td>\n",
       "      <td>0.139203</td>\n",
       "      <td>3.224169</td>\n",
       "    </tr>\n",
       "    <tr>\n",
       "      <th>min</th>\n",
       "      <td>0.000000</td>\n",
       "      <td>0.075000</td>\n",
       "      <td>0.055000</td>\n",
       "      <td>0.000000</td>\n",
       "      <td>0.002000</td>\n",
       "      <td>0.001000</td>\n",
       "      <td>0.000500</td>\n",
       "      <td>0.001500</td>\n",
       "      <td>1.000000</td>\n",
       "    </tr>\n",
       "    <tr>\n",
       "      <th>25%</th>\n",
       "      <td>0.000000</td>\n",
       "      <td>0.450000</td>\n",
       "      <td>0.350000</td>\n",
       "      <td>0.115000</td>\n",
       "      <td>0.441500</td>\n",
       "      <td>0.186000</td>\n",
       "      <td>0.093500</td>\n",
       "      <td>0.130000</td>\n",
       "      <td>8.000000</td>\n",
       "    </tr>\n",
       "    <tr>\n",
       "      <th>50%</th>\n",
       "      <td>1.000000</td>\n",
       "      <td>0.545000</td>\n",
       "      <td>0.425000</td>\n",
       "      <td>0.140000</td>\n",
       "      <td>0.799500</td>\n",
       "      <td>0.336000</td>\n",
       "      <td>0.171000</td>\n",
       "      <td>0.234000</td>\n",
       "      <td>9.000000</td>\n",
       "    </tr>\n",
       "    <tr>\n",
       "      <th>75%</th>\n",
       "      <td>2.000000</td>\n",
       "      <td>0.615000</td>\n",
       "      <td>0.480000</td>\n",
       "      <td>0.165000</td>\n",
       "      <td>1.153000</td>\n",
       "      <td>0.502000</td>\n",
       "      <td>0.253000</td>\n",
       "      <td>0.329000</td>\n",
       "      <td>11.000000</td>\n",
       "    </tr>\n",
       "    <tr>\n",
       "      <th>max</th>\n",
       "      <td>2.000000</td>\n",
       "      <td>0.815000</td>\n",
       "      <td>0.650000</td>\n",
       "      <td>1.130000</td>\n",
       "      <td>2.825500</td>\n",
       "      <td>1.488000</td>\n",
       "      <td>0.760000</td>\n",
       "      <td>1.005000</td>\n",
       "      <td>29.000000</td>\n",
       "    </tr>\n",
       "  </tbody>\n",
       "</table>\n",
       "</div>"
      ],
      "text/plain": [
       "               Sex       Length     Diameter       Height  Whole weight  \\\n",
       "count  4177.000000  4177.000000  4177.000000  4177.000000   4177.000000   \n",
       "mean      1.052909     0.523992     0.407881     0.139516      0.828742   \n",
       "std       0.822240     0.120093     0.099240     0.041827      0.490389   \n",
       "min       0.000000     0.075000     0.055000     0.000000      0.002000   \n",
       "25%       0.000000     0.450000     0.350000     0.115000      0.441500   \n",
       "50%       1.000000     0.545000     0.425000     0.140000      0.799500   \n",
       "75%       2.000000     0.615000     0.480000     0.165000      1.153000   \n",
       "max       2.000000     0.815000     0.650000     1.130000      2.825500   \n",
       "\n",
       "       Shucked weight  Viscera weight  Shell weight        Rings  \n",
       "count     4177.000000     4177.000000   4177.000000  4177.000000  \n",
       "mean         0.359367        0.180594      0.238831     9.933684  \n",
       "std          0.221963        0.109614      0.139203     3.224169  \n",
       "min          0.001000        0.000500      0.001500     1.000000  \n",
       "25%          0.186000        0.093500      0.130000     8.000000  \n",
       "50%          0.336000        0.171000      0.234000     9.000000  \n",
       "75%          0.502000        0.253000      0.329000    11.000000  \n",
       "max          1.488000        0.760000      1.005000    29.000000  "
      ]
     },
     "execution_count": 48,
     "metadata": {},
     "output_type": "execute_result"
    }
   ],
   "source": [
    "df.describe()"
   ]
  },
  {
   "cell_type": "code",
   "execution_count": 49,
   "id": "a213bc94",
   "metadata": {},
   "outputs": [
    {
     "data": {
      "text/plain": [
       "<AxesSubplot:>"
      ]
     },
     "execution_count": 49,
     "metadata": {},
     "output_type": "execute_result"
    },
    {
     "data": {
      "image/png": "[encoded data removed]",
      "text/plain": [
       "<Figure size 1080x504 with 2 Axes>"
      ]
     },
     "metadata": {
      "needs_background": "light"
     },
     "output_type": "display_data"
    }
   ],
   "source": [
    "plt.figure(figsize=(15,7))\n",
    "sns.heatmap(round(df.describe()[1:].transpose(),2), annot=True, linewidths=0.5,linecolor=\"black\", fmt='f')"
   ]
  },
  {
   "cell_type": "code",
   "execution_count": 50,
   "id": "970c2993",
   "metadata": {},
   "outputs": [
    {
     "name": "stdout",
     "output_type": "stream",
     "text": [
      "<class 'pandas.core.frame.DataFrame'>\n",
      "Int64Index: 4177 entries, 0 to 4176\n",
      "Data columns (total 9 columns):\n",
      " #   Column          Non-Null Count  Dtype  \n",
      "---  ------          --------------  -----  \n",
      " 0   Sex             4177 non-null   float64\n",
      " 1   Length          4177 non-null   float64\n",
      " 2   Diameter        4177 non-null   float64\n",
      " 3   Height          4177 non-null   float64\n",
      " 4   Whole weight    4177 non-null   float64\n",
      " 5   Shucked weight  4177 non-null   float64\n",
      " 6   Viscera weight  4177 non-null   float64\n",
      " 7   Shell weight    4177 non-null   float64\n",
      " 8   Rings           4177 non-null   int64  \n",
      "dtypes: float64(8), int64(1)\n",
      "memory usage: 455.4 KB\n"
     ]
    }
   ],
   "source": [
    "df.info()"
   ]
  },
  {
   "cell_type": "markdown",
   "id": "803b762e",
   "metadata": {},
   "source": [
    "### Checking & Removing Skewness"
   ]
  },
  {
   "cell_type": "markdown",
   "id": "e80fda79",
   "metadata": {},
   "source": [
    "Removing Target Column"
   ]
  },
  {
   "cell_type": "code",
   "execution_count": 12,
   "id": "c3fa29fc",
   "metadata": {},
   "outputs": [
    {
     "data": {
      "text/plain": [
       "Sex               0\n",
       "Length            0\n",
       "Diameter          0\n",
       "Height            0\n",
       "Whole weight      0\n",
       "Shucked weight    0\n",
       "Viscera weight    0\n",
       "Shell weight      0\n",
       "Rings             0\n",
       "dtype: int64"
      ]
     },
     "execution_count": 12,
     "metadata": {},
     "output_type": "execute_result"
    }
   ],
   "source": [
    "# checking null values\n",
    "df.isnull().sum()"
   ]
  },
  {
   "cell_type": "code",
   "execution_count": 51,
   "id": "d182f80c",
   "metadata": {},
   "outputs": [
    {
     "data": {
      "text/html": [
       "<div>\n",
       "<style scoped>\n",
       "    .dataframe tbody tr th:only-of-type {\n",
       "        vertical-align: middle;\n",
       "    }\n",
       "\n",
       "    .dataframe tbody tr th {\n",
       "        vertical-align: top;\n",
       "    }\n",
       "\n",
       "    .dataframe thead th {\n",
       "        text-align: right;\n",
       "    }\n",
       "</style>\n",
       "<table border=\"1\" class=\"dataframe\">\n",
       "  <thead>\n",
       "    <tr style=\"text-align: right;\">\n",
       "      <th></th>\n",
       "      <th>Sex</th>\n",
       "      <th>Length</th>\n",
       "      <th>Diameter</th>\n",
       "      <th>Height</th>\n",
       "      <th>Whole weight</th>\n",
       "      <th>Shucked weight</th>\n",
       "      <th>Viscera weight</th>\n",
       "      <th>Shell weight</th>\n",
       "    </tr>\n",
       "  </thead>\n",
       "  <tbody>\n",
       "    <tr>\n",
       "      <th>0</th>\n",
       "      <td>2.0</td>\n",
       "      <td>0.455</td>\n",
       "      <td>0.365</td>\n",
       "      <td>0.095</td>\n",
       "      <td>0.5140</td>\n",
       "      <td>0.2245</td>\n",
       "      <td>0.1010</td>\n",
       "      <td>0.1500</td>\n",
       "    </tr>\n",
       "    <tr>\n",
       "      <th>1</th>\n",
       "      <td>2.0</td>\n",
       "      <td>0.350</td>\n",
       "      <td>0.265</td>\n",
       "      <td>0.090</td>\n",
       "      <td>0.2255</td>\n",
       "      <td>0.0995</td>\n",
       "      <td>0.0485</td>\n",
       "      <td>0.0700</td>\n",
       "    </tr>\n",
       "    <tr>\n",
       "      <th>2</th>\n",
       "      <td>0.0</td>\n",
       "      <td>0.530</td>\n",
       "      <td>0.420</td>\n",
       "      <td>0.135</td>\n",
       "      <td>0.6770</td>\n",
       "      <td>0.2565</td>\n",
       "      <td>0.1415</td>\n",
       "      <td>0.2100</td>\n",
       "    </tr>\n",
       "    <tr>\n",
       "      <th>3</th>\n",
       "      <td>2.0</td>\n",
       "      <td>0.440</td>\n",
       "      <td>0.365</td>\n",
       "      <td>0.125</td>\n",
       "      <td>0.5160</td>\n",
       "      <td>0.2155</td>\n",
       "      <td>0.1140</td>\n",
       "      <td>0.1550</td>\n",
       "    </tr>\n",
       "    <tr>\n",
       "      <th>4</th>\n",
       "      <td>1.0</td>\n",
       "      <td>0.330</td>\n",
       "      <td>0.255</td>\n",
       "      <td>0.080</td>\n",
       "      <td>0.2050</td>\n",
       "      <td>0.0895</td>\n",
       "      <td>0.0395</td>\n",
       "      <td>0.0550</td>\n",
       "    </tr>\n",
       "    <tr>\n",
       "      <th>...</th>\n",
       "      <td>...</td>\n",
       "      <td>...</td>\n",
       "      <td>...</td>\n",
       "      <td>...</td>\n",
       "      <td>...</td>\n",
       "      <td>...</td>\n",
       "      <td>...</td>\n",
       "      <td>...</td>\n",
       "    </tr>\n",
       "    <tr>\n",
       "      <th>4172</th>\n",
       "      <td>0.0</td>\n",
       "      <td>0.565</td>\n",
       "      <td>0.450</td>\n",
       "      <td>0.165</td>\n",
       "      <td>0.8870</td>\n",
       "      <td>0.3700</td>\n",
       "      <td>0.2390</td>\n",
       "      <td>0.2490</td>\n",
       "    </tr>\n",
       "    <tr>\n",
       "      <th>4173</th>\n",
       "      <td>2.0</td>\n",
       "      <td>0.590</td>\n",
       "      <td>0.440</td>\n",
       "      <td>0.135</td>\n",
       "      <td>0.9660</td>\n",
       "      <td>0.4390</td>\n",
       "      <td>0.2145</td>\n",
       "      <td>0.2605</td>\n",
       "    </tr>\n",
       "    <tr>\n",
       "      <th>4174</th>\n",
       "      <td>2.0</td>\n",
       "      <td>0.600</td>\n",
       "      <td>0.475</td>\n",
       "      <td>0.205</td>\n",
       "      <td>1.1760</td>\n",
       "      <td>0.5255</td>\n",
       "      <td>0.2875</td>\n",
       "      <td>0.3080</td>\n",
       "    </tr>\n",
       "    <tr>\n",
       "      <th>4175</th>\n",
       "      <td>0.0</td>\n",
       "      <td>0.625</td>\n",
       "      <td>0.485</td>\n",
       "      <td>0.150</td>\n",
       "      <td>1.0945</td>\n",
       "      <td>0.5310</td>\n",
       "      <td>0.2610</td>\n",
       "      <td>0.2960</td>\n",
       "    </tr>\n",
       "    <tr>\n",
       "      <th>4176</th>\n",
       "      <td>2.0</td>\n",
       "      <td>0.710</td>\n",
       "      <td>0.555</td>\n",
       "      <td>0.195</td>\n",
       "      <td>1.9485</td>\n",
       "      <td>0.9455</td>\n",
       "      <td>0.3765</td>\n",
       "      <td>0.4950</td>\n",
       "    </tr>\n",
       "  </tbody>\n",
       "</table>\n",
       "<p>4177 rows × 8 columns</p>\n",
       "</div>"
      ],
      "text/plain": [
       "      Sex  Length  Diameter  Height  Whole weight  Shucked weight  \\\n",
       "0     2.0   0.455     0.365   0.095        0.5140          0.2245   \n",
       "1     2.0   0.350     0.265   0.090        0.2255          0.0995   \n",
       "2     0.0   0.530     0.420   0.135        0.6770          0.2565   \n",
       "3     2.0   0.440     0.365   0.125        0.5160          0.2155   \n",
       "4     1.0   0.330     0.255   0.080        0.2050          0.0895   \n",
       "...   ...     ...       ...     ...           ...             ...   \n",
       "4172  0.0   0.565     0.450   0.165        0.8870          0.3700   \n",
       "4173  2.0   0.590     0.440   0.135        0.9660          0.4390   \n",
       "4174  2.0   0.600     0.475   0.205        1.1760          0.5255   \n",
       "4175  0.0   0.625     0.485   0.150        1.0945          0.5310   \n",
       "4176  2.0   0.710     0.555   0.195        1.9485          0.9455   \n",
       "\n",
       "      Viscera weight  Shell weight  \n",
       "0             0.1010        0.1500  \n",
       "1             0.0485        0.0700  \n",
       "2             0.1415        0.2100  \n",
       "3             0.1140        0.1550  \n",
       "4             0.0395        0.0550  \n",
       "...              ...           ...  \n",
       "4172          0.2390        0.2490  \n",
       "4173          0.2145        0.2605  \n",
       "4174          0.2875        0.3080  \n",
       "4175          0.2610        0.2960  \n",
       "4176          0.3765        0.4950  \n",
       "\n",
       "[4177 rows x 8 columns]"
      ]
     },
     "execution_count": 51,
     "metadata": {},
     "output_type": "execute_result"
    }
   ],
   "source": [
    "df.iloc[:,:-1]"
   ]
  },
  {
   "cell_type": "code",
   "execution_count": 52,
   "id": "439a7987",
   "metadata": {},
   "outputs": [
    {
     "data": {
      "text/plain": [
       "Sex              -0.098155\n",
       "Length           -0.639873\n",
       "Diameter         -0.609198\n",
       "Height            3.128817\n",
       "Whole weight      0.530959\n",
       "Shucked weight    0.719098\n",
       "Viscera weight    0.591852\n",
       "Shell weight      0.620927\n",
       "dtype: float64"
      ]
     },
     "execution_count": 52,
     "metadata": {},
     "output_type": "execute_result"
    }
   ],
   "source": [
    "df.iloc[:,:-1].skew()"
   ]
  },
  {
   "cell_type": "markdown",
   "id": "e440fa14",
   "metadata": {},
   "source": [
    "Making the skewness value of the dataset to (+/-) 0.5 as standard skewness"
   ]
  },
  {
   "cell_type": "code",
   "execution_count": 53,
   "id": "a3d02a5a",
   "metadata": {},
   "outputs": [],
   "source": [
    "from sklearn.preprocessing import power_transform\n",
    "x_new=power_transform(df.iloc[:,:-1],method='yeo-johnson')\n",
    "\n",
    "df.iloc[:,:-1]=pd.DataFrame(x_new,columns=df.iloc[:,:-1].columns)"
   ]
  },
  {
   "cell_type": "code",
   "execution_count": 54,
   "id": "e5ec918c",
   "metadata": {},
   "outputs": [
    {
     "data": {
      "text/plain": [
       "Sex              -0.176442\n",
       "Length           -0.066669\n",
       "Diameter         -0.065977\n",
       "Height           -0.115483\n",
       "Whole weight     -0.003980\n",
       "Shucked weight    0.027351\n",
       "Viscera weight    0.039780\n",
       "Shell weight      0.023390\n",
       "dtype: float64"
      ]
     },
     "execution_count": 54,
     "metadata": {},
     "output_type": "execute_result"
    }
   ],
   "source": [
    "df.iloc[:,:-1].skew()"
   ]
  },
  {
   "cell_type": "markdown",
   "id": "6fc3024d",
   "metadata": {},
   "source": [
    "### Checking Outliers"
   ]
  },
  {
   "cell_type": "code",
   "execution_count": 57,
   "id": "d7ee7aef",
   "metadata": {},
   "outputs": [
    {
     "data": {
      "text/plain": [
       "Sex                  AxesSubplot(0.125,0.657941;0.227941x0.222059)\n",
       "Length            AxesSubplot(0.398529,0.657941;0.227941x0.222059)\n",
       "Diameter          AxesSubplot(0.672059,0.657941;0.227941x0.222059)\n",
       "Height               AxesSubplot(0.125,0.391471;0.227941x0.222059)\n",
       "Whole weight      AxesSubplot(0.398529,0.391471;0.227941x0.222059)\n",
       "Shucked weight    AxesSubplot(0.672059,0.391471;0.227941x0.222059)\n",
       "Viscera weight          AxesSubplot(0.125,0.125;0.227941x0.222059)\n",
       "Shell weight         AxesSubplot(0.398529,0.125;0.227941x0.222059)\n",
       "Rings                AxesSubplot(0.672059,0.125;0.227941x0.222059)\n",
       "dtype: object"
      ]
     },
     "execution_count": 57,
     "metadata": {},
     "output_type": "execute_result"
    },
    {
     "data": {
      "image/png": "[encoded data removed]",
      "text/plain": [
       "<Figure size 1440x576 with 9 Axes>"
      ]
     },
     "metadata": {
      "needs_background": "light"
     },
     "output_type": "display_data"
    }
   ],
   "source": [
    "df.plot(kind='box',subplots=True, layout=(3,3), figsize=[20,8])"
   ]
  },
  {
   "cell_type": "markdown",
   "id": "1f5cb05c",
   "metadata": {},
   "source": [
    "### Using Z-Score"
   ]
  },
  {
   "cell_type": "code",
   "execution_count": 58,
   "id": "db0885a2",
   "metadata": {},
   "outputs": [
    {
     "data": {
      "text/plain": [
       "(4177, 9)"
      ]
     },
     "execution_count": 58,
     "metadata": {},
     "output_type": "execute_result"
    }
   ],
   "source": [
    "from scipy.stats import zscore\n",
    "import numpy as np\n",
    "z=np.abs(zscore(df))\n",
    "z.shape"
   ]
  },
  {
   "cell_type": "code",
   "execution_count": 59,
   "id": "b42e3b02",
   "metadata": {},
   "outputs": [
    {
     "name": "stdout",
     "output_type": "stream",
     "text": [
      "(array([   6,   72,   83,  163,  166,  166,  167,  181,  232,  236,  237,\n",
      "        238,  270,  275,  278,  294,  306,  310,  313,  314,  351,  355,\n",
      "        362,  375,  416,  417,  428,  431,  433,  469,  478,  480,  501,\n",
      "        530,  572,  628,  673,  674,  675,  678,  694,  719,  720,  744,\n",
      "        754,  756,  811,  891, 1174, 1209, 1257, 1417, 1428, 1428, 1763,\n",
      "       1987, 2051, 2108, 2108, 2161, 2169, 2171, 2172, 2176, 2180, 2199,\n",
      "       2201, 2209, 2275, 2305, 2334, 2334, 2335, 2344, 2358, 2381, 2436,\n",
      "       2459, 2471, 2711, 3140, 3149, 3151, 3190, 3193, 3280, 3359, 3902,\n",
      "       3924, 3930, 3944, 3996], dtype=int64), array([8, 8, 8, 7, 7, 8, 8, 8, 8, 3, 3, 3, 8, 8, 8, 8, 3, 8, 8, 8, 8, 8,\n",
      "       8, 8, 8, 8, 8, 8, 8, 8, 8, 8, 8, 8, 8, 8, 8, 8, 8, 8, 3, 3, 3, 8,\n",
      "       8, 8, 8, 7, 3, 5, 3, 3, 1, 2, 6, 3, 3, 7, 8, 7, 3, 3, 3, 8, 8, 8,\n",
      "       8, 8, 8, 8, 1, 8, 8, 8, 8, 3, 8, 8, 8, 3, 8, 8, 8, 3, 8, 8, 8, 3,\n",
      "       8, 8, 8, 3], dtype=int64))\n"
     ]
    }
   ],
   "source": [
    "threshold=3\n",
    "print(np.where(z>3))"
   ]
  },
  {
   "cell_type": "code",
   "execution_count": 60,
   "id": "7c111d01",
   "metadata": {},
   "outputs": [
    {
     "data": {
      "text/plain": [
       "92"
      ]
     },
     "execution_count": 60,
     "metadata": {},
     "output_type": "execute_result"
    }
   ],
   "source": [
    "len(np.where(z>3)[0])"
   ]
  },
  {
   "cell_type": "code",
   "execution_count": 61,
   "id": "994198c4",
   "metadata": {},
   "outputs": [
    {
     "data": {
      "text/html": [
       "<div>\n",
       "<style scoped>\n",
       "    .dataframe tbody tr th:only-of-type {\n",
       "        vertical-align: middle;\n",
       "    }\n",
       "\n",
       "    .dataframe tbody tr th {\n",
       "        vertical-align: top;\n",
       "    }\n",
       "\n",
       "    .dataframe thead th {\n",
       "        text-align: right;\n",
       "    }\n",
       "</style>\n",
       "<table border=\"1\" class=\"dataframe\">\n",
       "  <thead>\n",
       "    <tr style=\"text-align: right;\">\n",
       "      <th></th>\n",
       "      <th>Sex</th>\n",
       "      <th>Length</th>\n",
       "      <th>Diameter</th>\n",
       "      <th>Height</th>\n",
       "      <th>Whole weight</th>\n",
       "      <th>Shucked weight</th>\n",
       "      <th>Viscera weight</th>\n",
       "      <th>Shell weight</th>\n",
       "      <th>Rings</th>\n",
       "    </tr>\n",
       "  </thead>\n",
       "  <tbody>\n",
       "    <tr>\n",
       "      <th>0</th>\n",
       "      <td>1.127072</td>\n",
       "      <td>-0.685502</td>\n",
       "      <td>-0.549860</td>\n",
       "      <td>-1.124512</td>\n",
       "      <td>-0.576766</td>\n",
       "      <td>-0.540989</td>\n",
       "      <td>-0.693283</td>\n",
       "      <td>-0.587809</td>\n",
       "      <td>15</td>\n",
       "    </tr>\n",
       "    <tr>\n",
       "      <th>1</th>\n",
       "      <td>1.127072</td>\n",
       "      <td>-1.396344</td>\n",
       "      <td>-1.387333</td>\n",
       "      <td>-1.264396</td>\n",
       "      <td>-1.351761</td>\n",
       "      <td>-1.311662</td>\n",
       "      <td>-1.332953</td>\n",
       "      <td>-1.332420</td>\n",
       "      <td>7</td>\n",
       "    </tr>\n",
       "    <tr>\n",
       "      <th>2</th>\n",
       "      <td>-1.307935</td>\n",
       "      <td>-0.070774</td>\n",
       "      <td>0.008537</td>\n",
       "      <td>-0.064823</td>\n",
       "      <td>-0.198099</td>\n",
       "      <td>-0.366116</td>\n",
       "      <td>-0.255135</td>\n",
       "      <td>-0.098262</td>\n",
       "      <td>9</td>\n",
       "    </tr>\n",
       "    <tr>\n",
       "      <th>3</th>\n",
       "      <td>1.127072</td>\n",
       "      <td>-0.797286</td>\n",
       "      <td>-0.549860</td>\n",
       "      <td>-0.320227</td>\n",
       "      <td>-0.571893</td>\n",
       "      <td>-0.591672</td>\n",
       "      <td>-0.547782</td>\n",
       "      <td>-0.544931</td>\n",
       "      <td>10</td>\n",
       "    </tr>\n",
       "    <tr>\n",
       "      <th>4</th>\n",
       "      <td>-0.009459</td>\n",
       "      <td>-1.513796</td>\n",
       "      <td>-1.459659</td>\n",
       "      <td>-1.549424</td>\n",
       "      <td>-1.413146</td>\n",
       "      <td>-1.380201</td>\n",
       "      <td>-1.451759</td>\n",
       "      <td>-1.485528</td>\n",
       "      <td>7</td>\n",
       "    </tr>\n",
       "    <tr>\n",
       "      <th>...</th>\n",
       "      <td>...</td>\n",
       "      <td>...</td>\n",
       "      <td>...</td>\n",
       "      <td>...</td>\n",
       "      <td>...</td>\n",
       "      <td>...</td>\n",
       "      <td>...</td>\n",
       "      <td>...</td>\n",
       "      <td>...</td>\n",
       "    </tr>\n",
       "    <tr>\n",
       "      <th>4172</th>\n",
       "      <td>-1.307935</td>\n",
       "      <td>0.249836</td>\n",
       "      <td>0.345636</td>\n",
       "      <td>0.666117</td>\n",
       "      <td>0.241948</td>\n",
       "      <td>0.194158</td>\n",
       "      <td>0.639623</td>\n",
       "      <td>0.193008</td>\n",
       "      <td>11</td>\n",
       "    </tr>\n",
       "    <tr>\n",
       "      <th>4173</th>\n",
       "      <td>1.127072</td>\n",
       "      <td>0.492813</td>\n",
       "      <td>0.230611</td>\n",
       "      <td>-0.064823</td>\n",
       "      <td>0.395706</td>\n",
       "      <td>0.495450</td>\n",
       "      <td>0.433568</td>\n",
       "      <td>0.275215</td>\n",
       "      <td>10</td>\n",
       "    </tr>\n",
       "    <tr>\n",
       "      <th>4174</th>\n",
       "      <td>1.127072</td>\n",
       "      <td>0.593366</td>\n",
       "      <td>0.645191</td>\n",
       "      <td>1.565082</td>\n",
       "      <td>0.777944</td>\n",
       "      <td>0.838137</td>\n",
       "      <td>1.015607</td>\n",
       "      <td>0.598398</td>\n",
       "      <td>9</td>\n",
       "    </tr>\n",
       "    <tr>\n",
       "      <th>4175</th>\n",
       "      <td>-1.307935</td>\n",
       "      <td>0.853375</td>\n",
       "      <td>0.769928</td>\n",
       "      <td>0.307083</td>\n",
       "      <td>0.633874</td>\n",
       "      <td>0.858739</td>\n",
       "      <td>0.815184</td>\n",
       "      <td>0.519145</td>\n",
       "      <td>10</td>\n",
       "    </tr>\n",
       "    <tr>\n",
       "      <th>4176</th>\n",
       "      <td>1.127072</td>\n",
       "      <td>1.834478</td>\n",
       "      <td>1.726289</td>\n",
       "      <td>1.347943</td>\n",
       "      <td>1.937323</td>\n",
       "      <td>2.103648</td>\n",
       "      <td>1.611344</td>\n",
       "      <td>1.658488</td>\n",
       "      <td>12</td>\n",
       "    </tr>\n",
       "  </tbody>\n",
       "</table>\n",
       "<p>4089 rows × 9 columns</p>\n",
       "</div>"
      ],
      "text/plain": [
       "           Sex    Length  Diameter    Height  Whole weight  Shucked weight  \\\n",
       "0     1.127072 -0.685502 -0.549860 -1.124512     -0.576766       -0.540989   \n",
       "1     1.127072 -1.396344 -1.387333 -1.264396     -1.351761       -1.311662   \n",
       "2    -1.307935 -0.070774  0.008537 -0.064823     -0.198099       -0.366116   \n",
       "3     1.127072 -0.797286 -0.549860 -0.320227     -0.571893       -0.591672   \n",
       "4    -0.009459 -1.513796 -1.459659 -1.549424     -1.413146       -1.380201   \n",
       "...        ...       ...       ...       ...           ...             ...   \n",
       "4172 -1.307935  0.249836  0.345636  0.666117      0.241948        0.194158   \n",
       "4173  1.127072  0.492813  0.230611 -0.064823      0.395706        0.495450   \n",
       "4174  1.127072  0.593366  0.645191  1.565082      0.777944        0.838137   \n",
       "4175 -1.307935  0.853375  0.769928  0.307083      0.633874        0.858739   \n",
       "4176  1.127072  1.834478  1.726289  1.347943      1.937323        2.103648   \n",
       "\n",
       "      Viscera weight  Shell weight  Rings  \n",
       "0          -0.693283     -0.587809     15  \n",
       "1          -1.332953     -1.332420      7  \n",
       "2          -0.255135     -0.098262      9  \n",
       "3          -0.547782     -0.544931     10  \n",
       "4          -1.451759     -1.485528      7  \n",
       "...              ...           ...    ...  \n",
       "4172        0.639623      0.193008     11  \n",
       "4173        0.433568      0.275215     10  \n",
       "4174        1.015607      0.598398      9  \n",
       "4175        0.815184      0.519145     10  \n",
       "4176        1.611344      1.658488     12  \n",
       "\n",
       "[4089 rows x 9 columns]"
      ]
     },
     "execution_count": 61,
     "metadata": {},
     "output_type": "execute_result"
    }
   ],
   "source": [
    "df.drop([ 6,   72,   83,  163,  166,  166,  167,  181,  232,  236,  237,\n",
    "        238,  270,  275,  278,  294,  306,  310,  313,  314,  351,  355,\n",
    "        362,  375,  416,  417,  428,  431,  433,  469,  478,  480,  501,\n",
    "        530,  572,  628,  673,  674,  675,  678,  694,  719,  720,  744,\n",
    "        754,  756,  811,  891, 1174, 1209, 1257, 1417, 1428, 1428, 1763,\n",
    "       1987, 2051, 2108, 2108, 2161, 2169, 2171, 2172, 2176, 2180, 2199,\n",
    "       2201, 2209, 2275, 2305, 2334, 2334, 2335, 2344, 2358, 2381, 2436,\n",
    "       2459, 2471, 2711, 3140, 3149, 3151, 3190, 3193, 3280, 3359, 3902,\n",
    "       3924, 3930, 3944, 3996],axis=0)"
   ]
  },
  {
   "cell_type": "code",
   "execution_count": 62,
   "id": "23d8dc22",
   "metadata": {},
   "outputs": [],
   "source": [
    "df=df[(z<3).all(axis=1)]"
   ]
  },
  {
   "cell_type": "code",
   "execution_count": 63,
   "id": "b375eb99",
   "metadata": {},
   "outputs": [
    {
     "data": {
      "text/html": [
       "<div>\n",
       "<style scoped>\n",
       "    .dataframe tbody tr th:only-of-type {\n",
       "        vertical-align: middle;\n",
       "    }\n",
       "\n",
       "    .dataframe tbody tr th {\n",
       "        vertical-align: top;\n",
       "    }\n",
       "\n",
       "    .dataframe thead th {\n",
       "        text-align: right;\n",
       "    }\n",
       "</style>\n",
       "<table border=\"1\" class=\"dataframe\">\n",
       "  <thead>\n",
       "    <tr style=\"text-align: right;\">\n",
       "      <th></th>\n",
       "      <th>Sex</th>\n",
       "      <th>Length</th>\n",
       "      <th>Diameter</th>\n",
       "      <th>Height</th>\n",
       "      <th>Whole weight</th>\n",
       "      <th>Shucked weight</th>\n",
       "      <th>Viscera weight</th>\n",
       "      <th>Shell weight</th>\n",
       "      <th>Rings</th>\n",
       "    </tr>\n",
       "  </thead>\n",
       "  <tbody>\n",
       "    <tr>\n",
       "      <th>0</th>\n",
       "      <td>1.127072</td>\n",
       "      <td>-0.685502</td>\n",
       "      <td>-0.549860</td>\n",
       "      <td>-1.124512</td>\n",
       "      <td>-0.576766</td>\n",
       "      <td>-0.540989</td>\n",
       "      <td>-0.693283</td>\n",
       "      <td>-0.587809</td>\n",
       "      <td>15</td>\n",
       "    </tr>\n",
       "    <tr>\n",
       "      <th>1</th>\n",
       "      <td>1.127072</td>\n",
       "      <td>-1.396344</td>\n",
       "      <td>-1.387333</td>\n",
       "      <td>-1.264396</td>\n",
       "      <td>-1.351761</td>\n",
       "      <td>-1.311662</td>\n",
       "      <td>-1.332953</td>\n",
       "      <td>-1.332420</td>\n",
       "      <td>7</td>\n",
       "    </tr>\n",
       "    <tr>\n",
       "      <th>2</th>\n",
       "      <td>-1.307935</td>\n",
       "      <td>-0.070774</td>\n",
       "      <td>0.008537</td>\n",
       "      <td>-0.064823</td>\n",
       "      <td>-0.198099</td>\n",
       "      <td>-0.366116</td>\n",
       "      <td>-0.255135</td>\n",
       "      <td>-0.098262</td>\n",
       "      <td>9</td>\n",
       "    </tr>\n",
       "    <tr>\n",
       "      <th>3</th>\n",
       "      <td>1.127072</td>\n",
       "      <td>-0.797286</td>\n",
       "      <td>-0.549860</td>\n",
       "      <td>-0.320227</td>\n",
       "      <td>-0.571893</td>\n",
       "      <td>-0.591672</td>\n",
       "      <td>-0.547782</td>\n",
       "      <td>-0.544931</td>\n",
       "      <td>10</td>\n",
       "    </tr>\n",
       "    <tr>\n",
       "      <th>4</th>\n",
       "      <td>-0.009459</td>\n",
       "      <td>-1.513796</td>\n",
       "      <td>-1.459659</td>\n",
       "      <td>-1.549424</td>\n",
       "      <td>-1.413146</td>\n",
       "      <td>-1.380201</td>\n",
       "      <td>-1.451759</td>\n",
       "      <td>-1.485528</td>\n",
       "      <td>7</td>\n",
       "    </tr>\n",
       "    <tr>\n",
       "      <th>...</th>\n",
       "      <td>...</td>\n",
       "      <td>...</td>\n",
       "      <td>...</td>\n",
       "      <td>...</td>\n",
       "      <td>...</td>\n",
       "      <td>...</td>\n",
       "      <td>...</td>\n",
       "      <td>...</td>\n",
       "      <td>...</td>\n",
       "    </tr>\n",
       "    <tr>\n",
       "      <th>4172</th>\n",
       "      <td>-1.307935</td>\n",
       "      <td>0.249836</td>\n",
       "      <td>0.345636</td>\n",
       "      <td>0.666117</td>\n",
       "      <td>0.241948</td>\n",
       "      <td>0.194158</td>\n",
       "      <td>0.639623</td>\n",
       "      <td>0.193008</td>\n",
       "      <td>11</td>\n",
       "    </tr>\n",
       "    <tr>\n",
       "      <th>4173</th>\n",
       "      <td>1.127072</td>\n",
       "      <td>0.492813</td>\n",
       "      <td>0.230611</td>\n",
       "      <td>-0.064823</td>\n",
       "      <td>0.395706</td>\n",
       "      <td>0.495450</td>\n",
       "      <td>0.433568</td>\n",
       "      <td>0.275215</td>\n",
       "      <td>10</td>\n",
       "    </tr>\n",
       "    <tr>\n",
       "      <th>4174</th>\n",
       "      <td>1.127072</td>\n",
       "      <td>0.593366</td>\n",
       "      <td>0.645191</td>\n",
       "      <td>1.565082</td>\n",
       "      <td>0.777944</td>\n",
       "      <td>0.838137</td>\n",
       "      <td>1.015607</td>\n",
       "      <td>0.598398</td>\n",
       "      <td>9</td>\n",
       "    </tr>\n",
       "    <tr>\n",
       "      <th>4175</th>\n",
       "      <td>-1.307935</td>\n",
       "      <td>0.853375</td>\n",
       "      <td>0.769928</td>\n",
       "      <td>0.307083</td>\n",
       "      <td>0.633874</td>\n",
       "      <td>0.858739</td>\n",
       "      <td>0.815184</td>\n",
       "      <td>0.519145</td>\n",
       "      <td>10</td>\n",
       "    </tr>\n",
       "    <tr>\n",
       "      <th>4176</th>\n",
       "      <td>1.127072</td>\n",
       "      <td>1.834478</td>\n",
       "      <td>1.726289</td>\n",
       "      <td>1.347943</td>\n",
       "      <td>1.937323</td>\n",
       "      <td>2.103648</td>\n",
       "      <td>1.611344</td>\n",
       "      <td>1.658488</td>\n",
       "      <td>12</td>\n",
       "    </tr>\n",
       "  </tbody>\n",
       "</table>\n",
       "<p>4089 rows × 9 columns</p>\n",
       "</div>"
      ],
      "text/plain": [
       "           Sex    Length  Diameter    Height  Whole weight  Shucked weight  \\\n",
       "0     1.127072 -0.685502 -0.549860 -1.124512     -0.576766       -0.540989   \n",
       "1     1.127072 -1.396344 -1.387333 -1.264396     -1.351761       -1.311662   \n",
       "2    -1.307935 -0.070774  0.008537 -0.064823     -0.198099       -0.366116   \n",
       "3     1.127072 -0.797286 -0.549860 -0.320227     -0.571893       -0.591672   \n",
       "4    -0.009459 -1.513796 -1.459659 -1.549424     -1.413146       -1.380201   \n",
       "...        ...       ...       ...       ...           ...             ...   \n",
       "4172 -1.307935  0.249836  0.345636  0.666117      0.241948        0.194158   \n",
       "4173  1.127072  0.492813  0.230611 -0.064823      0.395706        0.495450   \n",
       "4174  1.127072  0.593366  0.645191  1.565082      0.777944        0.838137   \n",
       "4175 -1.307935  0.853375  0.769928  0.307083      0.633874        0.858739   \n",
       "4176  1.127072  1.834478  1.726289  1.347943      1.937323        2.103648   \n",
       "\n",
       "      Viscera weight  Shell weight  Rings  \n",
       "0          -0.693283     -0.587809     15  \n",
       "1          -1.332953     -1.332420      7  \n",
       "2          -0.255135     -0.098262      9  \n",
       "3          -0.547782     -0.544931     10  \n",
       "4          -1.451759     -1.485528      7  \n",
       "...              ...           ...    ...  \n",
       "4172        0.639623      0.193008     11  \n",
       "4173        0.433568      0.275215     10  \n",
       "4174        1.015607      0.598398      9  \n",
       "4175        0.815184      0.519145     10  \n",
       "4176        1.611344      1.658488     12  \n",
       "\n",
       "[4089 rows x 9 columns]"
      ]
     },
     "execution_count": 63,
     "metadata": {},
     "output_type": "execute_result"
    }
   ],
   "source": [
    "df"
   ]
  },
  {
   "cell_type": "code",
   "execution_count": 64,
   "id": "d7599cb2",
   "metadata": {},
   "outputs": [
    {
     "data": {
      "text/plain": [
       "(4089, 9)"
      ]
     },
     "execution_count": 64,
     "metadata": {},
     "output_type": "execute_result"
    }
   ],
   "source": [
    "df.shape"
   ]
  },
  {
   "cell_type": "code",
   "execution_count": 65,
   "id": "7ad2300c",
   "metadata": {},
   "outputs": [
    {
     "data": {
      "text/html": [
       "<div>\n",
       "<style scoped>\n",
       "    .dataframe tbody tr th:only-of-type {\n",
       "        vertical-align: middle;\n",
       "    }\n",
       "\n",
       "    .dataframe tbody tr th {\n",
       "        vertical-align: top;\n",
       "    }\n",
       "\n",
       "    .dataframe thead th {\n",
       "        text-align: right;\n",
       "    }\n",
       "</style>\n",
       "<table border=\"1\" class=\"dataframe\">\n",
       "  <thead>\n",
       "    <tr style=\"text-align: right;\">\n",
       "      <th></th>\n",
       "      <th>Sex</th>\n",
       "      <th>Length</th>\n",
       "      <th>Diameter</th>\n",
       "      <th>Height</th>\n",
       "      <th>Whole weight</th>\n",
       "      <th>Shucked weight</th>\n",
       "      <th>Viscera weight</th>\n",
       "      <th>Shell weight</th>\n",
       "      <th>Rings</th>\n",
       "    </tr>\n",
       "  </thead>\n",
       "  <tbody>\n",
       "    <tr>\n",
       "      <th>Sex</th>\n",
       "      <td>1.000000</td>\n",
       "      <td>-0.053809</td>\n",
       "      <td>-0.058973</td>\n",
       "      <td>-0.060771</td>\n",
       "      <td>-0.044714</td>\n",
       "      <td>-0.029654</td>\n",
       "      <td>-0.054876</td>\n",
       "      <td>-0.053316</td>\n",
       "      <td>-0.044566</td>\n",
       "    </tr>\n",
       "    <tr>\n",
       "      <th>Length</th>\n",
       "      <td>-0.053809</td>\n",
       "      <td>1.000000</td>\n",
       "      <td>0.982577</td>\n",
       "      <td>0.894482</td>\n",
       "      <td>0.972765</td>\n",
       "      <td>0.956553</td>\n",
       "      <td>0.952819</td>\n",
       "      <td>0.949480</td>\n",
       "      <td>0.550328</td>\n",
       "    </tr>\n",
       "    <tr>\n",
       "      <th>Diameter</th>\n",
       "      <td>-0.058973</td>\n",
       "      <td>0.982577</td>\n",
       "      <td>1.000000</td>\n",
       "      <td>0.901311</td>\n",
       "      <td>0.971055</td>\n",
       "      <td>0.949928</td>\n",
       "      <td>0.947623</td>\n",
       "      <td>0.956195</td>\n",
       "      <td>0.571165</td>\n",
       "    </tr>\n",
       "    <tr>\n",
       "      <th>Height</th>\n",
       "      <td>-0.060771</td>\n",
       "      <td>0.894482</td>\n",
       "      <td>0.901311</td>\n",
       "      <td>1.000000</td>\n",
       "      <td>0.914689</td>\n",
       "      <td>0.877426</td>\n",
       "      <td>0.897916</td>\n",
       "      <td>0.920351</td>\n",
       "      <td>0.622877</td>\n",
       "    </tr>\n",
       "    <tr>\n",
       "      <th>Whole weight</th>\n",
       "      <td>-0.044714</td>\n",
       "      <td>0.972765</td>\n",
       "      <td>0.971055</td>\n",
       "      <td>0.914689</td>\n",
       "      <td>1.000000</td>\n",
       "      <td>0.978471</td>\n",
       "      <td>0.975041</td>\n",
       "      <td>0.970438</td>\n",
       "      <td>0.576114</td>\n",
       "    </tr>\n",
       "    <tr>\n",
       "      <th>Shucked weight</th>\n",
       "      <td>-0.029654</td>\n",
       "      <td>0.956553</td>\n",
       "      <td>0.949928</td>\n",
       "      <td>0.877426</td>\n",
       "      <td>0.978471</td>\n",
       "      <td>1.000000</td>\n",
       "      <td>0.947974</td>\n",
       "      <td>0.921706</td>\n",
       "      <td>0.482472</td>\n",
       "    </tr>\n",
       "    <tr>\n",
       "      <th>Viscera weight</th>\n",
       "      <td>-0.054876</td>\n",
       "      <td>0.952819</td>\n",
       "      <td>0.947623</td>\n",
       "      <td>0.897916</td>\n",
       "      <td>0.975041</td>\n",
       "      <td>0.947974</td>\n",
       "      <td>1.000000</td>\n",
       "      <td>0.938440</td>\n",
       "      <td>0.554953</td>\n",
       "    </tr>\n",
       "    <tr>\n",
       "      <th>Shell weight</th>\n",
       "      <td>-0.053316</td>\n",
       "      <td>0.949480</td>\n",
       "      <td>0.956195</td>\n",
       "      <td>0.920351</td>\n",
       "      <td>0.970438</td>\n",
       "      <td>0.921706</td>\n",
       "      <td>0.938440</td>\n",
       "      <td>1.000000</td>\n",
       "      <td>0.643446</td>\n",
       "    </tr>\n",
       "    <tr>\n",
       "      <th>Rings</th>\n",
       "      <td>-0.044566</td>\n",
       "      <td>0.550328</td>\n",
       "      <td>0.571165</td>\n",
       "      <td>0.622877</td>\n",
       "      <td>0.576114</td>\n",
       "      <td>0.482472</td>\n",
       "      <td>0.554953</td>\n",
       "      <td>0.643446</td>\n",
       "      <td>1.000000</td>\n",
       "    </tr>\n",
       "  </tbody>\n",
       "</table>\n",
       "</div>"
      ],
      "text/plain": [
       "                     Sex    Length  Diameter    Height  Whole weight  \\\n",
       "Sex             1.000000 -0.053809 -0.058973 -0.060771     -0.044714   \n",
       "Length         -0.053809  1.000000  0.982577  0.894482      0.972765   \n",
       "Diameter       -0.058973  0.982577  1.000000  0.901311      0.971055   \n",
       "Height         -0.060771  0.894482  0.901311  1.000000      0.914689   \n",
       "Whole weight   -0.044714  0.972765  0.971055  0.914689      1.000000   \n",
       "Shucked weight -0.029654  0.956553  0.949928  0.877426      0.978471   \n",
       "Viscera weight -0.054876  0.952819  0.947623  0.897916      0.975041   \n",
       "Shell weight   -0.053316  0.949480  0.956195  0.920351      0.970438   \n",
       "Rings          -0.044566  0.550328  0.571165  0.622877      0.576114   \n",
       "\n",
       "                Shucked weight  Viscera weight  Shell weight     Rings  \n",
       "Sex                  -0.029654       -0.054876     -0.053316 -0.044566  \n",
       "Length                0.956553        0.952819      0.949480  0.550328  \n",
       "Diameter              0.949928        0.947623      0.956195  0.571165  \n",
       "Height                0.877426        0.897916      0.920351  0.622877  \n",
       "Whole weight          0.978471        0.975041      0.970438  0.576114  \n",
       "Shucked weight        1.000000        0.947974      0.921706  0.482472  \n",
       "Viscera weight        0.947974        1.000000      0.938440  0.554953  \n",
       "Shell weight          0.921706        0.938440      1.000000  0.643446  \n",
       "Rings                 0.482472        0.554953      0.643446  1.000000  "
      ]
     },
     "execution_count": 65,
     "metadata": {},
     "output_type": "execute_result"
    }
   ],
   "source": [
    "df.corr()"
   ]
  },
  {
   "cell_type": "code",
   "execution_count": 67,
   "id": "3f9c7449",
   "metadata": {},
   "outputs": [
    {
     "data": {
      "text/plain": [
       "<AxesSubplot:>"
      ]
     },
     "execution_count": 67,
     "metadata": {},
     "output_type": "execute_result"
    },
    {
     "data": {
      "image/png": "[encoded data removed]",
      "text/plain": [
       "<Figure size 432x288 with 2 Axes>"
      ]
     },
     "metadata": {
      "needs_background": "light"
     },
     "output_type": "display_data"
    }
   ],
   "source": [
    "sns.heatmap(df.corr(),cmap=\"Blues\",annot=True)"
   ]
  },
  {
   "cell_type": "code",
   "execution_count": 68,
   "id": "0fed8515",
   "metadata": {},
   "outputs": [],
   "source": [
    "from statsmodels.stats.outliers_influence import variance_inflation_factor"
   ]
  },
  {
   "cell_type": "code",
   "execution_count": 69,
   "id": "55b6a589",
   "metadata": {},
   "outputs": [],
   "source": [
    "#independentColumn\n",
    "x=df.iloc[:,:-1]\n",
    "# target\n",
    "y=df.iloc[:,-1]"
   ]
  },
  {
   "cell_type": "code",
   "execution_count": 70,
   "id": "1bc05fd6",
   "metadata": {},
   "outputs": [
    {
     "data": {
      "text/html": [
       "<div>\n",
       "<style scoped>\n",
       "    .dataframe tbody tr th:only-of-type {\n",
       "        vertical-align: middle;\n",
       "    }\n",
       "\n",
       "    .dataframe tbody tr th {\n",
       "        vertical-align: top;\n",
       "    }\n",
       "\n",
       "    .dataframe thead th {\n",
       "        text-align: right;\n",
       "    }\n",
       "</style>\n",
       "<table border=\"1\" class=\"dataframe\">\n",
       "  <thead>\n",
       "    <tr style=\"text-align: right;\">\n",
       "      <th></th>\n",
       "      <th>Sex</th>\n",
       "      <th>Length</th>\n",
       "      <th>Diameter</th>\n",
       "      <th>Height</th>\n",
       "      <th>Whole weight</th>\n",
       "      <th>Shucked weight</th>\n",
       "      <th>Viscera weight</th>\n",
       "      <th>Shell weight</th>\n",
       "    </tr>\n",
       "  </thead>\n",
       "  <tbody>\n",
       "    <tr>\n",
       "      <th>0</th>\n",
       "      <td>1.127072</td>\n",
       "      <td>-0.685502</td>\n",
       "      <td>-0.549860</td>\n",
       "      <td>-1.124512</td>\n",
       "      <td>-0.576766</td>\n",
       "      <td>-0.540989</td>\n",
       "      <td>-0.693283</td>\n",
       "      <td>-0.587809</td>\n",
       "    </tr>\n",
       "    <tr>\n",
       "      <th>1</th>\n",
       "      <td>1.127072</td>\n",
       "      <td>-1.396344</td>\n",
       "      <td>-1.387333</td>\n",
       "      <td>-1.264396</td>\n",
       "      <td>-1.351761</td>\n",
       "      <td>-1.311662</td>\n",
       "      <td>-1.332953</td>\n",
       "      <td>-1.332420</td>\n",
       "    </tr>\n",
       "    <tr>\n",
       "      <th>2</th>\n",
       "      <td>-1.307935</td>\n",
       "      <td>-0.070774</td>\n",
       "      <td>0.008537</td>\n",
       "      <td>-0.064823</td>\n",
       "      <td>-0.198099</td>\n",
       "      <td>-0.366116</td>\n",
       "      <td>-0.255135</td>\n",
       "      <td>-0.098262</td>\n",
       "    </tr>\n",
       "    <tr>\n",
       "      <th>3</th>\n",
       "      <td>1.127072</td>\n",
       "      <td>-0.797286</td>\n",
       "      <td>-0.549860</td>\n",
       "      <td>-0.320227</td>\n",
       "      <td>-0.571893</td>\n",
       "      <td>-0.591672</td>\n",
       "      <td>-0.547782</td>\n",
       "      <td>-0.544931</td>\n",
       "    </tr>\n",
       "    <tr>\n",
       "      <th>4</th>\n",
       "      <td>-0.009459</td>\n",
       "      <td>-1.513796</td>\n",
       "      <td>-1.459659</td>\n",
       "      <td>-1.549424</td>\n",
       "      <td>-1.413146</td>\n",
       "      <td>-1.380201</td>\n",
       "      <td>-1.451759</td>\n",
       "      <td>-1.485528</td>\n",
       "    </tr>\n",
       "    <tr>\n",
       "      <th>...</th>\n",
       "      <td>...</td>\n",
       "      <td>...</td>\n",
       "      <td>...</td>\n",
       "      <td>...</td>\n",
       "      <td>...</td>\n",
       "      <td>...</td>\n",
       "      <td>...</td>\n",
       "      <td>...</td>\n",
       "    </tr>\n",
       "    <tr>\n",
       "      <th>4172</th>\n",
       "      <td>-1.307935</td>\n",
       "      <td>0.249836</td>\n",
       "      <td>0.345636</td>\n",
       "      <td>0.666117</td>\n",
       "      <td>0.241948</td>\n",
       "      <td>0.194158</td>\n",
       "      <td>0.639623</td>\n",
       "      <td>0.193008</td>\n",
       "    </tr>\n",
       "    <tr>\n",
       "      <th>4173</th>\n",
       "      <td>1.127072</td>\n",
       "      <td>0.492813</td>\n",
       "      <td>0.230611</td>\n",
       "      <td>-0.064823</td>\n",
       "      <td>0.395706</td>\n",
       "      <td>0.495450</td>\n",
       "      <td>0.433568</td>\n",
       "      <td>0.275215</td>\n",
       "    </tr>\n",
       "    <tr>\n",
       "      <th>4174</th>\n",
       "      <td>1.127072</td>\n",
       "      <td>0.593366</td>\n",
       "      <td>0.645191</td>\n",
       "      <td>1.565082</td>\n",
       "      <td>0.777944</td>\n",
       "      <td>0.838137</td>\n",
       "      <td>1.015607</td>\n",
       "      <td>0.598398</td>\n",
       "    </tr>\n",
       "    <tr>\n",
       "      <th>4175</th>\n",
       "      <td>-1.307935</td>\n",
       "      <td>0.853375</td>\n",
       "      <td>0.769928</td>\n",
       "      <td>0.307083</td>\n",
       "      <td>0.633874</td>\n",
       "      <td>0.858739</td>\n",
       "      <td>0.815184</td>\n",
       "      <td>0.519145</td>\n",
       "    </tr>\n",
       "    <tr>\n",
       "      <th>4176</th>\n",
       "      <td>1.127072</td>\n",
       "      <td>1.834478</td>\n",
       "      <td>1.726289</td>\n",
       "      <td>1.347943</td>\n",
       "      <td>1.937323</td>\n",
       "      <td>2.103648</td>\n",
       "      <td>1.611344</td>\n",
       "      <td>1.658488</td>\n",
       "    </tr>\n",
       "  </tbody>\n",
       "</table>\n",
       "<p>4089 rows × 8 columns</p>\n",
       "</div>"
      ],
      "text/plain": [
       "           Sex    Length  Diameter    Height  Whole weight  Shucked weight  \\\n",
       "0     1.127072 -0.685502 -0.549860 -1.124512     -0.576766       -0.540989   \n",
       "1     1.127072 -1.396344 -1.387333 -1.264396     -1.351761       -1.311662   \n",
       "2    -1.307935 -0.070774  0.008537 -0.064823     -0.198099       -0.366116   \n",
       "3     1.127072 -0.797286 -0.549860 -0.320227     -0.571893       -0.591672   \n",
       "4    -0.009459 -1.513796 -1.459659 -1.549424     -1.413146       -1.380201   \n",
       "...        ...       ...       ...       ...           ...             ...   \n",
       "4172 -1.307935  0.249836  0.345636  0.666117      0.241948        0.194158   \n",
       "4173  1.127072  0.492813  0.230611 -0.064823      0.395706        0.495450   \n",
       "4174  1.127072  0.593366  0.645191  1.565082      0.777944        0.838137   \n",
       "4175 -1.307935  0.853375  0.769928  0.307083      0.633874        0.858739   \n",
       "4176  1.127072  1.834478  1.726289  1.347943      1.937323        2.103648   \n",
       "\n",
       "      Viscera weight  Shell weight  \n",
       "0          -0.693283     -0.587809  \n",
       "1          -1.332953     -1.332420  \n",
       "2          -0.255135     -0.098262  \n",
       "3          -0.547782     -0.544931  \n",
       "4          -1.451759     -1.485528  \n",
       "...              ...           ...  \n",
       "4172        0.639623      0.193008  \n",
       "4173        0.433568      0.275215  \n",
       "4174        1.015607      0.598398  \n",
       "4175        0.815184      0.519145  \n",
       "4176        1.611344      1.658488  \n",
       "\n",
       "[4089 rows x 8 columns]"
      ]
     },
     "execution_count": 70,
     "metadata": {},
     "output_type": "execute_result"
    }
   ],
   "source": [
    "x"
   ]
  },
  {
   "cell_type": "code",
   "execution_count": 71,
   "id": "db0756c0",
   "metadata": {},
   "outputs": [
    {
     "data": {
      "text/plain": [
       "0       15\n",
       "1        7\n",
       "2        9\n",
       "3       10\n",
       "4        7\n",
       "        ..\n",
       "4172    11\n",
       "4173    10\n",
       "4174     9\n",
       "4175    10\n",
       "4176    12\n",
       "Name: Rings, Length: 4089, dtype: int64"
      ]
     },
     "execution_count": 71,
     "metadata": {},
     "output_type": "execute_result"
    }
   ],
   "source": [
    "y"
   ]
  },
  {
   "cell_type": "code",
   "execution_count": 72,
   "id": "eb68bce0",
   "metadata": {},
   "outputs": [],
   "source": [
    "def vif_calc():\n",
    "  vif=pd.DataFrame()\n",
    "  vif[\"VIF Factor\"]=[variance_inflation_factor(x.values,i) for i in range(x.shape[1])]\n",
    "  vif[\"features\"]=x.columns\n",
    "  print(vif)"
   ]
  },
  {
   "cell_type": "code",
   "execution_count": 73,
   "id": "c5c1b3fc",
   "metadata": {},
   "outputs": [
    {
     "name": "stdout",
     "output_type": "stream",
     "text": [
      "   VIF Factor        features\n",
      "0    1.013544             Sex\n",
      "1   36.461065          Length\n",
      "2   35.404797        Diameter\n",
      "3    7.043978          Height\n",
      "4  145.752071    Whole weight\n",
      "5   38.665499  Shucked weight\n",
      "6   23.145142  Viscera weight\n",
      "7   31.796079    Shell weight\n"
     ]
    }
   ],
   "source": [
    "vif_calc()"
   ]
  },
  {
   "cell_type": "code",
   "execution_count": 74,
   "id": "d4dae3d4",
   "metadata": {},
   "outputs": [
    {
     "data": {
      "text/plain": [
       "<AxesSubplot:>"
      ]
     },
     "execution_count": 74,
     "metadata": {},
     "output_type": "execute_result"
    },
    {
     "data": {
      "image/png": "[encoded data removed]",
      "text/plain": [
       "<Figure size 432x288 with 2 Axes>"
      ]
     },
     "metadata": {
      "needs_background": "light"
     },
     "output_type": "display_data"
    }
   ],
   "source": [
    "import seaborn as sns\n",
    "sns.heatmap(df.corr(),cmap=\"Blues\",annot=True)"
   ]
  },
  {
   "cell_type": "markdown",
   "id": "de29e97c",
   "metadata": {},
   "source": [
    "dropping least coorelated column and high variance inflation factor"
   ]
  },
  {
   "cell_type": "code",
   "execution_count": 75,
   "id": "8622178f",
   "metadata": {},
   "outputs": [],
   "source": [
    "x.drop(['Shucked weight'],axis=1,inplace=True)"
   ]
  },
  {
   "cell_type": "code",
   "execution_count": 76,
   "id": "84892bb9",
   "metadata": {},
   "outputs": [
    {
     "data": {
      "text/html": [
       "<div>\n",
       "<style scoped>\n",
       "    .dataframe tbody tr th:only-of-type {\n",
       "        vertical-align: middle;\n",
       "    }\n",
       "\n",
       "    .dataframe tbody tr th {\n",
       "        vertical-align: top;\n",
       "    }\n",
       "\n",
       "    .dataframe thead th {\n",
       "        text-align: right;\n",
       "    }\n",
       "</style>\n",
       "<table border=\"1\" class=\"dataframe\">\n",
       "  <thead>\n",
       "    <tr style=\"text-align: right;\">\n",
       "      <th></th>\n",
       "      <th>Sex</th>\n",
       "      <th>Length</th>\n",
       "      <th>Diameter</th>\n",
       "      <th>Height</th>\n",
       "      <th>Whole weight</th>\n",
       "      <th>Viscera weight</th>\n",
       "      <th>Shell weight</th>\n",
       "    </tr>\n",
       "  </thead>\n",
       "  <tbody>\n",
       "    <tr>\n",
       "      <th>0</th>\n",
       "      <td>1.127072</td>\n",
       "      <td>-0.685502</td>\n",
       "      <td>-0.549860</td>\n",
       "      <td>-1.124512</td>\n",
       "      <td>-0.576766</td>\n",
       "      <td>-0.693283</td>\n",
       "      <td>-0.587809</td>\n",
       "    </tr>\n",
       "    <tr>\n",
       "      <th>1</th>\n",
       "      <td>1.127072</td>\n",
       "      <td>-1.396344</td>\n",
       "      <td>-1.387333</td>\n",
       "      <td>-1.264396</td>\n",
       "      <td>-1.351761</td>\n",
       "      <td>-1.332953</td>\n",
       "      <td>-1.332420</td>\n",
       "    </tr>\n",
       "    <tr>\n",
       "      <th>2</th>\n",
       "      <td>-1.307935</td>\n",
       "      <td>-0.070774</td>\n",
       "      <td>0.008537</td>\n",
       "      <td>-0.064823</td>\n",
       "      <td>-0.198099</td>\n",
       "      <td>-0.255135</td>\n",
       "      <td>-0.098262</td>\n",
       "    </tr>\n",
       "    <tr>\n",
       "      <th>3</th>\n",
       "      <td>1.127072</td>\n",
       "      <td>-0.797286</td>\n",
       "      <td>-0.549860</td>\n",
       "      <td>-0.320227</td>\n",
       "      <td>-0.571893</td>\n",
       "      <td>-0.547782</td>\n",
       "      <td>-0.544931</td>\n",
       "    </tr>\n",
       "    <tr>\n",
       "      <th>4</th>\n",
       "      <td>-0.009459</td>\n",
       "      <td>-1.513796</td>\n",
       "      <td>-1.459659</td>\n",
       "      <td>-1.549424</td>\n",
       "      <td>-1.413146</td>\n",
       "      <td>-1.451759</td>\n",
       "      <td>-1.485528</td>\n",
       "    </tr>\n",
       "    <tr>\n",
       "      <th>...</th>\n",
       "      <td>...</td>\n",
       "      <td>...</td>\n",
       "      <td>...</td>\n",
       "      <td>...</td>\n",
       "      <td>...</td>\n",
       "      <td>...</td>\n",
       "      <td>...</td>\n",
       "    </tr>\n",
       "    <tr>\n",
       "      <th>4172</th>\n",
       "      <td>-1.307935</td>\n",
       "      <td>0.249836</td>\n",
       "      <td>0.345636</td>\n",
       "      <td>0.666117</td>\n",
       "      <td>0.241948</td>\n",
       "      <td>0.639623</td>\n",
       "      <td>0.193008</td>\n",
       "    </tr>\n",
       "    <tr>\n",
       "      <th>4173</th>\n",
       "      <td>1.127072</td>\n",
       "      <td>0.492813</td>\n",
       "      <td>0.230611</td>\n",
       "      <td>-0.064823</td>\n",
       "      <td>0.395706</td>\n",
       "      <td>0.433568</td>\n",
       "      <td>0.275215</td>\n",
       "    </tr>\n",
       "    <tr>\n",
       "      <th>4174</th>\n",
       "      <td>1.127072</td>\n",
       "      <td>0.593366</td>\n",
       "      <td>0.645191</td>\n",
       "      <td>1.565082</td>\n",
       "      <td>0.777944</td>\n",
       "      <td>1.015607</td>\n",
       "      <td>0.598398</td>\n",
       "    </tr>\n",
       "    <tr>\n",
       "      <th>4175</th>\n",
       "      <td>-1.307935</td>\n",
       "      <td>0.853375</td>\n",
       "      <td>0.769928</td>\n",
       "      <td>0.307083</td>\n",
       "      <td>0.633874</td>\n",
       "      <td>0.815184</td>\n",
       "      <td>0.519145</td>\n",
       "    </tr>\n",
       "    <tr>\n",
       "      <th>4176</th>\n",
       "      <td>1.127072</td>\n",
       "      <td>1.834478</td>\n",
       "      <td>1.726289</td>\n",
       "      <td>1.347943</td>\n",
       "      <td>1.937323</td>\n",
       "      <td>1.611344</td>\n",
       "      <td>1.658488</td>\n",
       "    </tr>\n",
       "  </tbody>\n",
       "</table>\n",
       "<p>4089 rows × 7 columns</p>\n",
       "</div>"
      ],
      "text/plain": [
       "           Sex    Length  Diameter    Height  Whole weight  Viscera weight  \\\n",
       "0     1.127072 -0.685502 -0.549860 -1.124512     -0.576766       -0.693283   \n",
       "1     1.127072 -1.396344 -1.387333 -1.264396     -1.351761       -1.332953   \n",
       "2    -1.307935 -0.070774  0.008537 -0.064823     -0.198099       -0.255135   \n",
       "3     1.127072 -0.797286 -0.549860 -0.320227     -0.571893       -0.547782   \n",
       "4    -0.009459 -1.513796 -1.459659 -1.549424     -1.413146       -1.451759   \n",
       "...        ...       ...       ...       ...           ...             ...   \n",
       "4172 -1.307935  0.249836  0.345636  0.666117      0.241948        0.639623   \n",
       "4173  1.127072  0.492813  0.230611 -0.064823      0.395706        0.433568   \n",
       "4174  1.127072  0.593366  0.645191  1.565082      0.777944        1.015607   \n",
       "4175 -1.307935  0.853375  0.769928  0.307083      0.633874        0.815184   \n",
       "4176  1.127072  1.834478  1.726289  1.347943      1.937323        1.611344   \n",
       "\n",
       "      Shell weight  \n",
       "0        -0.587809  \n",
       "1        -1.332420  \n",
       "2        -0.098262  \n",
       "3        -0.544931  \n",
       "4        -1.485528  \n",
       "...            ...  \n",
       "4172      0.193008  \n",
       "4173      0.275215  \n",
       "4174      0.598398  \n",
       "4175      0.519145  \n",
       "4176      1.658488  \n",
       "\n",
       "[4089 rows x 7 columns]"
      ]
     },
     "execution_count": 76,
     "metadata": {},
     "output_type": "execute_result"
    }
   ],
   "source": [
    "x"
   ]
  },
  {
   "cell_type": "code",
   "execution_count": 77,
   "id": "fdf0eb8a",
   "metadata": {},
   "outputs": [
    {
     "name": "stdout",
     "output_type": "stream",
     "text": [
      "   VIF Factor        features\n",
      "0    1.010781             Sex\n",
      "1   35.796694          Length\n",
      "2   35.334900        Diameter\n",
      "3    7.043978          Height\n",
      "4   54.782563    Whole weight\n",
      "5   21.329939  Viscera weight\n",
      "6   21.005174    Shell weight\n"
     ]
    }
   ],
   "source": [
    "vif_calc()"
   ]
  },
  {
   "cell_type": "markdown",
   "id": "2200dcb7",
   "metadata": {},
   "source": [
    "### ScalingData"
   ]
  },
  {
   "cell_type": "code",
   "execution_count": 78,
   "id": "92e477e9",
   "metadata": {},
   "outputs": [
    {
     "data": {
      "text/plain": [
       "array([[ 1.12568281, -0.68811815, -0.55024621, ..., -0.57397171,\n",
       "        -0.69281235, -0.58353679],\n",
       "       [ 1.12568281, -1.40810904, -1.3998753 , ..., -1.35871435,\n",
       "        -1.33784534, -1.34377352],\n",
       "       [-1.31423388, -0.06547848,  0.01625674, ..., -0.19054249,\n",
       "        -0.25099101, -0.08371633],\n",
       "       ...,\n",
       "       [ 1.12568281,  0.60720993,  0.66215191, ...,  0.79777696,\n",
       "         1.03040595,  0.62756323],\n",
       "       [-1.31423388,  0.87056545,  0.78869954, ...,  0.65189498,\n",
       "         0.82830241,  0.54664764],\n",
       "       [ 1.12568281,  1.86429554,  1.75894272, ...,  1.97173892,\n",
       "         1.63113754,  1.70990015]])"
      ]
     },
     "execution_count": 78,
     "metadata": {},
     "output_type": "execute_result"
    }
   ],
   "source": [
    "from sklearn.preprocessing import StandardScaler\n",
    "sc=StandardScaler()\n",
    "x=sc.fit_transform(x)\n",
    "x"
   ]
  },
  {
   "cell_type": "code",
   "execution_count": 79,
   "id": "cc4ca3fb",
   "metadata": {},
   "outputs": [
    {
     "name": "stdout",
     "output_type": "stream",
     "text": [
      "At random state 1,the training accuracy is :- 0.4724447337229861\n",
      "At random state 1,the testing accuracy is :- 0.49518557962580856\n",
      "\n",
      "\n",
      "At random state 2,the training accuracy is :- 0.47591906348413315\n",
      "At random state 2,the testing accuracy is :- 0.48100442560375123\n",
      "\n",
      "\n",
      "At random state 3,the training accuracy is :- 0.47343026476411965\n",
      "At random state 3,the testing accuracy is :- 0.49125467650471577\n",
      "\n",
      "\n",
      "At random state 4,the training accuracy is :- 0.47415301941846655\n",
      "At random state 4,the testing accuracy is :- 0.48815331929851735\n",
      "\n",
      "\n",
      "At random state 5,the training accuracy is :- 0.4812959275511791\n",
      "At random state 5,the testing accuracy is :- 0.4604898695068269\n",
      "\n",
      "\n",
      "At random state 6,the training accuracy is :- 0.47265522669992466\n",
      "At random state 6,the testing accuracy is :- 0.4935531600558303\n",
      "\n",
      "\n",
      "At random state 7,the training accuracy is :- 0.47661838544223667\n",
      "At random state 7,the testing accuracy is :- 0.47778128432614686\n",
      "\n",
      "\n",
      "At random state 8,the training accuracy is :- 0.47915582198850526\n",
      "At random state 8,the testing accuracy is :- 0.4658829812747086\n",
      "\n",
      "\n",
      "At random state 9,the training accuracy is :- 0.4686986187308133\n",
      "At random state 9,the testing accuracy is :- 0.5122150786522215\n",
      "\n",
      "\n",
      "At random state 10,the training accuracy is :- 0.46856589929052017\n",
      "At random state 10,the testing accuracy is :- 0.509051134098832\n",
      "\n",
      "\n",
      "At random state 11,the training accuracy is :- 0.4810308362621677\n",
      "At random state 11,the testing accuracy is :- 0.45770059060349644\n",
      "\n",
      "\n",
      "At random state 12,the training accuracy is :- 0.4757011992394633\n",
      "At random state 12,the testing accuracy is :- 0.4817242995426241\n",
      "\n",
      "\n",
      "At random state 13,the training accuracy is :- 0.4867406254952765\n",
      "At random state 13,the testing accuracy is :- 0.4367890304978561\n",
      "\n",
      "\n",
      "At random state 14,the training accuracy is :- 0.48862819134123536\n",
      "At random state 14,the testing accuracy is :- 0.42556815254837266\n",
      "\n",
      "\n",
      "At random state 15,the training accuracy is :- 0.47052340953427085\n",
      "At random state 15,the testing accuracy is :- 0.4984779426889492\n",
      "\n",
      "\n",
      "At random state 16,the training accuracy is :- 0.47515497135985596\n",
      "At random state 16,the testing accuracy is :- 0.48401962481860206\n",
      "\n",
      "\n",
      "At random state 17,the training accuracy is :- 0.4743487471827813\n",
      "At random state 17,the testing accuracy is :- 0.486344764192721\n",
      "\n",
      "\n",
      "At random state 18,the training accuracy is :- 0.47358009366795417\n",
      "At random state 18,the testing accuracy is :- 0.49182348696707845\n",
      "\n",
      "\n",
      "At random state 19,the training accuracy is :- 0.4782973491775284\n",
      "At random state 19,the testing accuracy is :- 0.47220042742037704\n",
      "\n",
      "\n",
      "At random state 20,the training accuracy is :- 0.47312151199837504\n",
      "At random state 20,the testing accuracy is :- 0.49348935020001217\n",
      "\n",
      "\n",
      "At random state 21,the training accuracy is :- 0.4843648394633503\n",
      "At random state 21,the testing accuracy is :- 0.445387383653966\n",
      "\n",
      "\n",
      "At random state 22,the training accuracy is :- 0.47651706202600863\n",
      "At random state 22,the testing accuracy is :- 0.47864947785773226\n",
      "\n",
      "\n",
      "At random state 23,the training accuracy is :- 0.4830093188438671\n",
      "At random state 23,the testing accuracy is :- 0.4543976873445913\n",
      "\n",
      "\n",
      "At random state 24,the training accuracy is :- 0.4746822319916202\n",
      "At random state 24,the testing accuracy is :- 0.4860645099010862\n",
      "\n",
      "\n",
      "At random state 25,the training accuracy is :- 0.4846573380950737\n",
      "At random state 25,the testing accuracy is :- 0.4454024408836298\n",
      "\n",
      "\n",
      "At random state 26,the training accuracy is :- 0.47208605071161025\n",
      "At random state 26,the testing accuracy is :- 0.49583501028958876\n",
      "\n",
      "\n",
      "At random state 27,the training accuracy is :- 0.478950111927531\n",
      "At random state 27,the testing accuracy is :- 0.4678698776294201\n",
      "\n",
      "\n",
      "At random state 28,the training accuracy is :- 0.47553231419819797\n",
      "At random state 28,the testing accuracy is :- 0.48107233050335796\n",
      "\n",
      "\n",
      "At random state 29,the training accuracy is :- 0.48038263057944885\n",
      "At random state 29,the testing accuracy is :- 0.46319636486888793\n",
      "\n",
      "\n",
      "At random state 30,the training accuracy is :- 0.48041826842795265\n",
      "At random state 30,the testing accuracy is :- 0.45830951167184264\n",
      "\n",
      "\n",
      "At random state 31,the training accuracy is :- 0.473703309877472\n",
      "At random state 31,the testing accuracy is :- 0.4894640319356037\n",
      "\n",
      "\n",
      "At random state 32,the training accuracy is :- 0.4648978266398729\n",
      "At random state 32,the testing accuracy is :- 0.5215735008331643\n",
      "\n",
      "\n",
      "At random state 33,the training accuracy is :- 0.47549817589493815\n",
      "At random state 33,the testing accuracy is :- 0.4812218606083263\n",
      "\n",
      "\n",
      "At random state 34,the training accuracy is :- 0.46673422777894846\n",
      "At random state 34,the testing accuracy is :- 0.5145877732498181\n",
      "\n",
      "\n",
      "At random state 35,the training accuracy is :- 0.47926764035236435\n",
      "At random state 35,the testing accuracy is :- 0.4675145329461071\n",
      "\n",
      "\n",
      "At random state 36,the training accuracy is :- 0.4710737576556002\n",
      "At random state 36,the testing accuracy is :- 0.495857048119002\n",
      "\n",
      "\n",
      "At random state 37,the training accuracy is :- 0.47932148432094046\n",
      "At random state 37,the testing accuracy is :- 0.4681718981671681\n",
      "\n",
      "\n",
      "At random state 38,the training accuracy is :- 0.4754499872251132\n",
      "At random state 38,the testing accuracy is :- 0.4825921909169013\n",
      "\n",
      "\n",
      "At random state 39,the training accuracy is :- 0.4874745976389586\n",
      "At random state 39,the testing accuracy is :- 0.43671678348609455\n",
      "\n",
      "\n",
      "At random state 40,the training accuracy is :- 0.4739901215534894\n",
      "At random state 40,the testing accuracy is :- 0.488806797825871\n",
      "\n",
      "\n",
      "At random state 41,the training accuracy is :- 0.4833978767028069\n",
      "At random state 41,the testing accuracy is :- 0.4501281962832643\n",
      "\n",
      "\n",
      "At random state 42,the training accuracy is :- 0.47941884993493245\n",
      "At random state 42,the testing accuracy is :- 0.46811604540195206\n",
      "\n",
      "\n",
      "At random state 43,the training accuracy is :- 0.47071799004447157\n",
      "At random state 43,the testing accuracy is :- 0.49953071408621585\n",
      "\n",
      "\n",
      "At random state 44,the training accuracy is :- 0.4741878947278305\n",
      "At random state 44,the testing accuracy is :- 0.4856483210894924\n",
      "\n",
      "\n",
      "At random state 45,the training accuracy is :- 0.4871090873152645\n",
      "At random state 45,the testing accuracy is :- 0.4382197490536349\n",
      "\n",
      "\n",
      "At random state 46,the training accuracy is :- 0.47432639035499924\n",
      "At random state 46,the testing accuracy is :- 0.4864432073315098\n",
      "\n",
      "\n",
      "At random state 47,the training accuracy is :- 0.4835241355789054\n",
      "At random state 47,the testing accuracy is :- 0.44719039936482574\n",
      "\n",
      "\n",
      "At random state 48,the training accuracy is :- 0.4823693769447105\n",
      "At random state 48,the testing accuracy is :- 0.452359531874172\n",
      "\n",
      "\n",
      "At random state 49,the training accuracy is :- 0.48302456466050747\n",
      "At random state 49,the testing accuracy is :- 0.45096685978102724\n",
      "\n",
      "\n",
      "At random state 50,the training accuracy is :- 0.47533206488293567\n",
      "At random state 50,the testing accuracy is :- 0.4831770036191769\n",
      "\n",
      "\n",
      "At random state 51,the training accuracy is :- 0.4806933648622399\n",
      "At random state 51,the testing accuracy is :- 0.4627202405151686\n",
      "\n",
      "\n",
      "At random state 52,the training accuracy is :- 0.47924241436503556\n",
      "At random state 52,the testing accuracy is :- 0.46875196593548263\n",
      "\n",
      "\n",
      "At random state 53,the training accuracy is :- 0.48033450571104874\n",
      "At random state 53,the testing accuracy is :- 0.46468018515087184\n",
      "\n",
      "\n",
      "At random state 54,the training accuracy is :- 0.4777121139994709\n",
      "At random state 54,the testing accuracy is :- 0.47338827379709336\n",
      "\n",
      "\n",
      "At random state 55,the training accuracy is :- 0.47134034234828126\n",
      "At random state 55,the testing accuracy is :- 0.4994608684843682\n",
      "\n",
      "\n",
      "At random state 56,the training accuracy is :- 0.4709561456982361\n",
      "At random state 56,the testing accuracy is :- 0.5018005811182911\n",
      "\n",
      "\n",
      "At random state 57,the training accuracy is :- 0.47049396416128175\n",
      "At random state 57,the testing accuracy is :- 0.501754083894222\n",
      "\n",
      "\n",
      "At random state 58,the training accuracy is :- 0.46857561835787165\n",
      "At random state 58,the testing accuracy is :- 0.509275550072632\n",
      "\n",
      "\n",
      "At random state 59,the training accuracy is :- 0.47031539280504986\n",
      "At random state 59,the testing accuracy is :- 0.5068097715151825\n",
      "\n",
      "\n",
      "At random state 60,the training accuracy is :- 0.4762705887590418\n",
      "At random state 60,the testing accuracy is :- 0.48082996274647494\n",
      "\n",
      "\n",
      "At random state 61,the training accuracy is :- 0.48378178068823263\n",
      "At random state 61,the testing accuracy is :- 0.44806191445072463\n",
      "\n",
      "\n",
      "At random state 62,the training accuracy is :- 0.4799145598840141\n",
      "At random state 62,the testing accuracy is :- 0.46572371802198753\n",
      "\n",
      "\n",
      "At random state 63,the training accuracy is :- 0.46926810941365804\n",
      "At random state 63,the testing accuracy is :- 0.5067279977947646\n",
      "\n",
      "\n",
      "At random state 64,the training accuracy is :- 0.48022350885236964\n",
      "At random state 64,the testing accuracy is :- 0.46338501429437373\n",
      "\n",
      "\n",
      "At random state 65,the training accuracy is :- 0.475448547393011\n",
      "At random state 65,the testing accuracy is :- 0.48353443443099875\n",
      "\n",
      "\n",
      "At random state 66,the training accuracy is :- 0.4751276059334151\n",
      "At random state 66,the testing accuracy is :- 0.48351663348416385\n",
      "\n",
      "\n",
      "At random state 67,the training accuracy is :- 0.4720069795695657\n",
      "At random state 67,the testing accuracy is :- 0.4977499432241764\n",
      "\n",
      "\n",
      "At random state 68,the training accuracy is :- 0.48236966304167184\n",
      "At random state 68,the testing accuracy is :- 0.45323906097515243\n",
      "\n",
      "\n",
      "At random state 69,the training accuracy is :- 0.48614637115043746\n",
      "At random state 69,the testing accuracy is :- 0.43975594772741755\n",
      "\n",
      "\n",
      "At random state 70,the training accuracy is :- 0.478989547980626\n",
      "At random state 70,the testing accuracy is :- 0.46886067308817425\n",
      "\n",
      "\n",
      "At random state 71,the training accuracy is :- 0.473586173720584\n",
      "At random state 71,the testing accuracy is :- 0.4898055574517034\n",
      "\n",
      "\n",
      "At random state 72,the training accuracy is :- 0.4789084551018691\n",
      "At random state 72,the testing accuracy is :- 0.46993270134598764\n",
      "\n",
      "\n",
      "At random state 73,the training accuracy is :- 0.4871969820056762\n",
      "At random state 73,the testing accuracy is :- 0.43667222002521544\n",
      "\n",
      "\n",
      "At random state 74,the training accuracy is :- 0.4732834683638256\n",
      "At random state 74,the testing accuracy is :- 0.4915124669706652\n",
      "\n",
      "\n",
      "At random state 75,the training accuracy is :- 0.4705968249121042\n",
      "At random state 75,the testing accuracy is :- 0.49821773952164883\n",
      "\n",
      "\n",
      "At random state 76,the training accuracy is :- 0.4805250073240277\n",
      "At random state 76,the testing accuracy is :- 0.4604638653419587\n",
      "\n",
      "\n",
      "At random state 77,the training accuracy is :- 0.4782272006109485\n",
      "At random state 77,the testing accuracy is :- 0.4720361004590049\n",
      "\n",
      "\n",
      "At random state 78,the training accuracy is :- 0.48813485504751575\n",
      "At random state 78,the testing accuracy is :- 0.43300954451078844\n",
      "\n",
      "\n",
      "At random state 79,the training accuracy is :- 0.47758327018209257\n",
      "At random state 79,the testing accuracy is :- 0.4753931219605688\n",
      "\n",
      "\n",
      "At random state 80,the training accuracy is :- 0.48792580195076596\n",
      "At random state 80,the testing accuracy is :- 0.4263641807517118\n",
      "\n",
      "\n",
      "At random state 81,the training accuracy is :- 0.47575899965231705\n",
      "At random state 81,the testing accuracy is :- 0.48155805628601644\n",
      "\n",
      "\n",
      "At random state 82,the training accuracy is :- 0.48474642276971736\n",
      "At random state 82,the testing accuracy is :- 0.444809827317736\n",
      "\n",
      "\n",
      "At random state 83,the training accuracy is :- 0.4654931255402366\n",
      "At random state 83,the testing accuracy is :- 0.5238213292193642\n",
      "\n",
      "\n",
      "At random state 84,the training accuracy is :- 0.4799608330101721\n",
      "At random state 84,the testing accuracy is :- 0.4648782351026226\n",
      "\n",
      "\n",
      "At random state 85,the training accuracy is :- 0.4754623641907896\n",
      "At random state 85,the testing accuracy is :- 0.48242498999640826\n",
      "\n",
      "\n",
      "At random state 86,the training accuracy is :- 0.47975376507913203\n",
      "At random state 86,the testing accuracy is :- 0.46580655384028224\n",
      "\n",
      "\n",
      "At random state 87,the training accuracy is :- 0.47635268070597225\n",
      "At random state 87,the testing accuracy is :- 0.4775176384607783\n",
      "\n",
      "\n",
      "At random state 88,the training accuracy is :- 0.48085233074677436\n",
      "At random state 88,the testing accuracy is :- 0.46111522591838394\n",
      "\n",
      "\n"
     ]
    },
    {
     "name": "stdout",
     "output_type": "stream",
     "text": [
      "At random state 89,the training accuracy is :- 0.48146531857375097\n",
      "At random state 89,the testing accuracy is :- 0.45819636194084634\n",
      "\n",
      "\n",
      "At random state 90,the training accuracy is :- 0.4732948956713037\n",
      "At random state 90,the testing accuracy is :- 0.49212671061183544\n",
      "\n",
      "\n",
      "At random state 91,the training accuracy is :- 0.4758905686267487\n",
      "At random state 91,the testing accuracy is :- 0.4797589307902904\n",
      "\n",
      "\n",
      "At random state 92,the training accuracy is :- 0.46586115521009164\n",
      "At random state 92,the testing accuracy is :- 0.514112836088308\n",
      "\n",
      "\n",
      "At random state 93,the training accuracy is :- 0.4804235783999877\n",
      "At random state 93,the testing accuracy is :- 0.461192820123978\n",
      "\n",
      "\n",
      "At random state 94,the training accuracy is :- 0.47343682651998276\n",
      "At random state 94,the testing accuracy is :- 0.49056903154226006\n",
      "\n",
      "\n",
      "At random state 95,the training accuracy is :- 0.4771539004348674\n",
      "At random state 95,the testing accuracy is :- 0.4744655414499025\n",
      "\n",
      "\n",
      "At random state 96,the training accuracy is :- 0.4651632497751379\n",
      "At random state 96,the testing accuracy is :- 0.5250934563014966\n",
      "\n",
      "\n",
      "At random state 97,the training accuracy is :- 0.4869291609691332\n",
      "At random state 97,the testing accuracy is :- 0.43317267153165817\n",
      "\n",
      "\n",
      "At random state 98,the training accuracy is :- 0.4751839621903944\n",
      "At random state 98,the testing accuracy is :- 0.4833646498270836\n",
      "\n",
      "\n",
      "At random state 99,the training accuracy is :- 0.4741259134086623\n",
      "At random state 99,the testing accuracy is :- 0.4853281939586258\n",
      "\n",
      "\n"
     ]
    }
   ],
   "source": [
    "from sklearn.linear_model import LinearRegression\n",
    "from sklearn.model_selection import train_test_split\n",
    "from sklearn.metrics import mean_absolute_error,mean_squared_error\n",
    "from sklearn.metrics import r2_score\n",
    "\n",
    "\n",
    "for i in range(1,100):\n",
    "  x_train,x_test,y_train,y_test=train_test_split(x,y,test_size=.20,random_state=i)\n",
    "  lr=LinearRegression()\n",
    "  lr.fit(x_train,y_train)\n",
    "  pred_train=lr.predict(x_train)\n",
    "  pred_test=lr.predict(x_test)\n",
    "  print(f\"At random state {i},the training accuracy is :- {r2_score(y_train,pred_train)}\")\n",
    "  print(f\"At random state {i},the testing accuracy is :- {r2_score(y_test,pred_test)}\")\n",
    "  print(\"\\n\")"
   ]
  },
  {
   "cell_type": "code",
   "execution_count": 80,
   "id": "258ffe6f",
   "metadata": {},
   "outputs": [],
   "source": [
    "x_train,x_test,y_train,y_test=train_test_split(x,y,test_size=.20,random_state=60)"
   ]
  },
  {
   "cell_type": "code",
   "execution_count": 81,
   "id": "99e880a2",
   "metadata": {},
   "outputs": [
    {
     "data": {
      "text/plain": [
       "LinearRegression()"
      ]
     },
     "execution_count": 81,
     "metadata": {},
     "output_type": "execute_result"
    }
   ],
   "source": [
    "lr.fit(x_train,y_train)"
   ]
  },
  {
   "cell_type": "code",
   "execution_count": 82,
   "id": "6b634207",
   "metadata": {},
   "outputs": [],
   "source": [
    "pred_test=lr.predict(x_test)"
   ]
  },
  {
   "cell_type": "code",
   "execution_count": 83,
   "id": "93e3de5a",
   "metadata": {},
   "outputs": [
    {
     "name": "stdout",
     "output_type": "stream",
     "text": [
      "48.08299627464749\n"
     ]
    }
   ],
   "source": [
    "print(r2_score(y_test,pred_test)*100)"
   ]
  },
  {
   "cell_type": "code",
   "execution_count": 84,
   "id": "b510aeff",
   "metadata": {},
   "outputs": [
    {
     "name": "stdout",
     "output_type": "stream",
     "text": [
      "9.792189938749976\n",
      "[-1.93945596e-03 -1.20511000e+00  2.77517216e-01  1.00485498e+00\n",
      " -2.06755400e+00  1.74712910e-01  3.64533084e+00]\n"
     ]
    }
   ],
   "source": [
    "print(lr.intercept_)\n",
    "print(lr.coef_)"
   ]
  },
  {
   "cell_type": "code",
   "execution_count": 85,
   "id": "fe474a88",
   "metadata": {},
   "outputs": [
    {
     "name": "stdout",
     "output_type": "stream",
     "text": [
      "predicted result  [15.34181869 10.83553224 13.37308668 10.59844699  8.5827702  10.82884111\n",
      "  9.15662928  7.99183331  9.59606337 12.96871794 11.57230501  9.40197721\n",
      " 10.96628661 10.6181497  10.1635964   9.96410088  7.35574408  8.39208147\n",
      "  5.7355402  12.12650904 10.4088983   9.98289513 10.74790214 10.57321711\n",
      "  9.73086773 10.67055744 10.96982319 10.26342699 11.16261403  8.18939332\n",
      " 10.07299955 10.07574792 10.85852802 12.09701483  6.854293   10.02017977\n",
      " 10.35338205 13.55191944 13.16755343  6.01905147  7.37671656 11.20941402\n",
      " 11.41533205  6.22468941 10.47358847  8.55167754 11.7103826  10.4713206\n",
      " 10.46501582  8.12287228  7.1672198   9.78251836 12.10242197  8.38370275\n",
      "  9.52791903  8.52842723 13.07546702 11.7275263   7.31214099  9.54011837\n",
      " 11.26624821  9.03155948 11.05675741  9.4998587   9.59805633  8.05082566\n",
      "  9.91905336 11.27541027 11.5571974   9.02872026  8.73512729 12.04889245\n",
      "  9.8372193   8.3291378  11.33102738  8.10508406 13.88459852 12.29005638\n",
      " 10.40476674  8.21455912  8.41337462 13.10237533 11.09573889 12.20093128\n",
      "  9.3626932   9.87313926  8.58274164  6.92086661  8.38671503  9.8332032\n",
      " 10.44382161  8.73425417  9.05002624 10.70660218  9.1837825  12.30556806\n",
      "  6.71290124  7.827994    8.36606783 10.52119821 12.10786669 12.33197276\n",
      "  9.5660248   7.69552169 10.75644102  6.13773795 12.48185045 10.47389754\n",
      " 11.88039856 11.62542277 10.73530048 10.67774201  8.09728173 11.0655382\n",
      " 10.1131064   6.50431088 10.11198026  9.12612632 11.24314081  8.63594364\n",
      "  8.32837768 11.45160397 11.95821197  9.03892217  8.253061    6.56920902\n",
      " 11.67526744  9.73535996  8.8338991   5.58344817  7.45009183  9.91898023\n",
      "  8.28005206  9.68782675 11.35279235  6.42432657  9.5220299   8.91194571\n",
      " 11.67377422 10.67569869 11.83795853  5.81929996 15.36928947  6.78829237\n",
      "  9.50254     7.45449378  9.96298672 12.04954342  9.18782413 10.63428976\n",
      "  8.05326455 12.39349194  6.42168216  9.32953455  8.0932205  12.37195891\n",
      "  7.01429843  9.86688602 12.64135578  6.85045347  6.81449665 12.36805716\n",
      "  8.84000321 10.19174527 10.2459285  10.69531794  9.62314021 11.12735465\n",
      "  6.18895121 10.65995736  9.70037543  9.98238871 12.31262326 11.9279872\n",
      " 11.74091053 11.91509226 10.36683364 10.17773308 12.77761595 13.09336213\n",
      "  8.87021177 10.32095951 11.937389    8.07380598  7.18080697  8.28088944\n",
      "  7.92061035 12.35268781 14.31291497  6.59251145 13.19166291 10.89447804\n",
      "  7.28660849  9.70863042 10.02910623 13.75053125  8.86322592  7.98753203\n",
      " 12.98613875  7.27635852 10.63225157  7.20116573  8.2347136   7.53064641\n",
      "  9.56392579  7.90247217 11.13269713 12.74597525 13.92221705  7.7041188\n",
      " 11.84889164  9.46098966  8.10920509  7.14963993 10.4349387   7.58817363\n",
      "  8.75730088  7.10963279  6.40745635 14.16846376 10.1419032   9.04560766\n",
      " 11.57463225  7.96227119  9.11770023  7.93935781  8.41822039 10.03527399\n",
      "  9.37865331  9.33771623 12.89541753  9.05944457 10.5268838   6.20752648\n",
      " 12.69844709  6.57003958 10.15898283  6.59928304 11.65986295  7.59583695\n",
      "  8.12116814  9.02859995  6.48822926  7.19339206  5.77887847  9.82393029\n",
      " 10.06919723  5.47866163 12.30319589 10.01841851  9.70257794 12.76928374\n",
      "  6.84801352 10.01419277  9.92030614  8.4336615   6.89966052  9.52410165\n",
      "  8.59665613  9.51400264 11.60701725 10.8599543   9.70501331 11.79899435\n",
      "  9.2027445  13.40133242  9.61839525 10.99430775  6.58869967 10.6633529\n",
      " 10.50727252  9.7804495   9.70020122 10.71574228  7.38948776  6.26934075\n",
      "  7.28886897  8.74217284 12.70305767  9.03172495 10.64687875 11.72187741\n",
      " 10.39976866  9.0755808   5.85816317 10.81035305 11.25812398  9.08158988\n",
      " 12.66000681  9.33420454 13.00724236  6.783997   11.99620498  7.52375024\n",
      "  9.83150406  9.83319059 13.23972235 12.1692743   5.92409706  9.44537527\n",
      " 10.76321357 12.66168481 11.09026326 11.39718745  9.25516349  9.84760219\n",
      " 12.46713121 10.54187105  6.36848399  9.5477795  10.27778523 12.00408691\n",
      " 10.53968654  7.17488132  9.1985002   9.62442946  7.26487852  7.30423276\n",
      "  8.75999006 13.4012308   9.95515287 12.33111643  9.53771    10.60005177\n",
      "  6.12718208 10.66403774  8.16528941  9.3031837  11.97035345 13.16700496\n",
      " 10.63980832  8.05071574  8.13077635 12.29721461 12.57311667 11.97927282\n",
      " 12.68505453 14.38041703  9.41881007  6.97150462 12.13602527  8.4168309\n",
      "  9.67162432  8.68781133 10.51449907  9.75662359  9.93184704  6.88479195\n",
      "  7.74976595  9.77009685  9.07873791  9.52891737  6.60925952 10.63969662\n",
      "  9.38944967 11.11859562 12.93751192  6.70108293 10.93604444  9.36348729\n",
      " 10.19786299 11.26335974 10.17916419 10.73795198  8.09075772  8.49720226\n",
      "  8.67490229  8.30260475  9.94618343  6.80281898  7.93889707  7.23213604\n",
      "  9.44325182 11.11085181 12.02607632  8.91270438 11.51180058  7.80134038\n",
      "  5.75328965 10.3935962   7.57924427 11.48863655 10.84986276 10.99546506\n",
      "  9.69656708 10.48742548  9.0144554  13.30279647  9.96639776 12.80151716\n",
      " 14.57078591 10.1254455   8.15142747  9.26484175  9.46293483  8.07815259\n",
      " 12.75808476 10.77315572  9.54176409 10.17214756 10.76298229  9.1821816\n",
      "  8.77154651  7.58462386 11.45665841 10.67858058 11.49977032  7.4356154\n",
      "  5.93546724 12.74644262  9.81957795  8.99391816 10.07398763  7.8114537\n",
      " 11.56598914  7.40144982  8.89725572 10.68272462  8.57103291  9.94361868\n",
      " 10.01304394 10.12460614 10.02845313 10.80715173 10.05354955  7.91425363\n",
      "  9.10826202  8.42247846 10.70067142 11.8375264  12.6117975   7.95046714\n",
      "  7.24586525 10.44699538 11.26055933 11.00482675  8.35649063  8.45028472\n",
      "  9.04705195 11.86236765 11.81433851 10.02905372 10.51504078  9.0744745\n",
      "  9.22193043 11.01458134 11.44984613  8.99009329 11.06676748  8.7397283\n",
      " 12.69203555 10.78858296  6.93664552 10.23932754 10.23716737 10.68587636\n",
      "  8.3738196  10.10298626 10.57597852 12.54580173  9.20124894 11.04645752\n",
      "  9.22254719  9.60734602 10.83367422  8.92996624  9.95298434 10.64824049\n",
      " 10.53125409 12.0996499  10.72152514  9.40232156  8.47015852 11.31362881\n",
      "  7.76064005  6.64667348  9.45408403  5.8654794   9.1248898   8.15930915\n",
      "  9.20679992 11.97235199  9.71529698 11.84247383 11.56009304  8.91636493\n",
      " 10.3029481   8.01992232 11.98775831  7.33743479  9.41900097 11.3295312\n",
      " 12.78118055  7.03336917  6.78699693 10.28931697 12.19477519 11.8439448\n",
      " 12.22928418 12.96183566  7.29440882  6.95056767 10.49887968  9.20523931\n",
      " 10.80457944  7.17559356  9.66895012  8.81427051  7.66865389  7.70709944\n",
      "  9.7252683  12.8270877  10.375907    9.42679928 10.05371907 10.13008327\n",
      "  8.76558734 11.11064033  8.79890055  9.37287576  7.8642449  10.69299431\n",
      "  6.62483167  9.72352253  7.436033    6.560117    9.35564527  7.39889475\n",
      " 12.21644586 12.51436645 11.51240408  9.46572685 12.52597769 14.44356441\n",
      " 10.86435695 12.54268407  7.27619825  6.1005467   6.44927767  8.02467601\n",
      "  9.93282254  9.19108133  8.03469999 11.48858027  9.75000913 11.84441838\n",
      "  9.17803397 10.12409     9.4518562   8.75572926  8.64383315  9.84351875\n",
      " 11.30490445 10.13782194 13.234165    9.92223767  7.61567391  8.25367627\n",
      "  7.90591204 11.90226202  6.08556087 10.6194976   8.09616805 10.60776229\n",
      " 10.62891829 11.70339763 10.06398523  7.83875406  7.83556128  7.2493194\n",
      "  7.78305574  9.05804415  6.30831332  7.7054938  10.26360954  7.11011658\n",
      "  8.23132483  7.48107878  9.88530155  7.56074845 10.29214806 11.47276629\n",
      "  8.99618531  8.99968848  7.91711083 10.97755769  6.15084919  6.36905579\n",
      "  9.58142262  9.67808967 11.08574758  6.36353311 12.85886915  9.78002891\n",
      "  5.8982446   8.2701485  11.03891892 11.64484044  9.39394281 14.17705997\n",
      "  9.14375898  8.38842658  9.00300965  7.96184682  7.21232832  8.1727279\n",
      " 11.31914681 13.39672154 10.35735326  7.5061605   8.94279501  6.6543814\n",
      " 11.0855777   9.2924229  10.18816151  9.67246356 11.13246043  8.99336391\n",
      "  7.7048177  10.11587386 10.44484304  8.13914323  9.3231375  11.20082907\n",
      " 10.19577641 10.92811412 10.21628593 11.12337666  7.92960864 10.21840926\n",
      "  8.07503955 10.10374942 10.57716687 10.14014233  7.0710013   9.27338327\n",
      " 10.62346313  8.55036616  9.28487822 10.01605328 10.62370278 11.82999673\n",
      " 10.02511273  7.47596529 11.42397991  6.86293678  8.5619288   9.85458544\n",
      "  7.64434352  9.82544303 11.37366557  7.06806019  9.11538395 11.2904484\n",
      "  9.60017122  7.26456888  7.98273559  8.80449985 10.70117762 10.42183781\n",
      " 13.23164028 11.77440269 13.69176325  7.58232377 10.26671175  7.66671428\n",
      "  9.13532374  8.05569788  6.62372396  7.65754236  9.95626204 11.28649524\n",
      " 10.87128326 12.16762407  9.6503424  12.62416639  8.01337122 13.51064438\n",
      "  7.44761707 10.6471716  11.7430312  10.39236798 11.1476415  11.03039299\n",
      "  7.58189406  9.35927669 10.80712687  8.24686223  8.71398592 11.38536766\n",
      " 11.17773658 11.98978326  9.7182256  10.10832999 11.48207942 10.27349609\n",
      " 12.39684826 10.61791893 11.87824416  7.21993932  9.84117654  7.77195319\n",
      " 11.14289227 10.63185244  6.91601639  8.76518863 10.07787387 11.73164094\n",
      "  9.07843787  9.51648238  9.25162792  7.3272813   9.15202346 10.04643518\n",
      " 10.3236386  10.77840226  7.43645503  9.80387587  9.88076629  7.63737698\n",
      " 10.97934304  8.13034842 13.19700935  6.36263283  8.43776067 10.76441167\n",
      "  6.34793424 10.93782745 12.24344949 10.60258374 10.4303967  12.27423345\n",
      " 10.4029731  10.07499705  8.81622863 12.64822546 11.08182572  6.8055925\n",
      "  9.3741419  11.38726693  8.39160758 12.19420136  9.91318794  8.9534021\n",
      "  9.1733678  10.5088058   7.49287638  7.19495037 13.38439722  9.21657403\n",
      " 11.56696281 13.01321527  6.26040006  6.02112284 10.04262304 14.02757179\n",
      " 10.0891087  12.78402677  9.19184156 12.96154474  6.14857816  9.21691985\n",
      " 11.06952484  6.56709056  9.10862497  8.1462882  10.36956354  8.26330454\n",
      " 11.00318156 13.08763781 13.77683024  9.70186795 11.69640991 11.46682293\n",
      " 10.92938488 10.91432693 10.95442676 10.26911885  9.61191045  6.98071237\n",
      " 13.69975151 12.37090551 11.89084043  6.32447873  8.49109612  9.37016974\n",
      "  7.539709   14.30349202  8.76231128 11.39434921  8.81882577  8.8246644\n",
      " 11.85601597 10.15676809 14.22212963 11.36949999 10.33175737 11.87554513\n",
      " 12.75039048 10.45954615  9.36895928  9.68829794 10.76277772 10.03135309\n",
      " 12.44233702  9.57050139  7.12709045 11.18904876  9.82634022 15.86790766\n",
      "  9.81345598 10.74202585 13.75372573 13.09706595 11.17322564 13.80715306\n",
      "  8.71523963  9.53643834]\n",
      "actual result 468     17\n",
      "1859    10\n",
      "2675    10\n",
      "3570     9\n",
      "4109     8\n",
      "        ..\n",
      "763     14\n",
      "3147    13\n",
      "3987    11\n",
      "4114     9\n",
      "3868     8\n",
      "Name: Rings, Length: 818, dtype: int64\n"
     ]
    }
   ],
   "source": [
    "pred=lr.predict(x_test)\n",
    "print(\"predicted result \",pred)\n",
    "print('actual result',y_test)"
   ]
  },
  {
   "cell_type": "code",
   "execution_count": 86,
   "id": "9d47197d",
   "metadata": {},
   "outputs": [
    {
     "name": "stdout",
     "output_type": "stream",
     "text": [
      "Error:\n",
      "Mean Absolute Error : 1.4990086109811018\n",
      "Mean Squared Error : 4.087291277918008\n",
      "Root mean Squared Error 2.0217050422645753\n",
      "r2 score : 48.08299627464749\n"
     ]
    }
   ],
   "source": [
    "print('Error:')\n",
    "print('Mean Absolute Error :',mean_absolute_error(y_test,pred))\n",
    "print('Mean Squared Error :',mean_squared_error(y_test,pred))\n",
    "print('Root mean Squared Error',np.sqrt(mean_squared_error(y_test,pred)))\n",
    "print('r2 score :',r2_score(y_test,pred)*100)"
   ]
  },
  {
   "cell_type": "markdown",
   "id": "022ca26d",
   "metadata": {},
   "source": [
    "### Decission Tree Regressor"
   ]
  },
  {
   "cell_type": "code",
   "execution_count": 87,
   "id": "3b66efc8",
   "metadata": {},
   "outputs": [
    {
     "data": {
      "text/plain": [
       "DecisionTreeRegressor()"
      ]
     },
     "execution_count": 87,
     "metadata": {},
     "output_type": "execute_result"
    }
   ],
   "source": [
    "from sklearn.tree import DecisionTreeRegressor\n",
    "dtr=DecisionTreeRegressor()\n",
    "dtr.fit(x_train,y_train)"
   ]
  },
  {
   "cell_type": "code",
   "execution_count": 88,
   "id": "d2ef90d5",
   "metadata": {},
   "outputs": [
    {
     "name": "stdout",
     "output_type": "stream",
     "text": [
      "predicted result  [11. 11.  9. 10. 11. 11.  8. 11.  9. 13. 18.  8. 11. 10.  9. 14. 10.  9.\n",
      "  5. 13. 13. 10. 11. 10.  7. 11.  8. 10. 11.  6. 10.  9. 10. 11.  7. 11.\n",
      " 10.  9. 10.  6.  6. 10. 12.  7. 13. 12. 10. 10. 10.  7.  5.  9. 14.  9.\n",
      " 12.  9. 15. 10.  9.  7. 12.  9. 10. 10. 11. 10.  8. 11. 10.  8.  9. 11.\n",
      " 11.  8. 11.  9. 11. 11. 11.  8.  7. 16. 12. 11.  7. 17.  8. 13.  8.  7.\n",
      "  8.  9.  9. 10. 10. 18.  6.  7.  7. 10. 15. 11. 11.  7. 13.  5. 19. 12.\n",
      " 11. 12. 12. 10.  8. 10. 11.  6. 10. 10.  9.  9.  8. 11. 13.  8.  6.  5.\n",
      "  9.  9. 12.  3.  7.  8. 11.  9. 10.  5. 11.  9. 11. 15. 16.  5. 13.  7.\n",
      " 10. 10.  9. 12. 15. 12.  8. 12.  7.  9. 11. 11.  7.  9. 15.  5.  7. 10.\n",
      "  8. 12. 10.  9.  9.  9.  5.  8.  9.  9. 11. 10. 14. 19. 11.  9. 13. 11.\n",
      "  7. 10.  8.  8.  6. 11.  8. 12. 13.  6. 15. 11.  6. 17. 10. 12.  9.  6.\n",
      " 16.  8. 10. 10.  6.  6. 13.  7.  8. 11. 16.  8. 10. 10.  9.  6.  8.  7.\n",
      " 10.  7.  4. 12. 12. 10. 11.  8.  9.  6.  9.  9. 10. 10. 12. 17.  9.  5.\n",
      " 18.  7. 12.  5. 12.  7.  9.  9.  5.  7.  6. 17.  9.  5. 12. 10. 10. 12.\n",
      "  6. 12. 12.  8.  6.  8.  8. 14. 10.  9.  9. 11. 11. 15. 11.  9.  5.  9.\n",
      " 11. 19.  9.  9.  9.  7.  8.  8. 11. 10. 10. 10. 10.  9.  3.  9. 13.  8.\n",
      " 13. 10. 11.  6. 16.  7.  8. 10. 15. 11.  5. 10. 19. 13.  9. 13.  7. 10.\n",
      " 11. 18.  5.  8. 10. 10. 11.  6.  8.  9.  7.  8. 10. 12.  9. 18. 11. 13.\n",
      "  5.  8.  8. 12. 16. 19.  8.  7.  6. 10. 13.  9. 12. 15. 10.  6. 13.  7.\n",
      "  9.  9. 15.  8. 18.  7.  7. 10.  8. 10.  5. 10. 10. 11. 11.  7.  9. 10.\n",
      "  9.  9.  9. 11. 10.  9. 11.  9.  9.  7.  7.  7. 10. 12. 17. 12.  9.  7.\n",
      "  3. 10.  6. 13.  9.  9. 13.  8.  9. 13. 10. 10.  9. 10.  6.  8. 11.  6.\n",
      " 12. 11.  8. 14. 12.  7.  8.  9.  9. 17.  8.  5.  5. 16. 11. 12.  9.  6.\n",
      " 12.  8.  8. 12.  9.  9.  9. 12. 13. 10. 10.  7. 14.  7.  9. 10. 15.  7.\n",
      "  6. 10. 10. 11. 10. 11.  9.  8. 10. 10.  9. 10. 10. 10. 15.  8. 12.  9.\n",
      " 13. 14.  6. 10. 12. 13. 11.  9. 10.  9.  7. 17.  9. 15. 12.  8. 11.  9.\n",
      "  9. 11.  9.  9.  9. 13.  6.  9. 11.  4. 10.  6.  9. 15. 11. 18. 11.  7.\n",
      "  9.  8. 13.  7. 11. 12. 11.  7.  7.  9. 11. 10. 15. 11.  6. 11. 13. 10.\n",
      "  9.  6.  9.  8.  9.  8.  8. 12. 11. 10.  9. 13.  7. 14.  8. 11.  7. 10.\n",
      "  8. 10.  6.  6.  7.  7. 12. 15.  9. 11. 11. 15. 10. 15.  6.  5.  5. 12.\n",
      " 12.  8.  8.  6. 11. 10.  8.  9. 17. 11.  8. 13. 12.  8. 14.  9.  8.  7.\n",
      "  8.  9.  4. 15.  8. 10. 10. 11.  8.  7.  7.  9.  6.  7.  5.  8.  9.  5.\n",
      "  6.  7. 13.  8.  9. 11.  9. 10. 11. 10.  4.  6.  7.  8. 12.  6. 12. 10.\n",
      "  5.  8. 10. 10.  8. 16. 10.  6. 12.  9.  6. 10. 10. 14.  9.  6.  8.  6.\n",
      " 10.  9. 11.  9. 11. 12. 15. 11.  9.  7.  8. 11. 13.  9.  8.  9.  6. 11.\n",
      "  7.  7. 10. 14.  8. 10. 11. 13.  8. 13. 10. 19. 11.  6. 12.  9.  8. 15.\n",
      "  7. 10. 12.  6.  9. 14.  8.  8.  9.  9. 11. 11. 11. 13. 12.  5. 10.  7.\n",
      "  8.  9.  6.  7. 10. 11. 11. 11. 13. 11.  7. 11.  6. 15. 11.  9. 11. 10.\n",
      "  6.  8. 12. 10.  9. 10. 11. 10. 10.  9.  9.  9. 10.  9.  9.  6. 11.  7.\n",
      " 10.  9.  7.  7. 11. 19.  9. 10.  9.  6. 14. 12.  8.  9.  7. 13.  9.  6.\n",
      " 10.  7. 12.  5.  8.  9.  4. 10. 10. 13.  9. 10. 15. 10.  9. 11.  9.  5.\n",
      "  9. 13.  9. 10. 12.  8.  9. 13. 10.  8. 10.  8.  9. 11.  6.  3.  9. 10.\n",
      " 11. 11.  7. 18.  7.  9.  9.  7.  6.  9. 11. 11.  8. 11. 11. 10.  9.  8.\n",
      " 11. 16. 19.  8. 10.  5. 12. 15. 12.  6.  8. 10.  7. 10.  7. 12. 10.  8.\n",
      " 12. 11. 16. 10. 11. 14. 13.  8.  7. 10. 10.  9.  9. 12.  8.  9.  9. 13.\n",
      " 10. 10. 11. 18.  6. 15.  8. 10.]\n",
      "actual result 468     17\n",
      "1859    10\n",
      "2675    10\n",
      "3570     9\n",
      "4109     8\n",
      "        ..\n",
      "763     14\n",
      "3147    13\n",
      "3987    11\n",
      "4114     9\n",
      "3868     8\n",
      "Name: Rings, Length: 818, dtype: int64\n"
     ]
    }
   ],
   "source": [
    "pred=dtr.predict(x_test)\n",
    "print(\"predicted result \",pred)\n",
    "print('actual result',y_test)"
   ]
  },
  {
   "cell_type": "code",
   "execution_count": 89,
   "id": "8b5bb3bb",
   "metadata": {},
   "outputs": [
    {
     "name": "stdout",
     "output_type": "stream",
     "text": [
      "Error:\n",
      "Mean Absolute Error : 1.9731051344743276\n",
      "Mean Squared Error : 7.831295843520782\n",
      "Root mean Squared Error 2.798445254694253\n",
      "r2 score : 0.5264396792613257\n"
     ]
    }
   ],
   "source": [
    "print('Error:')\n",
    "print('Mean Absolute Error :',mean_absolute_error(y_test,pred))\n",
    "print('Mean Squared Error :',mean_squared_error(y_test,pred))\n",
    "print('Root mean Squared Error',np.sqrt(mean_squared_error(y_test,pred)))\n",
    "print('r2 score :',r2_score(y_test,pred)*100)"
   ]
  },
  {
   "cell_type": "markdown",
   "id": "fd5a68d4",
   "metadata": {},
   "source": [
    "### KNeighborsRegressor"
   ]
  },
  {
   "cell_type": "code",
   "execution_count": 90,
   "id": "669b3198",
   "metadata": {},
   "outputs": [
    {
     "data": {
      "text/plain": [
       "KNeighborsRegressor()"
      ]
     },
     "execution_count": 90,
     "metadata": {},
     "output_type": "execute_result"
    }
   ],
   "source": [
    "from sklearn.neighbors import KNeighborsRegressor\n",
    "knr=KNeighborsRegressor(n_neighbors=5)\n",
    "knr.fit(x_train,y_train)"
   ]
  },
  {
   "cell_type": "code",
   "execution_count": 91,
   "id": "85933d35",
   "metadata": {},
   "outputs": [
    {
     "name": "stdout",
     "output_type": "stream",
     "text": [
      "predicted result  [14.2 12.  13.4 12.   9.4  8.6  8.6  7.4  9.6 13.8 10.   9.4  9.4 11.6\n",
      " 10.2 10.2  9.   7.8  5.  11.4 10.6 12.   9.4 10.  11.2 10.6 10.8  9.2\n",
      " 11.   7.6 10.2  9.6 11.  13.   6.8 10.4  9.8 13.6 13.6  5.2  6.6 11.\n",
      " 12.8  6.4 13.4 10.2 10.  14.  10.6  9.2  6.4  8.4 10.8  7.4  9.6  9.4\n",
      " 14.6 10.4  8.4  9.  11.2 10.4 13.4  8.4 10.  10.6  9.8 11.2 10.8 10.2\n",
      " 10.2 11.2 10.4  7.8  9.8  8.2 10.8 10.2 10.   7.2  8.4 10.8 11.  11.2\n",
      " 10.6  9.2  8.   9.   8.   9.8 10.   7.4 10.4 10.8 10.2 15.4  6.8 11.4\n",
      "  8.4  9.6 11.  11.8 11.   8.2  9.4  5.  12.2  9.4 10.8 11.2 12.4  9.4\n",
      "  9.4 11.2 10.   5.2  9.4  9.4 11.8  9.2  8.2 12.  17.   8.2  8.2  5.6\n",
      " 10.6  9.8  9.   3.6  7.2  9.4  8.6 10.2 10.   6.2 10.4 10.  11.  11.\n",
      " 11.2  5.2 13.6  6.8 10.6  7.4  9.2 11.2 10.6 12.   8.4 13.8  6.6  9.2\n",
      "  8.8 13.8  5.6 10.2 13.2  5.8  7.2 14.  10.  10.  12.  10.8 10.6 13.4\n",
      "  5.4  9.8  9.8 10.6 12.6 11.  11.  10.8  9.4 10.  10.6 13.   7.6  9.4\n",
      " 11.   8.6  6.6  9.   8.2 12.4 14.2  6.  12.4 11.4  7.   8.4 11.  13.4\n",
      "  8.4  7.4 10.4  7.2 11.4  6.6  7.4  6.6 11.2  7.6  8.8 11.2 15.2  6.6\n",
      " 12.8  9.2  8.8  7.2 11.6  6.6  7.6  6.6  5.  15.4 12.6  9.4  9.8  8.8\n",
      "  9.8  7.4  8.2  9.4 10.6 10.6 13.6 13.2  9.2  6.  14.2  5.8  9.4  6.8\n",
      " 10.8  8.   6.6  8.   6.2  6.6  5.4  9.8 10.2  4.  13.2  9.   9.4 11.6\n",
      "  5.4 10.2 11.   9.   8.8  9.   7.2 11.2  9.4 10.6  8.6 11.4  8.8 12.6\n",
      " 10.2 11.2  6.  11.2  9.2  9.  12.2 10.4  9.6  6.6  7.2  9.2 13.   8.2\n",
      " 10.8 12.  11.2 10.   4.6 12.8 11.2  8.8 10.4  9.4 13.4  5.6 12.6  7.\n",
      "  9.4  9.4 13.  10.6  5.   9.8 10.  14.6 11.2 10.2  9.2  8.8 11.6 12.6\n",
      "  5.4 11.4  9.8 11.  10.4  7.2 12.4  9.   7.4  7.   8.4 11.4  8.6 11.8\n",
      "  9.2 10.   6.2 10.2  6.8 12.  13.  13.4  9.8  7.6  9.8 10.2 10.8 14.\n",
      " 13.8 13.2  8.4  7.  10.6  7.4  9.  10.2 13.2  9.6 11.6  5.8  9.6 10.\n",
      "  9.4  9.   6.  11.   9.6 10.2 11.8  6.8  9.8 10.2  9.8 12.4 10.4 11.2\n",
      "  7.6  9.6 10.8  8.8  8.   6.8  7.4  6.8  9.2 12.2 14.8 10.2 11.8  7.\n",
      "  4.4 11.   7.8 10.8 11.2  9.6 11.  10.8  8.8 12.4 10.  13.6 12.6  9.\n",
      "  8.   7.8 11.2  8.  10.4 10.8  9.6 11.8 12.2  9.   9.6  7.8 11.4 14.6\n",
      " 11.2  6.8  6.  13.2  9.6 10.  10.2  7.4 12.8  7.6  9.6 11.8  8.6  8.4\n",
      "  9.2 10.6 11.6 12.2 11.8  7.6  8.4  7.4 10.  11.2 13.4  7.   6.6 10.\n",
      " 10.8 10.8  8.4 11.4 10.2 11.  10.4 10.   9.  11.6  8.4 11.4 10.8  8.4\n",
      " 10.   9.8 11.4 12.6  6.4  9.8 12.6 11.2  9.  10.  10.  12.6 10.8 10.4\n",
      "  9.2 11.2 10.8  8.6 10.4 12.8  9.8 12.2 12.4  7.6  6.8 10.   7.2  6.2\n",
      " 10.4  4.8  9.4  7.2  8.6 13.4 10.2 11.6 12.   9.  10.8  7.4 10.   6.4\n",
      " 11.8 10.  13.8  9.   6.2 10.4 11.8 10.6 10.6 12.   6.8  8.8 11.2  8.\n",
      " 13.4  6.6  9.   9.6  8.4  7.  10.2 14.4  9.4 12.4 10.4 10.   9.  12.4\n",
      "  8.  10.6  7.8 13.   5.8  9.8  7.2  6.6  8.8  7.4 11.2 13.  11.2  9.\n",
      " 12.8 12.8 11.  11.6  6.6  4.6  4.8 10.   9.8  9.8  8.   9.6 10.8 10.2\n",
      "  9.4 11.2 11.   9.2  8.2  9.4 12.6  9.4 13.8  9.2  6.8  8.   7.2 11.8\n",
      "  5.  10.   8.8  9.4  9.8 10.4  8.8  7.   9.6  7.   7.6 11.   6.6 10.6\n",
      "  9.6  5.4  7.6  6.8  9.2  6.8 10.  12.8 10.   9.4 10.  10.   5.4  6.6\n",
      "  9.2  9.6 11.2  6.2 11.8 10.2  5.2  7.8 10.  12.8 10.2 14.4  8.2 10.\n",
      " 10.2  7.8  7.   8.6 12.2 11.  10.   6.2 10.2  6.2 10.6  9.   9.2  9.\n",
      " 11.6  9.4 10.8  9.6  9.6  8.4  8.6 11.  10.2 10.  11.   9.8  9.4  9.8\n",
      "  6.8  8.8 10.6 10.4  7.2 10.  10.8  9.2 11.8 10.6 10.  10.8 10.   7.2\n",
      " 11.2  5.8  7.4 12.2  7.2  8.8 11.4  6.6  8.2 11.2  9.6  7.2  8.8  8.2\n",
      " 11.4 12.4 11.4 12.4 10.6  7.2 10.2  7.   8.4  7.4  5.8  7.4  9.6 11.4\n",
      " 11.8 10.6  7.8 10.   7.4 13.   8.  10.  10.6  9.8 12.  10.   6.6  8.6\n",
      " 10.6  7.4  9.4 10.8 10.8 10.4  9.6 11.  10.  10.6 10.8 11.2 10.8  7.\n",
      " 10.   7.4 10.4 10.   6.2  8.2 10.6 11.8  8.6  8.8  8.6  7.4  9.8  9.6\n",
      " 10.  10.2  6.8 10.  10.   8.  10.   8.4 13.   4.6  9.2 11.4  6.2 10.8\n",
      " 11.2 10.2 11.  11.  10.6  9.6 10.2 11.8 12.6  6.2  9.  11.2 10.4 13.2\n",
      "  9.8  9.6  8.8 10.8  8.6  6.  11.4  8.6 11.2 10.8  6.   4.4  9.2 11.4\n",
      " 11.  10.8 10.  10.4  5.   8.8 10.8  6.4 10.4 10.  11.6  7.4 10.6 11.4\n",
      " 12.4  9.6  9.6 11.8 11.4 10.2  9.  11.2  9.6  6.8 11.8 13.6 11.6  6.2\n",
      "  8.4  9.6  6.4 14.2  9.2 11.8  7.4  7.8 10.4 10.6 13.2 10.2  8.8 12.\n",
      " 11.  10.   8.8  8.6 13.6  9.6 13.6 10.4  7.4 11.4  9.4 15.2 10.6 10.4\n",
      " 12.6 12.6 10.  12.   8.6 11.2]\n",
      "actual result 468     17\n",
      "1859    10\n",
      "2675    10\n",
      "3570     9\n",
      "4109     8\n",
      "        ..\n",
      "763     14\n",
      "3147    13\n",
      "3987    11\n",
      "4114     9\n",
      "3868     8\n",
      "Name: Rings, Length: 818, dtype: int64\n"
     ]
    }
   ],
   "source": [
    "pred=knr.predict(x_test)\n",
    "print(\"predicted result \",pred)\n",
    "print('actual result',y_test)"
   ]
  },
  {
   "cell_type": "code",
   "execution_count": 92,
   "id": "b80efe64",
   "metadata": {},
   "outputs": [
    {
     "name": "stdout",
     "output_type": "stream",
     "text": [
      "Error:\n",
      "Mean Absolute Error : 1.5518337408312957\n",
      "Mean Squared Error : 4.410317848410758\n",
      "Root mean Squared Error 2.10007567682947\n",
      "r2 score : 43.979894605758716\n"
     ]
    }
   ],
   "source": [
    "print('Error:')\n",
    "print('Mean Absolute Error :',mean_absolute_error(y_test,pred))\n",
    "print('Mean Squared Error :',mean_squared_error(y_test,pred))\n",
    "print('Root mean Squared Error',np.sqrt(mean_squared_error(y_test,pred)))\n",
    "print('r2 score :',r2_score(y_test,pred)*100)"
   ]
  },
  {
   "cell_type": "markdown",
   "id": "4861be39",
   "metadata": {},
   "source": [
    "### Support Vector Regressor"
   ]
  },
  {
   "cell_type": "code",
   "execution_count": 93,
   "id": "57b97346",
   "metadata": {},
   "outputs": [
    {
     "data": {
      "text/plain": [
       "SVR()"
      ]
     },
     "execution_count": 93,
     "metadata": {},
     "output_type": "execute_result"
    }
   ],
   "source": [
    "from sklearn.svm import SVR\n",
    "svr=SVR(kernel='rbf')\n",
    "svr.fit(x_train,y_train)"
   ]
  },
  {
   "cell_type": "code",
   "execution_count": 94,
   "id": "81213426",
   "metadata": {},
   "outputs": [
    {
     "name": "stdout",
     "output_type": "stream",
     "text": [
      "predicted result  [12.56698071 10.63124892 12.48631124 10.15128333  8.77912264 10.23276479\n",
      "  8.57358521  8.45333231  9.53549194 13.53915717 10.72021904  9.47109464\n",
      " 10.47606422 10.04675437  9.77395735 10.13442207  8.17490878  8.05448073\n",
      "  4.7500226  11.5907737  10.60433629  9.9911574  10.69315282 10.23187485\n",
      " 10.11588188 10.2765954  10.32061662  9.7650364  10.36033675  7.51074812\n",
      "  9.96392711  9.76938781 10.089859   11.03194404  6.45876963  9.75530341\n",
      "  9.84902224 13.31499026 12.51595491  4.4674451   7.04239716 10.84690235\n",
      " 12.0450947   5.78974759 10.84273378  9.66158832 10.80971221 10.33644492\n",
      "  9.82987785  9.06583721  6.74809499  9.55475953 11.32557543  7.8067303\n",
      "  9.21022441  9.17477685 13.25799147 11.08971336  7.74402075  9.38280226\n",
      " 10.94453883  9.66636417 11.61646346  8.82013552  9.65572706  8.58486616\n",
      "  9.50983493 10.53010005 10.94447914  9.169467    9.1363484  11.13007795\n",
      "  9.51365888  7.66066283 10.78949115  7.36598662 11.84722824 11.11920422\n",
      " 10.33770317  7.40997725  8.88711305 11.18947723 10.18585603 11.06702003\n",
      "  9.52690041 10.15676049  7.75506287  7.79826121  7.71449428  9.3503394\n",
      "  9.94009547  7.70907169  9.29388446 10.8724707   9.56821924 13.03729087\n",
      "  5.84751148  8.57926178  7.77081693  9.79572945 12.24644632 11.31578125\n",
      "  9.81540206  8.29947789 10.65467355  4.84024985 11.11136577 10.05281018\n",
      " 11.59441115 11.09295176 11.00648559 10.16862754  8.84319788 10.37407984\n",
      " 10.43614867  5.00145967  9.5652683   9.03197621 10.67749579  8.89474844\n",
      "  8.41164592 11.73758078 12.68055689  8.97913226  8.49033972  5.20803124\n",
      " 11.01988544  9.65754411  9.03015245  4.0960525   6.92670395  9.52199535\n",
      "  8.45321857  9.76597242 10.54623263  5.24634316  9.44008736  9.07425152\n",
      " 10.94568508 10.81856561 11.6227288   4.46966646 15.28417175  6.01356061\n",
      "  9.20198138  7.45983925  9.56901748 12.76663959  9.32261793 11.40577721\n",
      "  7.20781129 12.04882932  6.50233783  9.58247434  8.83788667 11.71521464\n",
      "  5.76339975  9.58565936 11.1667579   5.9039547   6.63984343 11.13100772\n",
      "  9.16989905  9.73592332 10.84327321 11.01750441  9.67269232 10.90225125\n",
      "  5.47015949 10.26603965  9.23780443  9.65876872 11.15518641 11.62398645\n",
      " 10.89846186 10.93160041 10.99684484  9.82558341 11.34886811 12.73035489\n",
      "  7.55836813  9.92411269 11.10440939  7.67383336  6.89086436  8.84589646\n",
      "  7.23105914 12.66577782 12.15541495  5.98162365 12.09240613 10.89620107\n",
      "  6.80447494  9.97848384  9.91908157 11.93427384  8.40700541  7.34265197\n",
      " 10.85802723  7.04902435 11.34677027  6.88335125  7.55969356  6.92680851\n",
      "  9.46714409  7.2080702  10.80421358 11.33128611 14.42372989  7.21369336\n",
      " 10.92359374  9.08260695  7.58055393  7.48857554 10.21314314  7.13245882\n",
      "  8.10847616  6.91706764  5.37014738 14.3895041  10.58743215  9.01333742\n",
      " 10.55007157  7.14507796  8.93274895  7.33771482  7.801608    9.87846339\n",
      "  9.3065519   9.4453506  12.48408933  9.62001644 10.25576682  5.32186233\n",
      " 11.70650819  5.60345136  9.85315557  5.86282227 10.96107195  8.26726882\n",
      "  7.11715173  8.36361961  5.70460848  6.75837153  5.65753791 10.4925318\n",
      " 10.15789764  4.10355405 11.33943257 10.48203672  9.41014643 11.40859758\n",
      "  6.71251453 10.17284065 10.29680532  8.58064266  7.55867634  8.91791964\n",
      "  9.21490137  9.72507788 10.49032905 10.36444603  9.16529822 10.79051706\n",
      "  8.97584228 11.68073568  9.65780171 11.02843408  6.15566766 11.23783729\n",
      "  9.90723739  9.93250208 10.19499927 10.03788644  8.25496377  6.11094031\n",
      "  6.89815079  8.94555227 11.36219805  8.45613755  9.9381331  11.60756533\n",
      " 10.70889382  8.3039791   4.83135692 10.62947694 10.59348207  9.13714001\n",
      " 11.6474922   9.15146701 12.41565358  6.14267789 11.42547223  7.10761047\n",
      "  9.6868949   9.34992972 13.16074597 11.41142196  4.62436315  9.15724804\n",
      " 10.18738331 12.93735657 10.38467922 10.66404614  8.84174947  9.18271067\n",
      " 11.41325642  9.33938651  5.54515624  9.59194508  9.71687375 11.2383063\n",
      " 10.65867389  6.65417456  9.35257367  8.96695488  6.81875512  6.66759429\n",
      "  8.13034276 11.60067159  9.62003928 12.21139324  9.37318912  9.99029416\n",
      "  5.09412535 10.53111363  7.47743948  9.89325607 10.83337135 12.86656866\n",
      " 10.27836079  7.34721817  8.79704657 11.32736861 11.61479649 10.92020034\n",
      " 11.32282236 12.17804045  9.61350434  7.3597342  11.7309215   8.03534143\n",
      "  9.18751751  9.01370591 10.34157672  9.46453404 10.16434265  6.39075141\n",
      "  8.02321902  9.81484866  8.46559276  8.89284165  6.01184845 10.66068924\n",
      "  9.29967287 11.00943574 11.6517665   6.44541675 10.22345377  9.45637184\n",
      "  9.83866789 11.40543204  9.6827745  10.85471658  7.18542032  8.58929314\n",
      "  9.22290688  8.68715648  9.41504765  6.48611988  7.34507511  6.838828\n",
      "  9.58102683 11.0200001  11.93895312  9.20461126 10.79483178  7.16833036\n",
      "  4.23128543 10.4472777   7.14616941 10.62972488 10.78652804 10.13303107\n",
      "  9.82555988  9.89094583  8.39385524 11.84067475  9.8407094  12.56244841\n",
      " 12.38842945  9.67518611  7.51793056  9.10775837  9.93567338  7.4811694\n",
      " 11.56393325 11.09531415  9.00389084 10.07204887 11.3144547   8.605959\n",
      "  9.2191515   8.27234107 11.14923799 11.12494716 10.6127958   6.80051623\n",
      "  6.07888973 12.89667803  9.79720069  9.62654895 10.17001984  8.31552595\n",
      " 11.45005618  6.84539524  8.33725715 10.00545383  8.63261526  9.48224716\n",
      " 10.16648545 10.712015   10.12099291 10.61757934 10.25822611  7.26554144\n",
      "  8.644169    7.8656683  10.020958   11.1262143  12.18516915  7.17057965\n",
      "  6.56521934 10.07313286 10.99754162 10.40631874  7.86395981  9.0131645\n",
      "  9.18845852 10.49992852 10.73272197  9.42074562 10.98600028  9.66076314\n",
      "  8.55962209 10.4519149  10.71179103  9.23798611 10.65152799  8.2063125\n",
      " 11.7732111  11.06758184  6.24295472  9.67082695 10.86871383  9.94858046\n",
      "  7.38344198 10.32857675 10.22715236 11.290927    8.83846846 10.40336994\n",
      "  9.18513286 10.08846832 10.33177424  8.31452611  9.75210429 10.8933902\n",
      " 11.24699054 11.03378001 10.8139372   8.60397218  7.72125707 10.89130399\n",
      "  7.2236974   5.90677395  9.6945455   4.32841733  9.63910604  7.52573123\n",
      "  9.16083384 11.3517798   9.65324039 10.77608963 11.16762724  8.95798039\n",
      " 10.20509507  7.41343825 10.93494953  6.94464946  9.55874613 10.34371848\n",
      " 11.21342112  7.75772263  5.6716035   9.94047076 12.16358421 11.35997386\n",
      " 12.19576774 11.37354961  6.96748119  7.48496073 10.59967509  8.47005176\n",
      " 10.84125632  6.84278361  8.96901229  8.21774599  8.3240392   7.30329434\n",
      "  9.27395192 11.4130674   9.84335558  9.78352589  9.73972744  9.62454786\n",
      "  8.37683453 10.84211558  8.11284788  9.90798374  7.37244312 10.85451746\n",
      "  6.43057851  9.56325397  7.02708055  5.86402362  8.73218849  7.07376525\n",
      " 10.95884984 12.47105287 11.37715378  8.86234003 11.32772991 12.89352354\n",
      " 10.03869204 11.37968868  6.86115865  4.15234141  5.27524733  8.64791322\n",
      " 10.14344881  9.40363462  7.31227363 10.60851734 10.00026944 10.79958549\n",
      "  9.56753508 10.40845214  9.93354983  9.02402905  7.91587844  8.93076965\n",
      " 10.53410496  9.79506395 12.61916722  9.35084195  7.1204012   7.69259295\n",
      "  7.32897874 11.65796452  4.48880126 11.12883615  8.62040235  9.97669124\n",
      " 10.18387147 10.83969805  9.70464818  7.30450536  8.64035745  7.79155792\n",
      "  8.62214431  8.76608319  6.3100892   8.42144474  9.79604684  6.06292166\n",
      "  7.57402031  6.66869989  9.9972228   7.06370417  9.81547646 10.90670904\n",
      "  9.45331171  8.28856366  8.83995349 10.72075053  4.95327034  6.11251326\n",
      "  9.98261328  9.11053398 10.38922274  6.83554811 11.47561605  9.47095541\n",
      "  5.24334633  7.83030031 10.77255883 11.31247235  9.27026729 13.31649184\n",
      "  8.45181017  9.30977578  9.54332269  7.51675146  6.85399101  8.81732539\n",
      " 11.01086887 11.93793174  9.51812898  6.79237909  9.23498293  6.14227725\n",
      " 10.33745004  8.77934614 10.16025956  9.36688535 10.36422385  9.76884178\n",
      " 10.40619591 10.39461454 10.62123874  8.53085835  9.30550448 10.08824929\n",
      " 10.28883845 10.76390935 10.13769274 10.43364106  7.32318101  9.88528991\n",
      "  6.96357009  9.4087249  10.37520717  9.75017623  6.70484204  8.84027769\n",
      " 10.99309455  8.78772778  9.63643148  9.74414708  9.89760638 10.56394998\n",
      "  9.71963517  6.81629249 10.48851654  5.93140411  7.7263075  10.22635779\n",
      "  6.94060845  9.66289563 11.12015793  6.65209991  8.40981738 10.49255433\n",
      " 10.11344648  6.793152    8.34992351  8.25714203 10.69869565 11.27004737\n",
      " 12.48077048 11.26054257 11.62566258  6.95365202  9.80374157  7.14224713\n",
      "  8.74114334  7.43785547  5.89760928  6.8078302   9.83616728 10.98886511\n",
      " 10.96384706 11.08716042  9.57451808 12.5761948   7.44383587 11.86531159\n",
      "  7.88029492 10.67558693 10.8227374  10.51984945 10.14152546 10.93503034\n",
      "  6.96752088  9.26349531 10.77359968  7.59669948  9.32504839 11.18553761\n",
      " 10.65208802 10.86314565  9.42255648  9.92911747 10.70556267 10.60636249\n",
      " 11.65577697 10.19839051 11.08907863  6.65396435  9.72154675  7.23803472\n",
      " 11.68273785 10.31757741  6.44067343  8.17034484  9.84128472 11.66563378\n",
      "  8.77023213  9.34311689  8.47354445  6.70404281  8.38921416  9.4900603\n",
      " 10.17330235 10.01129704  6.77939764  9.21022565  9.35534845  7.89543779\n",
      " 11.20317251  7.87749116 11.53878316  4.74819125  8.84894414 10.74050099\n",
      "  6.51100192 10.24528009 11.37292807 10.49629632  9.97329555 11.38728671\n",
      " 10.71347105  9.81611569  9.23847877 11.65519804 10.38090775  5.80417557\n",
      "  8.97375161 10.53874848  8.72618191 11.58927104  9.63346533  9.16699882\n",
      "  8.42880972  9.89596774  8.67812383  6.8933525  11.27385356  8.51776197\n",
      " 10.8437036  12.10593802  5.39617685  4.6887415   9.91379123 11.70293804\n",
      "  9.69277403 11.37121032  9.15862479 12.18201356  4.84650509  8.65434757\n",
      " 10.24370126  5.38098432  9.13404567  8.72112404  9.96796875  7.78047634\n",
      " 10.56858567 12.45992454 12.05134193  9.25998366 11.01399288 12.00449485\n",
      " 10.3452943  11.2005339  10.84056243  9.77921867  9.88685058  6.81612534\n",
      " 11.95063546 12.02356839 11.64886579  5.72824949  8.91744837  9.47223926\n",
      "  7.01650066 12.14064741  8.4486089  12.06386092  8.01256788  8.13740194\n",
      " 11.81805975  9.70958966 12.16108846 11.12474237  9.90233811 10.91694018\n",
      " 11.45604677  9.13363821  9.86243265  9.48412026 10.68902192  9.77966264\n",
      " 11.71713093  9.6654149   7.15539096 10.73041309  9.28046787 13.9716539\n",
      " 10.30744118 10.44062352 11.85199946 12.20266164 10.43069679 12.11195622\n",
      "  8.68370184 10.18103792]\n",
      "actual result 468     17\n",
      "1859    10\n",
      "2675    10\n",
      "3570     9\n",
      "4109     8\n",
      "        ..\n",
      "763     14\n",
      "3147    13\n",
      "3987    11\n",
      "4114     9\n",
      "3868     8\n",
      "Name: Rings, Length: 818, dtype: int64\n"
     ]
    }
   ],
   "source": [
    "pred=svr.predict(x_test)\n",
    "print(\"predicted result \",pred)\n",
    "print('actual result',y_test)"
   ]
  },
  {
   "cell_type": "code",
   "execution_count": 95,
   "id": "237da3bb",
   "metadata": {},
   "outputs": [
    {
     "name": "stdout",
     "output_type": "stream",
     "text": [
      "Error:\n",
      "Mean Absolute Error : 1.4235410877882688\n",
      "Mean Squared Error : 4.063599178753776\n",
      "Root mean Squared Error 2.0158370913230503\n",
      "r2 score : 48.38393465093014\n"
     ]
    }
   ],
   "source": [
    "print('Error:')\n",
    "print('Mean Absolute Error :',mean_absolute_error(y_test,pred))\n",
    "print('Mean Squared Error :',mean_squared_error(y_test,pred))\n",
    "print('Root mean Squared Error',np.sqrt(mean_squared_error(y_test,pred)))\n",
    "print('r2 score :',r2_score(y_test,pred)*100)"
   ]
  },
  {
   "cell_type": "markdown",
   "id": "64bd90e0",
   "metadata": {},
   "source": [
    "### Support Vector Regressor( Kernel - linear )"
   ]
  },
  {
   "cell_type": "code",
   "execution_count": 96,
   "id": "02adc759",
   "metadata": {},
   "outputs": [
    {
     "data": {
      "text/plain": [
       "SVR(kernel='linear')"
      ]
     },
     "execution_count": 96,
     "metadata": {},
     "output_type": "execute_result"
    }
   ],
   "source": [
    "svl=SVR(kernel='linear')\n",
    "svl.fit(x_train,y_train)"
   ]
  },
  {
   "cell_type": "code",
   "execution_count": 97,
   "id": "460558d0",
   "metadata": {},
   "outputs": [
    {
     "name": "stdout",
     "output_type": "stream",
     "text": [
      "predicted result  [14.52128213 10.22876283 12.55973105 10.17915569  8.27951144 10.08794673\n",
      "  8.71229344  7.50546008  9.32252953 12.29290082 11.11287405  9.04674197\n",
      " 10.6708479  10.26386642  9.77939325  9.45225711  7.04257162  8.04821415\n",
      "  5.34840627 11.61880186 10.15362862  9.58045379 10.37830835  9.90430468\n",
      "  9.13483665 10.37272526 10.6458739   9.78059517 10.56852982  7.82924833\n",
      "  9.73839475  9.76072576 10.41310432 11.75219247  6.45214303  9.92417626\n",
      " 10.08550229 12.86706916 12.42678232  5.54932188  7.05421732 10.82223066\n",
      " 10.74257159  5.91724225  9.9780759   8.08490738 11.29370363 10.0368208\n",
      " 10.20290204  7.66292861  6.83015365  9.37938688 11.57585519  8.07666393\n",
      "  9.2133189   8.08564998 12.58235863 11.26772968  6.96395595  9.15770921\n",
      " 10.96019805  8.51658426 10.49560872  9.04676814  9.11248636  7.67586067\n",
      "  9.59383873 10.89515289 11.36665729  8.6275005   8.31107738 11.45452092\n",
      "  9.47474998  7.96065035 10.91212016  7.71423467 13.45897058 11.7528189\n",
      " 10.16939111  7.81638195  8.08058875 12.59812039 10.66871691 11.72540298\n",
      "  8.9140969   9.54883141  8.24528339  6.61346444  7.97177313  9.4674704\n",
      " 10.07379081  8.25335978  8.60137155 10.25098337  8.71659834 11.64949579\n",
      "  6.31492134  7.42170308  8.17931087 10.28215085 11.47761372 11.84228312\n",
      "  9.39574752  7.17655591 10.26346141  5.68844024 11.95743804 10.09481971\n",
      " 11.4636816  11.2430657  10.22981075 10.36275202  7.68105442 10.5728681\n",
      "  9.89811521  6.21748094  9.71139092  8.90296241 10.78067943  8.2456202\n",
      "  7.96653082 10.89102133 11.47222427  8.67272935  8.02855441  6.14840036\n",
      " 11.31914723  9.4441609   8.42867443  5.14297888  7.1354684   9.61380677\n",
      "  8.02112002  9.46928419 10.79385355  5.9971715   9.27628886  8.63846346\n",
      " 11.24410916 10.22073325 11.33498219  5.39160995 14.54701524  6.38634439\n",
      "  9.14278131  7.2406052   9.60946324 11.31411503  8.69427946 10.12137868\n",
      "  7.59271763 11.93033929  6.12649691  8.95850479  7.63139237 11.75562264\n",
      "  6.52511695  9.49142326 12.03836652  6.42879574  6.49700777 11.75760532\n",
      "  8.50155663  9.82406879  9.70400261 10.33978993  9.32196177 10.54683642\n",
      "  5.79826588  9.99021651  9.35145793  9.77083697 11.95119174 11.48106565\n",
      " 11.03356802 11.43408623  9.78743782  9.71088709 12.25693314 12.47727084\n",
      "  8.31855488  9.83953641 11.48478925  7.65963646  6.83618024  8.00156632\n",
      "  7.5151377  11.62787268 13.55403567  6.22393669 12.46012085 10.31089716\n",
      "  6.91453116  9.01268659  9.71812976 13.14820176  8.68682391  7.71050713\n",
      " 12.35497385  6.95947908 10.26039794  6.88493835  7.84548003  7.14551389\n",
      "  9.09750853  7.55742103 10.59976353 12.15735308 13.07369679  7.35381021\n",
      " 11.41112053  9.16620356  7.81955137  6.78570424  9.80683236  7.18572834\n",
      "  8.38555287  6.88579414  6.00195384 13.38044024  9.59715337  8.73690501\n",
      " 10.96022667  7.50173651  8.79525437  7.58986186  8.1217548   9.55442903\n",
      "  9.08504308  8.94016813 12.16954493  8.50456697 10.04978191  5.83294003\n",
      " 12.08187227  6.14440995  9.82444797  6.19792826 11.28113265  7.29974409\n",
      "  7.63168718  8.67677323  6.23192418  6.86350418  5.42435071  9.72004826\n",
      "  9.64447039  5.00941762 11.67618113  9.46162863  9.55933842 12.14749403\n",
      "  6.45593538  9.86059851  9.49011588  7.9882923   6.57036934  9.03201543\n",
      "  8.11709508  9.42198902 11.07078491 10.5893848   9.46876372 11.35739748\n",
      "  8.85547924 12.48773267  9.33247369 10.78849382  6.20033156 10.15337957\n",
      " 10.09236146  9.19677723  9.19853714 10.11547624  7.07896324  5.96979125\n",
      "  6.90931688  8.47494202 12.2572746   8.72176742 10.27676697 10.99161463\n",
      "  9.6881215   8.62107772  5.43191493 10.45787461 10.6630894   8.81433439\n",
      " 12.0368192   9.06859398 12.46390283  6.41702447 11.4409686   7.21516493\n",
      "  9.55475573  9.41408978 12.63609874 11.68421134  5.49946058  9.21262748\n",
      " 10.2134883  11.89138306 10.73168662 10.97308076  8.94030396  9.37499295\n",
      " 11.98250032  9.84722099  5.97407611  9.05729206  9.85406071 11.61654534\n",
      " 10.37074696  6.80833224  8.83238815  9.1372266   6.86922579  6.88444177\n",
      "  8.32464159 12.74784917  9.56967478 11.66085308  9.12411766 10.31778361\n",
      "  5.74534035 10.34631496  7.71439652  8.83257845 11.10856902 12.36318527\n",
      " 10.19091868  7.68757783  7.64806995 11.72217982 12.08801367 11.61207477\n",
      " 12.04012431 13.6356319   8.9984854   6.61932399 11.49467906  8.05355531\n",
      "  9.31767953  8.12610326  9.94767282  9.495876    9.52137912  6.53515404\n",
      "  7.44569271  9.53771225  8.69192118  9.13108736  6.24783863 10.22886388\n",
      "  9.24652759 10.97647524 12.52038199  6.32683267 10.33539474  9.14564281\n",
      "  9.97546967 10.65647102  9.74274999 10.4124458   7.69502091  8.21640854\n",
      "  8.05109978  8.02764476  9.42612581  6.46454419  7.66137198  6.75442878\n",
      "  9.08184527 10.67703307 11.31452384  8.49330897 10.98059331  7.39943594\n",
      "  5.31526163  9.8793283   7.30028592 10.9956272  10.39019289 10.58697899\n",
      "  9.31916551 10.02119817  8.66032608 12.61497727  9.52419214 12.15185705\n",
      " 13.73059257  9.92487371  7.6988437   8.84438472  8.97560459  7.66094957\n",
      " 12.10549454 10.29726294  9.19858745  9.80668137 10.14387153  8.85649626\n",
      "  8.44273825  7.40215093 11.00660428 10.06821966 10.94542025  7.168609\n",
      "  5.54642599 12.05765905  9.53900989  8.80641765  9.58817749  7.53817099\n",
      " 10.74543487  7.08741931  8.57286392 10.22721532  8.2545697   9.46283338\n",
      "  9.49500671 10.25307929  9.48239319 10.60330471  9.62455541  7.53708499\n",
      "  8.74512523  8.11863257 10.37106794 11.29000398 11.96447458  7.53904327\n",
      "  6.83295791 10.15394688 10.84999159 10.5164641   8.04378336  7.93362207\n",
      "  8.80119871 10.92070945 11.21380159  9.76876436  9.9631347   8.60853823\n",
      "  8.8438918  10.56541196 10.93169541  8.69228974 10.59560173  8.42340945\n",
      " 12.18204657 10.32076278  6.55811452  9.8657589   9.72283696 10.14549202\n",
      "  7.90050919  9.57130542 10.12702977 12.02006465  8.85571304 10.58095922\n",
      "  8.85631015  9.16401767 10.63598445  8.57156305  9.633532   10.03824342\n",
      " 10.01579482 11.47094989 10.19970909  8.87999778  8.0425196  10.9043904\n",
      "  7.35751896  6.20765709  8.98240374  5.44096053  8.65876596  7.89917483\n",
      "  8.98564191 11.43130314  9.21027726 11.209444   11.20309097  8.54643002\n",
      "  9.80439665  7.63443771 11.30695975  7.07002481  8.94845457 10.96736691\n",
      " 11.98070876  6.70252146  6.37287223  9.88662843 11.58289895 11.61219037\n",
      " 11.55336297 12.44999113  6.89639321  6.58093302  9.88246347  8.74859078\n",
      " 10.29162343  6.8294861   9.38682268  8.48032837  7.37126267  7.36378351\n",
      "  9.45589702 12.32304638 10.2400229   8.9433877   9.75431647  9.78398682\n",
      "  8.51032266 10.85742296  8.46483363  8.89643754  7.58426346 10.26602192\n",
      "  6.27538272  9.42371208  7.054597    6.14388113  8.92100771  7.07528655\n",
      " 11.60721595 12.05254814 11.07037805  9.22492008 11.94642393 13.48100176\n",
      " 10.54736499 11.91389132  6.8773812   5.60269031  6.04151682  7.57768177\n",
      "  9.52108594  8.962932    7.65339812 11.01446235  9.2141038  10.80799327\n",
      "  8.41347245  9.61495142  8.92305557  8.32096398  8.21581212  9.25401109\n",
      " 10.79529077  9.67450741 12.7382209   9.49378617  7.27354672  8.0455266\n",
      "  7.53292491 11.40085515  5.62150119 10.17238543  7.83138391 10.15694517\n",
      " 10.2180502  11.20637154  9.67483655  7.49652287  7.39704208  6.89795088\n",
      "  7.49181036  8.76260489  5.94244769  7.25300409  9.94650026  6.68363749\n",
      "  7.91290001  7.08708235  9.37184807  7.2067662   9.97283884 11.07576572\n",
      "  8.61233646  8.63994781  7.5064361  10.48827056  5.68282333  6.03055111\n",
      "  9.00733148  9.33767014 10.56104857  6.05385264 12.21378073  9.487011\n",
      "  5.53365669  8.07944948 10.48251212 11.27400533  9.16604818 13.26562265\n",
      "  8.71932774  8.03671898  8.54601338  7.70422415  6.9738835   7.81775835\n",
      " 10.79189081 12.59448067 10.05351567  7.08825779  8.54133065  6.35698312\n",
      " 10.57986033  8.9404063   9.98729542  9.44784697 10.60492928  8.50084864\n",
      "  7.93678834  9.68744716 10.00180956  7.97538013  8.8210448  10.93855726\n",
      "  9.85368245 10.38127037  9.78011937 10.54748797  7.50472215 10.03423094\n",
      "  7.57979508  9.48162105 10.20205258  9.62734433  6.71388247  9.05137185\n",
      " 10.49063694  8.27310525  8.94028805  9.58708242 10.10948265 11.19514971\n",
      "  9.68244226  7.08112154 10.7799992   6.38239514  8.13954712  9.28585279\n",
      "  7.1867907   9.52149781 11.06696833  6.6901642   8.74358468 10.89065288\n",
      "  9.11724582  7.00050137  7.60602593  8.49974856 10.30818602  9.88939653\n",
      " 12.68992189 11.21718234 13.10192197  7.21848029  9.88908158  7.3409138\n",
      "  8.79294524  7.71694645  6.24241304  7.19539848  9.66741363 10.91510779\n",
      " 10.77148383 11.67619445  9.25656549 11.87784004  7.7139019  12.77381541\n",
      "  7.06247046 10.2431842  11.22702503 10.12480214 10.59430962 10.80846962\n",
      "  7.18080218  9.02242129 10.76478532  7.78034407  8.36031838 10.94245529\n",
      " 10.77366092 11.39525428  9.34443879  9.74808918 11.06942263 10.02477196\n",
      " 11.75429128 10.3257078  11.33819145  6.84434608  9.59702774  7.49208092\n",
      " 10.57467532 10.20793189  6.53092205  8.45216458  9.73986868 11.15529336\n",
      "  8.82075319  9.26339666  8.76657637  6.94250693  8.70680853  9.50447878\n",
      " 10.15872924 10.13592265  7.1372981   9.24991103  9.48001043  7.38973764\n",
      " 10.66089842  7.61752375 12.56173977  5.91876533  8.06581023 10.34670766\n",
      "  5.91777587 10.55969341 11.71921683 10.32449686 10.10773166 11.95629343\n",
      "  9.99326305  9.73486684  8.54589527 12.1937682  10.46996583  6.40603925\n",
      "  9.03027228 10.91551712  8.2859153  11.7368399   9.4746625   8.64751014\n",
      "  8.58506295 10.04583951  7.37479987  6.85760211 12.97607714  8.74613112\n",
      " 11.08245712 12.54129289  5.85262049  5.62928923  9.75113464 13.88442132\n",
      "  9.64174609 12.30327424  8.75023649 12.36016443  5.71447661  9.04147998\n",
      " 10.62995027  6.17098853  8.69529132  7.78761949 10.03561733  7.86915046\n",
      " 10.57512234 12.51793355 12.97318658  9.34709661 11.21340478 10.80787254\n",
      " 10.49186491 10.40991165 10.74362623  9.90321353  9.12305211  6.69882928\n",
      " 12.9668273  11.64390997 11.31296004  5.96362132  8.13881795  9.00486986\n",
      "  7.21005338 13.5712109   8.19422745 10.77558495  8.37667882  8.43894993\n",
      " 11.04266318  9.7264746  13.59762124 11.31014282  9.97460627 11.31728308\n",
      " 12.22722555 10.00445153  8.84905025  9.33101332 10.33371268  9.81209497\n",
      " 11.59510531  9.17960112  6.81923504 10.80618622  9.44539629 14.84672869\n",
      "  9.2042102  10.21036595 13.18140156 12.47988117 10.77890867 12.96933324\n",
      "  8.3891193   9.01839345]\n",
      "actual result 468     17\n",
      "1859    10\n",
      "2675    10\n",
      "3570     9\n",
      "4109     8\n",
      "        ..\n",
      "763     14\n",
      "3147    13\n",
      "3987    11\n",
      "4114     9\n",
      "3868     8\n",
      "Name: Rings, Length: 818, dtype: int64\n"
     ]
    }
   ],
   "source": [
    "pred=svl.predict(x_test)\n",
    "print(\"predicted result \",pred)\n",
    "print('actual result',y_test)"
   ]
  },
  {
   "cell_type": "code",
   "execution_count": 98,
   "id": "d3c766a9",
   "metadata": {},
   "outputs": [
    {
     "name": "stdout",
     "output_type": "stream",
     "text": [
      "Error:\n",
      "Mean Absolute Error : 1.452762623074415\n",
      "Mean Squared Error : 4.22969182618783\n",
      "Root mean Squared Error 2.0566214591382224\n",
      "r2 score : 46.27421650038524\n"
     ]
    }
   ],
   "source": [
    "print('Error:')\n",
    "print('Mean Absolute Error :',mean_absolute_error(y_test,pred))\n",
    "print('Mean Squared Error :',mean_squared_error(y_test,pred))\n",
    "print('Root mean Squared Error',np.sqrt(mean_squared_error(y_test,pred)))\n",
    "print('r2 score :',r2_score(y_test,pred)*100)"
   ]
  },
  {
   "cell_type": "code",
   "execution_count": 109,
   "id": "66b3b6ad",
   "metadata": {},
   "outputs": [
    {
     "data": {
      "text/plain": [
       "0.40454602859797395"
      ]
     },
     "execution_count": 109,
     "metadata": {},
     "output_type": "execute_result"
    }
   ],
   "source": [
    "from sklearn.ensemble import RandomForestRegressor\n",
    "regr = RandomForestRegressor(max_depth=2, random_state=0,\n",
    "                              n_estimators=100)\n",
    "regr.fit(x_train, y_train)\n",
    "regr.fit(x_test, y_test)\n",
    "y_train_pred = regr.predict(x_train)\n",
    "y_test_pred = regr.predict(x_test)\n",
    "\n",
    "regr.score(x_train, y_train)"
   ]
  },
  {
   "cell_type": "markdown",
   "id": "aeaadab7",
   "metadata": {},
   "source": [
    "# Cross Validation"
   ]
  },
  {
   "cell_type": "code",
   "execution_count": 99,
   "id": "bf5bf817",
   "metadata": {},
   "outputs": [
    {
     "name": "stdout",
     "output_type": "stream",
     "text": [
      "Cross Score of Linear Regression Model : 38.13835655139443\n"
     ]
    }
   ],
   "source": [
    "from sklearn.model_selection import cross_val_score\n",
    "\n",
    "scr=cross_val_score(lr,x,y,cv=5)\n",
    "print(\"Cross Score of Linear Regression Model :\",scr.mean()*100)"
   ]
  },
  {
   "cell_type": "code",
   "execution_count": 100,
   "id": "aee4764c",
   "metadata": {},
   "outputs": [
    {
     "name": "stdout",
     "output_type": "stream",
     "text": [
      "Cross Score of Decission Tree Regression Model : -14.603138158326697\n"
     ]
    }
   ],
   "source": [
    "scr=cross_val_score(dtr,x,y,cv=5)\n",
    "print(\"Cross Score of Decission Tree Regression Model :\",scr.mean()*100)"
   ]
  },
  {
   "cell_type": "code",
   "execution_count": 101,
   "id": "7373ad84",
   "metadata": {},
   "outputs": [
    {
     "name": "stdout",
     "output_type": "stream",
     "text": [
      "Cross Score of KNieghbour Regression Model : 34.92511233227231\n"
     ]
    }
   ],
   "source": [
    "scr=cross_val_score(knr,x,y,cv=5)\n",
    "print(\"Cross Score of KNieghbour Regression Model :\",scr.mean()*100)"
   ]
  },
  {
   "cell_type": "code",
   "execution_count": 103,
   "id": "c3326ec5",
   "metadata": {},
   "outputs": [
    {
     "name": "stdout",
     "output_type": "stream",
     "text": [
      "Cross Score of Support Vector Regression Model : 43.77182369622754\n"
     ]
    }
   ],
   "source": [
    "scr=cross_val_score(svr,x,y,cv=5)\n",
    "print(\"Cross Score of Support Vector Regression Model :\",scr.mean()*100)"
   ]
  },
  {
   "cell_type": "code",
   "execution_count": 104,
   "id": "d524516f",
   "metadata": {},
   "outputs": [
    {
     "name": "stdout",
     "output_type": "stream",
     "text": [
      "Cross Score of Support Vector Regression Model ( kernel - linear) : 38.47554036933352\n"
     ]
    }
   ],
   "source": [
    "scr=cross_val_score(svl,x,y,cv=5)\n",
    "print(\"Cross Score of Support Vector Regression Model ( kernel - linear) :\",scr.mean()*100)"
   ]
  },
  {
   "cell_type": "markdown",
   "id": "d259b047",
   "metadata": {},
   "source": [
    "### Regularization"
   ]
  },
  {
   "cell_type": "code",
   "execution_count": 111,
   "id": "9c669982",
   "metadata": {},
   "outputs": [
    {
     "name": "stdout",
     "output_type": "stream",
     "text": [
      "{'alpha': 0.001, 'random_state': 0}\n"
     ]
    }
   ],
   "source": [
    "from sklearn.linear_model import Lasso\n",
    "from sklearn.model_selection import GridSearchCV\n",
    "\n",
    "parameters = {'alpha':[.0001,.001,.01,.1,1,10],'random_state':list(range(0,10))}\n",
    "ls=Lasso()\n",
    "clf=GridSearchCV(ls,parameters)\n",
    "clf.fit(x_train,y_train)\n",
    "\n",
    "print(clf.best_params_)"
   ]
  },
  {
   "cell_type": "code",
   "execution_count": 112,
   "id": "d32d969f",
   "metadata": {},
   "outputs": [
    {
     "data": {
      "text/plain": [
       "47.62702663292602"
      ]
     },
     "execution_count": 112,
     "metadata": {},
     "output_type": "execute_result"
    }
   ],
   "source": [
    "ls=Lasso(alpha=0.0001,random_state=0)\n",
    "ls.fit(x_train,y_train)\n",
    "ls_score_training=ls.score(x_train,y_train)\n",
    "pred_ls = ls.predict(x_test)\n",
    "ls_score_training*100"
   ]
  },
  {
   "cell_type": "code",
   "execution_count": 113,
   "id": "f8c37371",
   "metadata": {},
   "outputs": [
    {
     "data": {
      "text/plain": [
       "48.08281740926993"
      ]
     },
     "execution_count": 113,
     "metadata": {},
     "output_type": "execute_result"
    }
   ],
   "source": [
    "lss=r2_score(y_test,pred_ls)\n",
    "lss*100"
   ]
  },
  {
   "cell_type": "markdown",
   "id": "0ee47992",
   "metadata": {},
   "source": [
    "# Thank you"
   ]
  }
 ],
 "metadata": {
  "kernelspec": {
   "display_name": "Python 3 (ipykernel)",
   "language": "python",
   "name": "python3"
  },
  "language_info": {
   "codemirror_mode": {
    "name": "ipython",
    "version": 3
   },
   "file_extension": ".py",
   "mimetype": "text/x-python",
   "name": "python",
   "nbconvert_exporter": "python",
   "pygments_lexer": "ipython3",
   "version": "3.9.7"
  }
 },
 "nbformat": 4,
 "nbformat_minor": 5
}
